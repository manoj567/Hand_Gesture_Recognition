{
 "cells": [
  {
   "cell_type": "markdown",
   "metadata": {},
   "source": [
    "# Gesture Recognition\n",
    "In this group project, you are going to build a 3D Conv model that will be able to predict the 5 gestures correctly. Please import the following libraries to get started. Once you have completed the code you can download the notebook for making a submission."
   ]
  },
  {
   "cell_type": "code",
   "execution_count": 1,
   "metadata": {},
   "outputs": [],
   "source": [
    "import numpy as np\n",
    "import os\n",
    "from imageio import imread\n",
    "from skimage.transform import resize\n",
    "import datetime\n",
    "import os"
   ]
  },
  {
   "cell_type": "markdown",
   "metadata": {},
   "source": [
    "We set the random seed so that the results don't vary drastically."
   ]
  },
  {
   "cell_type": "code",
   "execution_count": 2,
   "metadata": {},
   "outputs": [],
   "source": [
    "np.random.seed(30)\n",
    "import random as rn\n",
    "rn.seed(30)\n",
    "from tensorflow import keras\n",
    "import tensorflow as tf\n",
    "tf.random.set_seed(30)"
   ]
  },
  {
   "cell_type": "code",
   "execution_count": 3,
   "metadata": {},
   "outputs": [],
   "source": [
    "rows = 120   # X \n",
    "cols = 120   # Y \n",
    "channel = 3  # number of channels in images 3 for color(RGB)\n",
    "frames=15"
   ]
  },
  {
   "cell_type": "code",
   "execution_count": 4,
   "metadata": {},
   "outputs": [],
   "source": [
    "##crop image and resize image\n",
    "def crop_resize_img(img):\n",
    "    if img.shape[0] != img.shape[1]:\n",
    "        img=img[0:120,10:150]\n",
    "    resized_image = resize(img, (rows,cols))\n",
    "    return resized_image\n"
   ]
  },
  {
   "cell_type": "code",
   "execution_count": 5,
   "metadata": {},
   "outputs": [],
   "source": [
    "##noramlization\n",
    "def normalize_image(img):\n",
    "    norm_image = (img - np.min(img))/(np.max(img) - np.min(img))\n",
    "    return norm_image\n",
    "    "
   ]
  },
  {
   "cell_type": "code",
   "execution_count": null,
   "metadata": {},
   "outputs": [],
   "source": []
  },
  {
   "cell_type": "code",
   "execution_count": null,
   "metadata": {},
   "outputs": [],
   "source": []
  },
  {
   "cell_type": "code",
   "execution_count": null,
   "metadata": {},
   "outputs": [],
   "source": []
  },
  {
   "cell_type": "markdown",
   "metadata": {},
   "source": [
    "In this block, you read the folder names for training and validation. You also set the `batch_size` here. Note that you set the batch size in such a way that you are able to use the GPU in full capacity. You keep increasing the batch size until the machine throws an error."
   ]
  },
  {
   "cell_type": "markdown",
   "metadata": {},
   "source": [
    "**data path: /home/datasets/Project_data**"
   ]
  },
  {
   "cell_type": "code",
   "execution_count": 6,
   "metadata": {},
   "outputs": [],
   "source": [
    "train_doc = np.random.permutation(open('/home/datasets/Project_data/train.csv').readlines())\n",
    "val_doc = np.random.permutation(open('/home/datasets/Project_data/val.csv').readlines())\n",
    "batch_size = 30 #experiment with the batch size"
   ]
  },
  {
   "cell_type": "markdown",
   "metadata": {},
   "source": [
    "## Generator\n",
    "This is one of the most important part of the code. The overall structure of the generator has been given. In the generator, you are going to preprocess the images as you have images of 2 different dimensions as well as create a batch of video frames. You have to experiment with `img_idx`, `y`,`z` and normalization such that you get high accuracy."
   ]
  },
  {
   "cell_type": "code",
   "execution_count": 7,
   "metadata": {},
   "outputs": [],
   "source": [
    "def generator(source_path, folder_list, batch_size):\n",
    "    print( 'Source path = ', source_path, '; batch size =', batch_size)\n",
    "    img_idx = [x for x in range(0,30,2)]#create a list of image numbers you want to use for a particular video\n",
    "    while True:\n",
    "        t = np.random.permutation(folder_list)\n",
    "        num_batches = len(source_path)//batch_size # calculate the number of batches\n",
    "        for batch in range(num_batches): # we iterate over the number of batches\n",
    "            batch_data = np.zeros((batch_size,15,120,120,3)) # x is the number of images you use for each video, (y,z) is the final size of the input images and 3 is the number of channels RGB\n",
    "            batch_labels = np.zeros((batch_size,5)) # batch_labels is the one hot representation of the output\n",
    "            for folder in range(batch_size): # iterate over the batch_size\n",
    "                imgs = os.listdir(source_path+'/'+ t[folder + (batch*batch_size)].split(';')[0]) # read all the images in the folder\n",
    "                for idx,item in enumerate(img_idx): #  Iterate iver the frames/images of a folder to read them in\n",
    "                    image = imread(source_path+'/'+ t[folder + (batch*batch_size)].strip().split(';')[0]+'/'+imgs[item]).astype(np.float32)\n",
    "                    \n",
    "                    #crop the images and resize them. Note that the images are of 2 different shape \n",
    "                    #and the conv3D will throw error if the inputs in a batch have different shapes\n",
    "                    resized_image = crop_resize_img(image)\n",
    "                    \n",
    "                    batch_data[folder,idx,:,:,0] = normalize_image(resized_image[:, : , 0]) #normalise and feed in the image\n",
    "                    batch_data[folder,idx,:,:,1] = normalize_image(resized_image[:, : , 1]) #normalise and feed in the image\n",
    "                    batch_data[folder,idx,:,:,2] = normalize_image(resized_image[:, : , 2]) #normalise and feed in the image\n",
    "                    \n",
    "                batch_labels[folder, int(t[folder + (batch*batch_size)].strip().split(';')[2])] = 1\n",
    "            yield batch_data, batch_labels #you yield the batch_data and the batch_labels, remember what does yield do\n",
    "    \n",
    "        \n",
    "        # write the code for the remaining data points which are left after full batches\n",
    "    if((len(source_path)%batch_size)//2==0):\n",
    "            batch_size = 2\n",
    "    else:\n",
    "            batch_size = 1\n",
    "    num_batches = len(source_path)%batch_size \n",
    "    for batch in range(num_batches): # we iterate over the number of batches\n",
    "            batch_data = np.zeros((batch_size,15,120,120,3)) # x is the number of images you use for each video, (y,z) is the final size of the input images and 3 is the number of channels RGB\n",
    "            batch_labels = np.zeros((batch_size,5)) # batch_labels is the one hot representation of the output\n",
    "            for folder in range(batch_size): # iterate over the batch_size\n",
    "                imgs = os.listdir(source_path+'/'+ t[folder + (batch*batch_size)].split(';')[0]) # read all the images in the folder\n",
    "                for idx,item in enumerate(img_idx): #  Iterate iver the frames/images of a folder to read them in\n",
    "                    image = imread(source_path+'/'+ t[folder + (batch*batch_size)].strip().split(';')[0]+'/'+imgs[item]).astype(np.float32)\n",
    "                    \n",
    "                    #crop the images and resize them. Note that the images are of 2 different shape \n",
    "                    #and the conv3D will throw error if the inputs in a batch have different shapes\n",
    "                    resized_image = crop_resize_img(image)\n",
    "                    \n",
    "                    batch_data[folder,idx,:,:,0] = normalize_image(resized_image[:, : , 0]) #normalise and feed in the image\n",
    "                    batch_data[folder,idx,:,:,1] = normalize_image(resized_image[:, : , 1]) #normalise and feed in the image\n",
    "                    batch_data[folder,idx,:,:,2] = normalize_image(resized_image[:, : , 2]) #normalise and feed in the image\n",
    "                    \n",
    "                batch_labels[folder, int(t[folder + (batch*batch_size)].strip().split(';')[2])] = 1\n",
    "            yield batch_data, batch_labels #you yield the batch_data and the batch_labels, remember what does yield do\n",
    "    "
   ]
  },
  {
   "cell_type": "markdown",
   "metadata": {},
   "source": [
    "Note here that a video is represented above in the generator as (number of images, height, width, number of channels). Take this into consideration while creating the model architecture."
   ]
  },
  {
   "cell_type": "code",
   "execution_count": 8,
   "metadata": {},
   "outputs": [
    {
     "name": "stdout",
     "output_type": "stream",
     "text": [
      "# training sequences = 663\n",
      "# validation sequences = 100\n"
     ]
    }
   ],
   "source": [
    "curr_dt_time = datetime.datetime.now()\n",
    "train_path = '/home/datasets/Project_data/train'\n",
    "val_path = '/home/datasets/Project_data/val'\n",
    "num_train_sequences = len(train_doc)\n",
    "print('# training sequences =', num_train_sequences)\n",
    "num_val_sequences = len(val_doc)\n",
    "print('# validation sequences =', num_val_sequences)\n",
    "#num_epochs = 10 # choose the number of epochs\n",
    "#print ('# epochs =', num_epochs)"
   ]
  },
  {
   "cell_type": "markdown",
   "metadata": {},
   "source": [
    "## Model\n",
    "Here you make the model using different functionalities that Keras provides. Remember to use `Conv3D` and `MaxPooling3D` and not `Conv2D` and `Maxpooling2D` for a 3D convolution model. You would want to use `TimeDistributed` while building a Conv2D + RNN model. Also remember that the last layer is the softmax. Design the network in such a way that the model is able to give good accuracy on the least number of parameters so that it can fit in the memory of the webcam."
   ]
  },
  {
   "cell_type": "code",
   "execution_count": 9,
   "metadata": {},
   "outputs": [],
   "source": [
    "from tensorflow.keras.models import Sequential\n",
    "from tensorflow.keras.layers import Dense, GRU, Dropout, Flatten, BatchNormalization, Activation, LSTM,Conv3D,TimeDistributed,MaxPooling2D,Conv2D, MaxPooling3D,BatchNormalization,Dropout\n",
    "from tensorflow.keras.callbacks import ModelCheckpoint, ReduceLROnPlateau\n",
    "from tensorflow.keras import optimizers\n",
    "from tensorflow.keras.callbacks import EarlyStopping\n",
    "from tensorflow.keras import regularizers"
   ]
  },
  {
   "cell_type": "markdown",
   "metadata": {},
   "source": [
    "## Model1 ....> conv3d"
   ]
  },
  {
   "cell_type": "code",
   "execution_count": 20,
   "metadata": {},
   "outputs": [
    {
     "name": "stdout",
     "output_type": "stream",
     "text": [
      "Model: \"sequential_2\"\n",
      "_________________________________________________________________\n",
      "Layer (type)                 Output Shape              Param #   \n",
      "=================================================================\n",
      "conv3d_6 (Conv3D)            (None, 15, 120, 120, 32)  2624      \n",
      "_________________________________________________________________\n",
      "max_pooling3d_6 (MaxPooling3 (None, 7, 60, 60, 32)     0         \n",
      "_________________________________________________________________\n",
      "conv3d_7 (Conv3D)            (None, 7, 60, 60, 64)     55360     \n",
      "_________________________________________________________________\n",
      "max_pooling3d_7 (MaxPooling3 (None, 3, 30, 30, 64)     0         \n",
      "_________________________________________________________________\n",
      "conv3d_8 (Conv3D)            (None, 3, 30, 30, 128)    221312    \n",
      "_________________________________________________________________\n",
      "max_pooling3d_8 (MaxPooling3 (None, 1, 15, 15, 128)    0         \n",
      "_________________________________________________________________\n",
      "flatten_2 (Flatten)          (None, 28800)             0         \n",
      "_________________________________________________________________\n",
      "dense_4 (Dense)              (None, 544)               15667744  \n",
      "_________________________________________________________________\n",
      "dense_5 (Dense)              (None, 5)                 2725      \n",
      "=================================================================\n",
      "Total params: 15,949,765\n",
      "Trainable params: 15,949,765\n",
      "Non-trainable params: 0\n",
      "_________________________________________________________________\n"
     ]
    }
   ],
   "source": [
    "\n",
    "#write your model here\n",
    "input_shape=(15,120,120,3)\n",
    "model1=Sequential()\n",
    "model1.add(Conv3D(32,(3,3,3),activation='relu',padding='same',input_shape=input_shape))\n",
    "model1.add(MaxPooling3D((2,2,2)))\n",
    "model1.add(Conv3D(64,(3,3,3),padding='same',activation='relu'))\n",
    "model1.add(MaxPooling3D((2,2,2)))\n",
    "model1.add(Conv3D(128,(3,3,3),padding='same',activation='relu'))\n",
    "model1.add(MaxPooling3D((2,2,2)))\n",
    "model1.add(Flatten())\n",
    "model1.add(Dense(544))\n",
    "model1.add(Dense(5,activation='softmax'))\n",
    "model1.summary()\n",
    "\n",
    "#write your model here"
   ]
  },
  {
   "cell_type": "markdown",
   "metadata": {},
   "source": [
    "Now that you have written the model, the next step is to `compile` the model. When you print the `summary` of the model, you'll see the total number of parameters you have to train."
   ]
  },
  {
   "cell_type": "code",
   "execution_count": 10,
   "metadata": {
    "scrolled": true
   },
   "outputs": [
    {
     "name": "stdout",
     "output_type": "stream",
     "text": [
      "Model: \"sequential\"\n",
      "_________________________________________________________________\n",
      "Layer (type)                 Output Shape              Param #   \n",
      "=================================================================\n",
      "conv3d (Conv3D)              (None, 15, 120, 120, 32)  2624      \n",
      "_________________________________________________________________\n",
      "max_pooling3d (MaxPooling3D) (None, 7, 60, 60, 32)     0         \n",
      "_________________________________________________________________\n",
      "conv3d_1 (Conv3D)            (None, 7, 60, 60, 64)     55360     \n",
      "_________________________________________________________________\n",
      "max_pooling3d_1 (MaxPooling3 (None, 3, 30, 30, 64)     0         \n",
      "_________________________________________________________________\n",
      "conv3d_2 (Conv3D)            (None, 3, 30, 30, 128)    221312    \n",
      "_________________________________________________________________\n",
      "max_pooling3d_2 (MaxPooling3 (None, 1, 15, 15, 128)    0         \n",
      "_________________________________________________________________\n",
      "flatten (Flatten)            (None, 28800)             0         \n",
      "_________________________________________________________________\n",
      "dense (Dense)                (None, 544)               15667744  \n",
      "_________________________________________________________________\n",
      "dense_1 (Dense)              (None, 5)                 2725      \n",
      "=================================================================\n",
      "Total params: 15,949,765\n",
      "Trainable params: 15,949,765\n",
      "Non-trainable params: 0\n",
      "_________________________________________________________________\n",
      "None\n"
     ]
    }
   ],
   "source": [
    "optimiser = keras.optimizers.Adam(lr=0.001) #write your optimizer\n",
    "model1.compile(optimizer=optimiser, loss='categorical_crossentropy', metrics=['categorical_accuracy'])\n",
    "print (model1.summary())"
   ]
  },
  {
   "cell_type": "markdown",
   "metadata": {},
   "source": [
    "Let us create the `train_generator` and the `val_generator` which will be used in `.fit_generator`."
   ]
  },
  {
   "cell_type": "code",
   "execution_count": 11,
   "metadata": {},
   "outputs": [],
   "source": [
    "train_generator = generator(train_path, train_doc, batch_size)\n",
    "val_generator = generator(val_path, val_doc, batch_size)"
   ]
  },
  {
   "cell_type": "code",
   "execution_count": 12,
   "metadata": {},
   "outputs": [
    {
     "name": "stdout",
     "output_type": "stream",
     "text": [
      "WARNING:tensorflow:`period` argument is deprecated. Please use `save_freq` to specify the frequency in number of batches seen.\n"
     ]
    }
   ],
   "source": [
    "model_name = 'simple_conv3d' + '_' + str(curr_dt_time).replace(' ','').replace(':','_') + '/'\n",
    "    \n",
    "if not os.path.exists(model_name):\n",
    "    os.mkdir(model_name)\n",
    "        \n",
    "filepath = model_name + 'model-{epoch:05d}-{loss:.5f}-{categorical_accuracy:.5f}-{val_loss:.5f}-{val_categorical_accuracy:.5f}.h5'\n",
    "\n",
    "checkpoint = ModelCheckpoint(filepath, monitor='val_loss', verbose=1, save_best_only=False, save_weights_only=False, mode='auto', period=1)\n",
    "\n",
    "LR = ReduceLROnPlateau(monitor='val_loss',factor=0.1,patience=6)# write the REducelronplateau code here\n",
    "callbacks_list = [checkpoint, LR]"
   ]
  },
  {
   "cell_type": "markdown",
   "metadata": {},
   "source": [
    "The `steps_per_epoch` and `validation_steps` are used by `fit` method to decide the number of next() calls it need to make."
   ]
  },
  {
   "cell_type": "code",
   "execution_count": 13,
   "metadata": {},
   "outputs": [],
   "source": [
    "if (num_train_sequences%batch_size) == 0:\n",
    "    steps_per_epoch = int(num_train_sequences/batch_size)\n",
    "else:\n",
    "    steps_per_epoch = (num_train_sequences//batch_size) + 1\n",
    "\n",
    "if (num_val_sequences%batch_size) == 0:\n",
    "    validation_steps = int(num_val_sequences/batch_size)\n",
    "else:\n",
    "    validation_steps = (num_val_sequences//batch_size) + 1"
   ]
  },
  {
   "cell_type": "markdown",
   "metadata": {},
   "source": [
    "Let us now fit the model. This will start training the model and with the help of the checkpoints, you'll be able to save the model at the end of each epoch."
   ]
  },
  {
   "cell_type": "code",
   "execution_count": 14,
   "metadata": {},
   "outputs": [
    {
     "name": "stdout",
     "output_type": "stream",
     "text": [
      "Source path =  /home/datasets/Project_data/train ; batch size = 30\n",
      "Epoch 1/10\n",
      "23/23 [==============================] - ETA: 0s - loss: 3.3837 - categorical_accuracy: 0.2145Source path =  /home/datasets/Project_data/val ; batch size = 30\n",
      "\n",
      "Epoch 00001: saving model to simple_conv3d_2021-05-2505_46_35.221391/model-00001-3.38365-0.21449-1.58679-0.24167.h5\n",
      "23/23 [==============================] - 75s 3s/step - loss: 3.3837 - categorical_accuracy: 0.2145 - val_loss: 1.5868 - val_categorical_accuracy: 0.2417\n",
      "Epoch 2/10\n",
      "23/23 [==============================] - ETA: 0s - loss: 1.3813 - categorical_accuracy: 0.3928\n",
      "Epoch 00002: saving model to simple_conv3d_2021-05-2505_46_35.221391/model-00002-1.38128-0.39275-1.19093-0.45000.h5\n",
      "23/23 [==============================] - 78s 3s/step - loss: 1.3813 - categorical_accuracy: 0.3928 - val_loss: 1.1909 - val_categorical_accuracy: 0.4500\n",
      "Epoch 3/10\n",
      "23/23 [==============================] - ETA: 0s - loss: 0.9816 - categorical_accuracy: 0.6435\n",
      "Epoch 00003: saving model to simple_conv3d_2021-05-2505_46_35.221391/model-00003-0.98155-0.64348-0.82921-0.67500.h5\n",
      "23/23 [==============================] - 77s 3s/step - loss: 0.9816 - categorical_accuracy: 0.6435 - val_loss: 0.8292 - val_categorical_accuracy: 0.6750\n",
      "Epoch 4/10\n",
      "23/23 [==============================] - ETA: 0s - loss: 0.6887 - categorical_accuracy: 0.7464\n",
      "Epoch 00004: saving model to simple_conv3d_2021-05-2505_46_35.221391/model-00004-0.68871-0.74638-0.99660-0.65833.h5\n",
      "23/23 [==============================] - 78s 3s/step - loss: 0.6887 - categorical_accuracy: 0.7464 - val_loss: 0.9966 - val_categorical_accuracy: 0.6583\n",
      "Epoch 5/10\n",
      "23/23 [==============================] - ETA: 0s - loss: 0.5593 - categorical_accuracy: 0.8130\n",
      "Epoch 00005: saving model to simple_conv3d_2021-05-2505_46_35.221391/model-00005-0.55925-0.81304-0.93283-0.74167.h5\n",
      "23/23 [==============================] - 78s 3s/step - loss: 0.5593 - categorical_accuracy: 0.8130 - val_loss: 0.9328 - val_categorical_accuracy: 0.7417\n",
      "Epoch 6/10\n",
      "23/23 [==============================] - ETA: 0s - loss: 0.4171 - categorical_accuracy: 0.8377\n",
      "Epoch 00006: saving model to simple_conv3d_2021-05-2505_46_35.221391/model-00006-0.41709-0.83768-0.84175-0.71667.h5\n",
      "23/23 [==============================] - 79s 3s/step - loss: 0.4171 - categorical_accuracy: 0.8377 - val_loss: 0.8417 - val_categorical_accuracy: 0.7167\n",
      "Epoch 7/10\n",
      "23/23 [==============================] - ETA: 0s - loss: 0.2697 - categorical_accuracy: 0.9014\n",
      "Epoch 00007: saving model to simple_conv3d_2021-05-2505_46_35.221391/model-00007-0.26967-0.90145-0.42692-0.81667.h5\n",
      "23/23 [==============================] - 78s 3s/step - loss: 0.2697 - categorical_accuracy: 0.9014 - val_loss: 0.4269 - val_categorical_accuracy: 0.8167\n",
      "Epoch 8/10\n",
      "23/23 [==============================] - ETA: 0s - loss: 0.1402 - categorical_accuracy: 0.9551\n",
      "Epoch 00008: saving model to simple_conv3d_2021-05-2505_46_35.221391/model-00008-0.14024-0.95507-0.57718-0.85000.h5\n",
      "23/23 [==============================] - 74s 3s/step - loss: 0.1402 - categorical_accuracy: 0.9551 - val_loss: 0.5772 - val_categorical_accuracy: 0.8500\n",
      "Epoch 9/10\n",
      "23/23 [==============================] - ETA: 0s - loss: 0.0786 - categorical_accuracy: 0.9826\n",
      "Epoch 00009: saving model to simple_conv3d_2021-05-2505_46_35.221391/model-00009-0.07862-0.98261-0.92299-0.77500.h5\n",
      "23/23 [==============================] - 77s 3s/step - loss: 0.0786 - categorical_accuracy: 0.9826 - val_loss: 0.9230 - val_categorical_accuracy: 0.7750\n",
      "Epoch 10/10\n",
      "23/23 [==============================] - ETA: 0s - loss: 0.0679 - categorical_accuracy: 0.9754\n",
      "Epoch 00010: saving model to simple_conv3d_2021-05-2505_46_35.221391/model-00010-0.06789-0.97536-0.89302-0.70000.h5\n",
      "23/23 [==============================] - 76s 3s/step - loss: 0.0679 - categorical_accuracy: 0.9754 - val_loss: 0.8930 - val_categorical_accuracy: 0.7000\n"
     ]
    }
   ],
   "source": [
    "history=model1.fit(train_generator, steps_per_epoch=steps_per_epoch, epochs=num_epochs, verbose=1, \n",
    "                    callbacks=callbacks_list, validation_data=val_generator, \n",
    "                    validation_steps=validation_steps, class_weight=None, workers=1, initial_epoch=0)"
   ]
  },
  {
   "cell_type": "code",
   "execution_count": 2,
   "metadata": {},
   "outputs": [],
   "source": [
    "def plot(history):\n",
    "    fig, axes = plt.subplots(nrows=1, ncols=2, figsize=(15,4))\n",
    "    axes[0].plot(history.history['loss'])   \n",
    "    axes[0].plot(history.history['val_loss'])\n",
    "    axes[0].legend(['loss','val_loss'])\n",
    "\n",
    "    axes[1].plot(history.history['categorical_accuracy'])   \n",
    "    axes[1].plot(history.history['val_categorical_accuracy'])\n",
    "    axes[1].legend(['categorical_accuracy','val_categorical_accuracy'])"
   ]
  },
  {
   "cell_type": "code",
   "execution_count": 17,
   "metadata": {},
   "outputs": [
    {
     "data": {
      "image/png": "[encoded data removed]",
      "text/plain": [
       "<Figure size 1080x288 with 2 Axes>"
      ]
     },
     "metadata": {
      "needs_background": "light"
     },
     "output_type": "display_data"
    }
   ],
   "source": [
    "import matplotlib.pyplot as plt\n",
    "plot(history)"
   ]
  },
  {
   "cell_type": "markdown",
   "metadata": {},
   "source": [
    "## More copnv3d layers\n"
   ]
  },
  {
   "cell_type": "code",
   "execution_count": null,
   "metadata": {},
   "outputs": [],
   "source": []
  },
  {
   "cell_type": "code",
   "execution_count": 47,
   "metadata": {},
   "outputs": [
    {
     "name": "stdout",
     "output_type": "stream",
     "text": [
      "Model: \"sequential_31\"\n",
      "_________________________________________________________________\n",
      "Layer (type)                 Output Shape              Param #   \n",
      "=================================================================\n",
      "conv3d_112 (Conv3D)          (None, 32, 120, 120, 3)   12992     \n",
      "_________________________________________________________________\n",
      "max_pooling3d_100 (MaxPoolin (None, 32, 60, 60, 2)     0         \n",
      "_________________________________________________________________\n",
      "conv3d_113 (Conv3D)          (None, 64, 60, 60, 2)     55360     \n",
      "_________________________________________________________________\n",
      "max_pooling3d_101 (MaxPoolin (None, 64, 30, 30, 1)     0         \n",
      "_________________________________________________________________\n",
      "conv3d_114 (Conv3D)          (None, 128, 30, 30, 1)    221312    \n",
      "_________________________________________________________________\n",
      "max_pooling3d_102 (MaxPoolin (None, 128, 15, 15, 1)    0         \n",
      "_________________________________________________________________\n",
      "conv3d_115 (Conv3D)          (None, 256, 15, 15, 1)    884992    \n",
      "_________________________________________________________________\n",
      "max_pooling3d_103 (MaxPoolin (None, 256, 8, 8, 1)      0         \n",
      "_________________________________________________________________\n",
      "conv3d_116 (Conv3D)          (None, 512, 8, 8, 1)      3539456   \n",
      "_________________________________________________________________\n",
      "max_pooling3d_104 (MaxPoolin (None, 512, 4, 4, 1)      0         \n",
      "_________________________________________________________________\n",
      "flatten_9 (Flatten)          (None, 8192)              0         \n",
      "_________________________________________________________________\n",
      "dense_18 (Dense)             (None, 544)               4456992   \n",
      "_________________________________________________________________\n",
      "dropout (Dropout)            (None, 544)               0         \n",
      "_________________________________________________________________\n",
      "dense_19 (Dense)             (None, 5)                 2725      \n",
      "=================================================================\n",
      "Total params: 9,173,829\n",
      "Trainable params: 9,173,829\n",
      "Non-trainable params: 0\n",
      "_________________________________________________________________\n"
     ]
    }
   ],
   "source": [
    "input_shape=(15,120,120,3)\n",
    "model1=Sequential()\n",
    "model1.add(Conv3D(32,(3,3,3),activation='relu',padding='same',input_shape=input_shape))\n",
    "model1.add(MaxPooling3D((2,2,2),padding='same'))\n",
    "model1.add(Conv3D(64,(3,3,3),padding='same',activation='relu'))\n",
    "model1.add(MaxPooling3D((2,2,2),padding='same'))\n",
    "model1.add(Conv3D(128,(3,3,3),padding='same',activation='relu'))\n",
    "model1.add(MaxPooling3D((2,2,2),padding='same'))\n",
    "model1.add(Conv3D(256,(3,3,3),padding='same',activation='relu'))\n",
    "model1.add(MaxPooling3D((2,2,2),padding='same'))\n",
    "model1.add(Conv3D(512,(3,3,3),padding='same',activation='relu'))\n",
    "model1.add(MaxPooling3D((2,2,2),padding='same'))\n",
    "model1.add(Flatten())\n",
    "model1.add(Dense(544))\n",
    "#model1.add(Dropout(0.25))\n",
    "model1.add(Dense(5,activation='softmax'))\n",
    "model1.summary()\n"
   ]
  },
  {
   "cell_type": "code",
   "execution_count": 48,
   "metadata": {},
   "outputs": [
    {
     "name": "stdout",
     "output_type": "stream",
     "text": [
      "Model: \"sequential_31\"\n",
      "_________________________________________________________________\n",
      "Layer (type)                 Output Shape              Param #   \n",
      "=================================================================\n",
      "conv3d_112 (Conv3D)          (None, 32, 120, 120, 3)   12992     \n",
      "_________________________________________________________________\n",
      "max_pooling3d_100 (MaxPoolin (None, 32, 60, 60, 2)     0         \n",
      "_________________________________________________________________\n",
      "conv3d_113 (Conv3D)          (None, 64, 60, 60, 2)     55360     \n",
      "_________________________________________________________________\n",
      "max_pooling3d_101 (MaxPoolin (None, 64, 30, 30, 1)     0         \n",
      "_________________________________________________________________\n",
      "conv3d_114 (Conv3D)          (None, 128, 30, 30, 1)    221312    \n",
      "_________________________________________________________________\n",
      "max_pooling3d_102 (MaxPoolin (None, 128, 15, 15, 1)    0         \n",
      "_________________________________________________________________\n",
      "conv3d_115 (Conv3D)          (None, 256, 15, 15, 1)    884992    \n",
      "_________________________________________________________________\n",
      "max_pooling3d_103 (MaxPoolin (None, 256, 8, 8, 1)      0         \n",
      "_________________________________________________________________\n",
      "conv3d_116 (Conv3D)          (None, 512, 8, 8, 1)      3539456   \n",
      "_________________________________________________________________\n",
      "max_pooling3d_104 (MaxPoolin (None, 512, 4, 4, 1)      0         \n",
      "_________________________________________________________________\n",
      "flatten_9 (Flatten)          (None, 8192)              0         \n",
      "_________________________________________________________________\n",
      "dense_18 (Dense)             (None, 544)               4456992   \n",
      "_________________________________________________________________\n",
      "dropout (Dropout)            (None, 544)               0         \n",
      "_________________________________________________________________\n",
      "dense_19 (Dense)             (None, 5)                 2725      \n",
      "=================================================================\n",
      "Total params: 9,173,829\n",
      "Trainable params: 9,173,829\n",
      "Non-trainable params: 0\n",
      "_________________________________________________________________\n",
      "None\n"
     ]
    }
   ],
   "source": [
    "optimiser = keras.optimizers.Adam(lr=0.001) #write your optimizer\n",
    "model1.compile(optimizer=optimiser, loss='categorical_crossentropy', metrics=['categorical_accuracy'])\n",
    "print (model1.summary())"
   ]
  },
  {
   "cell_type": "code",
   "execution_count": 49,
   "metadata": {},
   "outputs": [],
   "source": [
    "train_generator = generator(train_path, train_doc, batch_size)\n",
    "val_generator = generator(val_path, val_doc, batch_size)"
   ]
  },
  {
   "cell_type": "code",
   "execution_count": 50,
   "metadata": {},
   "outputs": [
    {
     "name": "stdout",
     "output_type": "stream",
     "text": [
      "WARNING:tensorflow:`period` argument is deprecated. Please use `save_freq` to specify the frequency in number of batches seen.\n"
     ]
    }
   ],
   "source": [
    "model_name = 'simple_conv3d' + '_' + str(curr_dt_time).replace(' ','').replace(':','_') + '/'\n",
    "    \n",
    "if not os.path.exists(model_name):\n",
    "    os.mkdir(model_name)\n",
    "        \n",
    "filepath = model_name + 'model-{epoch:05d}-{loss:.5f}-{categorical_accuracy:.5f}-{val_loss:.5f}-{val_categorical_accuracy:.5f}.h5'\n",
    "\n",
    "checkpoint = ModelCheckpoint(filepath, monitor='val_loss', verbose=1, save_best_only=False, save_weights_only=False, mode='auto', period=1)\n",
    "\n",
    "LR = ReduceLROnPlateau(monitor='val_loss',factor=0.1,patience=6)# write the REducelronplateau code here\n",
    "callbacks_list = [checkpoint, LR]"
   ]
  },
  {
   "cell_type": "code",
   "execution_count": 51,
   "metadata": {},
   "outputs": [],
   "source": [
    "if (num_train_sequences%batch_size) == 0:\n",
    "    steps_per_epoch = int(num_train_sequences/batch_size)\n",
    "else:\n",
    "    steps_per_epoch = (num_train_sequences//batch_size) + 1\n",
    "\n",
    "if (num_val_sequences%batch_size) == 0:\n",
    "    validation_steps = int(num_val_sequences/batch_size)\n",
    "else:\n",
    "    validation_steps = (num_val_sequences//batch_size) + 1"
   ]
  },
  {
   "cell_type": "code",
   "execution_count": null,
   "metadata": {},
   "outputs": [
    {
     "name": "stdout",
     "output_type": "stream",
     "text": [
      "Source path =  /home/datasets/Project_data/train ; batch size = 30\n",
      "Epoch 1/30\n",
      "23/23 [==============================] - ETA: 0s - loss: 1.7226 - categorical_accuracy: 0.2058Source path =  /home/datasets/Project_data/val ; batch size = 30\n",
      "\n",
      "Epoch 00001: saving model to simple_conv3d_2021-05-3105_26_44.203869/model-00001-1.72256-0.20580-1.59724-0.24167.h5\n",
      "23/23 [==============================] - 88s 4s/step - loss: 1.7226 - categorical_accuracy: 0.2058 - val_loss: 1.5972 - val_categorical_accuracy: 0.2417\n",
      "Epoch 2/30\n",
      "23/23 [==============================] - ETA: 0s - loss: 1.6102 - categorical_accuracy: 0.2203\n",
      "Epoch 00002: saving model to simple_conv3d_2021-05-3105_26_44.203869/model-00002-1.61023-0.22029-1.60102-0.19167.h5\n",
      "23/23 [==============================] - 88s 4s/step - loss: 1.6102 - categorical_accuracy: 0.2203 - val_loss: 1.6010 - val_categorical_accuracy: 0.1917\n",
      "Epoch 3/30\n",
      "23/23 [==============================] - ETA: 0s - loss: 1.5959 - categorical_accuracy: 0.2333\n",
      "Epoch 00003: saving model to simple_conv3d_2021-05-3105_26_44.203869/model-00003-1.59593-0.23333-1.57407-0.26667.h5\n",
      "23/23 [==============================] - 86s 4s/step - loss: 1.5959 - categorical_accuracy: 0.2333 - val_loss: 1.5741 - val_categorical_accuracy: 0.2667\n",
      "Epoch 4/30\n",
      "23/23 [==============================] - ETA: 0s - loss: 1.5168 - categorical_accuracy: 0.3406\n",
      "Epoch 00004: saving model to simple_conv3d_2021-05-3105_26_44.203869/model-00004-1.51682-0.34058-1.40045-0.35000.h5\n",
      "23/23 [==============================] - 93s 4s/step - loss: 1.5168 - categorical_accuracy: 0.3406 - val_loss: 1.4005 - val_categorical_accuracy: 0.3500\n",
      "Epoch 5/30\n",
      "23/23 [==============================] - ETA: 0s - loss: 1.3276 - categorical_accuracy: 0.4188\n",
      "Epoch 00005: saving model to simple_conv3d_2021-05-3105_26_44.203869/model-00005-1.32763-0.41884-1.10438-0.55833.h5\n",
      "23/23 [==============================] - 87s 4s/step - loss: 1.3276 - categorical_accuracy: 0.4188 - val_loss: 1.1044 - val_categorical_accuracy: 0.5583\n",
      "Epoch 6/30\n",
      "23/23 [==============================] - ETA: 0s - loss: 1.2661 - categorical_accuracy: 0.4290\n",
      "Epoch 00006: saving model to simple_conv3d_2021-05-3105_26_44.203869/model-00006-1.26612-0.42899-1.54968-0.43333.h5\n",
      "23/23 [==============================] - 83s 4s/step - loss: 1.2661 - categorical_accuracy: 0.4290 - val_loss: 1.5497 - val_categorical_accuracy: 0.4333\n",
      "Epoch 7/30\n",
      "23/23 [==============================] - ETA: 0s - loss: 1.1322 - categorical_accuracy: 0.5406\n",
      "Epoch 00007: saving model to simple_conv3d_2021-05-3105_26_44.203869/model-00007-1.13221-0.54058-1.06483-0.57500.h5\n",
      "23/23 [==============================] - 84s 4s/step - loss: 1.1322 - categorical_accuracy: 0.5406 - val_loss: 1.0648 - val_categorical_accuracy: 0.5750\n",
      "Epoch 8/30\n",
      "23/23 [==============================] - ETA: 0s - loss: 1.0477 - categorical_accuracy: 0.5797\n",
      "Epoch 00008: saving model to simple_conv3d_2021-05-3105_26_44.203869/model-00008-1.04767-0.57971-1.24633-0.59167.h5\n",
      "23/23 [==============================] - 80s 3s/step - loss: 1.0477 - categorical_accuracy: 0.5797 - val_loss: 1.2463 - val_categorical_accuracy: 0.5917\n",
      "Epoch 9/30\n",
      "23/23 [==============================] - ETA: 0s - loss: 0.8677 - categorical_accuracy: 0.6551\n",
      "Epoch 00009: saving model to simple_conv3d_2021-05-3105_26_44.203869/model-00009-0.86769-0.65507-1.06196-0.57500.h5\n",
      "23/23 [==============================] - 86s 4s/step - loss: 0.8677 - categorical_accuracy: 0.6551 - val_loss: 1.0620 - val_categorical_accuracy: 0.5750\n",
      "Epoch 10/30\n",
      "23/23 [==============================] - ETA: 0s - loss: 0.8545 - categorical_accuracy: 0.6913\n",
      "Epoch 00010: saving model to simple_conv3d_2021-05-3105_26_44.203869/model-00010-0.85454-0.69130-0.83708-0.60833.h5\n",
      "23/23 [==============================] - 87s 4s/step - loss: 0.8545 - categorical_accuracy: 0.6913 - val_loss: 0.8371 - val_categorical_accuracy: 0.6083\n",
      "Epoch 11/30\n",
      "23/23 [==============================] - ETA: 0s - loss: 0.6450 - categorical_accuracy: 0.7348\n",
      "Epoch 00011: saving model to simple_conv3d_2021-05-3105_26_44.203869/model-00011-0.64500-0.73478-1.09153-0.62500.h5\n",
      "23/23 [==============================] - 89s 4s/step - loss: 0.6450 - categorical_accuracy: 0.7348 - val_loss: 1.0915 - val_categorical_accuracy: 0.6250\n",
      "Epoch 12/30\n",
      "23/23 [==============================] - ETA: 0s - loss: 0.4666 - categorical_accuracy: 0.8362\n",
      "Epoch 00012: saving model to simple_conv3d_2021-05-3105_26_44.203869/model-00012-0.46660-0.83623-0.95259-0.69167.h5\n",
      "23/23 [==============================] - 91s 4s/step - loss: 0.4666 - categorical_accuracy: 0.8362 - val_loss: 0.9526 - val_categorical_accuracy: 0.6917\n",
      "Epoch 13/30\n",
      "23/23 [==============================] - ETA: 0s - loss: 0.4381 - categorical_accuracy: 0.8217\n",
      "Epoch 00013: saving model to simple_conv3d_2021-05-3105_26_44.203869/model-00013-0.43813-0.82174-0.98231-0.68333.h5\n",
      "23/23 [==============================] - 87s 4s/step - loss: 0.4381 - categorical_accuracy: 0.8217 - val_loss: 0.9823 - val_categorical_accuracy: 0.6833\n",
      "Epoch 14/30\n",
      "23/23 [==============================] - ETA: 0s - loss: 0.3694 - categorical_accuracy: 0.8768\n",
      "Epoch 00014: saving model to simple_conv3d_2021-05-3105_26_44.203869/model-00014-0.36943-0.87681-0.83218-0.74167.h5\n",
      "23/23 [==============================] - 95s 4s/step - loss: 0.3694 - categorical_accuracy: 0.8768 - val_loss: 0.8322 - val_categorical_accuracy: 0.7417\n",
      "Epoch 15/30\n",
      "23/23 [==============================] - ETA: 0s - loss: 0.2229 - categorical_accuracy: 0.9087\n",
      "Epoch 00015: saving model to simple_conv3d_2021-05-3105_26_44.203869/model-00015-0.22292-0.90870-0.93406-0.70833.h5\n",
      "23/23 [==============================] - 85s 4s/step - loss: 0.2229 - categorical_accuracy: 0.9087 - val_loss: 0.9341 - val_categorical_accuracy: 0.7083\n",
      "Epoch 16/30\n",
      "23/23 [==============================] - ETA: 0s - loss: 0.3049 - categorical_accuracy: 0.8768\n",
      "Epoch 00016: saving model to simple_conv3d_2021-05-3105_26_44.203869/model-00016-0.30486-0.87681-0.97649-0.75833.h5\n",
      "23/23 [==============================] - 89s 4s/step - loss: 0.3049 - categorical_accuracy: 0.8768 - val_loss: 0.9765 - val_categorical_accuracy: 0.7583\n",
      "Epoch 17/30\n",
      "23/23 [==============================] - ETA: 0s - loss: 0.1740 - categorical_accuracy: 0.9348\n",
      "Epoch 00017: saving model to simple_conv3d_2021-05-3105_26_44.203869/model-00017-0.17400-0.93478-1.25659-0.75000.h5\n",
      "23/23 [==============================] - 84s 4s/step - loss: 0.1740 - categorical_accuracy: 0.9348 - val_loss: 1.2566 - val_categorical_accuracy: 0.7500\n",
      "Epoch 18/30\n",
      "23/23 [==============================] - ETA: 0s - loss: 0.1668 - categorical_accuracy: 0.9391\n",
      "Epoch 00018: saving model to simple_conv3d_2021-05-3105_26_44.203869/model-00018-0.16678-0.93913-1.85140-0.52500.h5\n",
      "23/23 [==============================] - 91s 4s/step - loss: 0.1668 - categorical_accuracy: 0.9391 - val_loss: 1.8514 - val_categorical_accuracy: 0.5250\n",
      "Epoch 19/30\n",
      "23/23 [==============================] - ETA: 0s - loss: 0.2633 - categorical_accuracy: 0.9188\n",
      "Epoch 00019: saving model to simple_conv3d_2021-05-3105_26_44.203869/model-00019-0.26334-0.91884-1.06942-0.72500.h5\n",
      "23/23 [==============================] - 92s 4s/step - loss: 0.2633 - categorical_accuracy: 0.9188 - val_loss: 1.0694 - val_categorical_accuracy: 0.7250\n",
      "Epoch 20/30\n",
      "23/23 [==============================] - ETA: 0s - loss: 0.1322 - categorical_accuracy: 0.9536\n",
      "Epoch 00020: saving model to simple_conv3d_2021-05-3105_26_44.203869/model-00020-0.13223-0.95362-1.11801-0.68333.h5\n",
      "23/23 [==============================] - 92s 4s/step - loss: 0.1322 - categorical_accuracy: 0.9536 - val_loss: 1.1180 - val_categorical_accuracy: 0.6833\n",
      "Epoch 21/30\n",
      "23/23 [==============================] - ETA: 0s - loss: 0.0452 - categorical_accuracy: 0.9928\n",
      "Epoch 00021: saving model to simple_conv3d_2021-05-3105_26_44.203869/model-00021-0.04524-0.99275-0.81861-0.76667.h5\n",
      "23/23 [==============================] - 83s 4s/step - loss: 0.0452 - categorical_accuracy: 0.9928 - val_loss: 0.8186 - val_categorical_accuracy: 0.7667\n",
      "Epoch 22/30\n",
      "23/23 [==============================] - ETA: 0s - loss: 0.0457 - categorical_accuracy: 0.9913\n",
      "Epoch 00022: saving model to simple_conv3d_2021-05-3105_26_44.203869/model-00022-0.04572-0.99130-0.97305-0.82500.h5\n",
      "23/23 [==============================] - 90s 4s/step - loss: 0.0457 - categorical_accuracy: 0.9913 - val_loss: 0.9730 - val_categorical_accuracy: 0.8250\n",
      "Epoch 23/30\n",
      "23/23 [==============================] - ETA: 0s - loss: 0.0156 - categorical_accuracy: 1.0000\n",
      "Epoch 00023: saving model to simple_conv3d_2021-05-3105_26_44.203869/model-00023-0.01557-1.00000-0.79002-0.85000.h5\n",
      "23/23 [==============================] - 95s 4s/step - loss: 0.0156 - categorical_accuracy: 1.0000 - val_loss: 0.7900 - val_categorical_accuracy: 0.8500\n",
      "Epoch 24/30\n",
      "23/23 [==============================] - ETA: 0s - loss: 0.0144 - categorical_accuracy: 1.0000\n",
      "Epoch 00024: saving model to simple_conv3d_2021-05-3105_26_44.203869/model-00024-0.01441-1.00000-0.93942-0.78333.h5\n",
      "23/23 [==============================] - 87s 4s/step - loss: 0.0144 - categorical_accuracy: 1.0000 - val_loss: 0.9394 - val_categorical_accuracy: 0.7833\n",
      "Epoch 25/30\n",
      "23/23 [==============================] - ETA: 0s - loss: 0.0198 - categorical_accuracy: 0.9971\n",
      "Epoch 00025: saving model to simple_conv3d_2021-05-3105_26_44.203869/model-00025-0.01979-0.99710-0.83514-0.81667.h5\n",
      "23/23 [==============================] - 94s 4s/step - loss: 0.0198 - categorical_accuracy: 0.9971 - val_loss: 0.8351 - val_categorical_accuracy: 0.8167\n",
      "Epoch 26/30\n",
      "23/23 [==============================] - ETA: 0s - loss: 0.0166 - categorical_accuracy: 1.0000\n",
      "Epoch 00026: saving model to simple_conv3d_2021-05-3105_26_44.203869/model-00026-0.01664-1.00000-0.91320-0.80000.h5\n",
      "23/23 [==============================] - 100s 4s/step - loss: 0.0166 - categorical_accuracy: 1.0000 - val_loss: 0.9132 - val_categorical_accuracy: 0.8000\n",
      "Epoch 27/30\n",
      "23/23 [==============================] - ETA: 0s - loss: 0.0158 - categorical_accuracy: 0.9986\n",
      "Epoch 00027: saving model to simple_conv3d_2021-05-3105_26_44.203869/model-00027-0.01578-0.99855-1.11360-0.77500.h5\n",
      "23/23 [==============================] - 89s 4s/step - loss: 0.0158 - categorical_accuracy: 0.9986 - val_loss: 1.1136 - val_categorical_accuracy: 0.7750\n",
      "Epoch 28/30\n",
      "23/23 [==============================] - ETA: 0s - loss: 0.0150 - categorical_accuracy: 0.9986\n",
      "Epoch 00028: saving model to simple_conv3d_2021-05-3105_26_44.203869/model-00028-0.01499-0.99855-0.76165-0.86667.h5\n",
      "23/23 [==============================] - 87s 4s/step - loss: 0.0150 - categorical_accuracy: 0.9986 - val_loss: 0.7616 - val_categorical_accuracy: 0.8667\n",
      "Epoch 29/30\n",
      "23/23 [==============================] - ETA: 0s - loss: 0.0086 - categorical_accuracy: 1.0000\n",
      "Epoch 00029: saving model to simple_conv3d_2021-05-3105_26_44.203869/model-00029-0.00862-1.00000-1.37673-0.76667.h5\n",
      "23/23 [==============================] - 92s 4s/step - loss: 0.0086 - categorical_accuracy: 1.0000 - val_loss: 1.3767 - val_categorical_accuracy: 0.7667\n",
      "Epoch 30/30\n",
      "23/23 [==============================] - ETA: 0s - loss: 0.0109 - categorical_accuracy: 0.9986"
     ]
    }
   ],
   "source": [
    "history=model1.fit(train_generator, steps_per_epoch=steps_per_epoch, epochs=30, verbose=1, \n",
    "                    callbacks=callbacks_list, validation_data=val_generator, \n",
    "                    validation_steps=validation_steps, class_weight=None, workers=1, initial_epoch=0)"
   ]
  },
  {
   "cell_type": "code",
   "execution_count": null,
   "metadata": {},
   "outputs": [],
   "source": []
  },
  {
   "cell_type": "code",
   "execution_count": null,
   "metadata": {},
   "outputs": [],
   "source": []
  },
  {
   "cell_type": "markdown",
   "metadata": {},
   "source": [
    "### let's try adding batchnoramlisation and dropout"
   ]
  },
  {
   "cell_type": "code",
   "execution_count": 11,
   "metadata": {},
   "outputs": [
    {
     "name": "stdout",
     "output_type": "stream",
     "text": [
      "Model: \"sequential_1\"\n",
      "_________________________________________________________________\n",
      "Layer (type)                 Output Shape              Param #   \n",
      "=================================================================\n",
      "conv3d_2 (Conv3D)            (None, 15, 120, 120, 32)  2624      \n",
      "_________________________________________________________________\n",
      "batch_normalization_2 (Batch (None, 15, 120, 120, 32)  128       \n",
      "_________________________________________________________________\n",
      "max_pooling3d_1 (MaxPooling3 (None, 7, 60, 60, 32)     0         \n",
      "_________________________________________________________________\n",
      "conv3d_3 (Conv3D)            (None, 7, 60, 60, 64)     55360     \n",
      "_________________________________________________________________\n",
      "batch_normalization_3 (Batch (None, 7, 60, 60, 64)     256       \n",
      "_________________________________________________________________\n",
      "dropout (Dropout)            (None, 7, 60, 60, 64)     0         \n",
      "_________________________________________________________________\n",
      "max_pooling3d_2 (MaxPooling3 (None, 3, 30, 30, 64)     0         \n",
      "_________________________________________________________________\n",
      "conv3d_4 (Conv3D)            (None, 3, 30, 30, 128)    221312    \n",
      "_________________________________________________________________\n",
      "batch_normalization_4 (Batch (None, 3, 30, 30, 128)    512       \n",
      "_________________________________________________________________\n",
      "dropout_1 (Dropout)          (None, 3, 30, 30, 128)    0         \n",
      "_________________________________________________________________\n",
      "max_pooling3d_3 (MaxPooling3 (None, 1, 15, 15, 128)    0         \n",
      "_________________________________________________________________\n",
      "flatten (Flatten)            (None, 28800)             0         \n",
      "_________________________________________________________________\n",
      "dense (Dense)                (None, 544)               15667744  \n",
      "_________________________________________________________________\n",
      "dropout_2 (Dropout)          (None, 544)               0         \n",
      "_________________________________________________________________\n",
      "dense_1 (Dense)              (None, 5)                 2725      \n",
      "=================================================================\n",
      "Total params: 15,950,661\n",
      "Trainable params: 15,950,213\n",
      "Non-trainable params: 448\n",
      "_________________________________________________________________\n"
     ]
    }
   ],
   "source": [
    "input_shape=(15,120,120,3)\n",
    "model2=Sequential()\n",
    "model2.add(Conv3D(32,(3,3,3),activation='relu',padding='same',input_shape=input_shape))\n",
    "model2.add(BatchNormalization())\n",
    "model2.add(MaxPooling3D((2,2,2)))\n",
    "model2.add(Conv3D(64,(3,3,3),padding='same',activation='relu'))\n",
    "model2.add(BatchNormalization())\n",
    "model2.add(Dropout(0.25))\n",
    "model2.add(MaxPooling3D((2,2,2)))\n",
    "model2.add(Conv3D(128,(3,3,3),padding='same',activation='relu'))\n",
    "model2.add(BatchNormalization())\n",
    "model2.add(Dropout(0.25))\n",
    "model2.add(MaxPooling3D((2,2,2)))\n",
    "model2.add(Flatten())\n",
    "model2.add(Dense(544))\n",
    "model2.add(Dropout(0.25))\n",
    "model2.add(Dense(5,activation='softmax'))\n",
    "model2.summary()"
   ]
  },
  {
   "cell_type": "code",
   "execution_count": 12,
   "metadata": {},
   "outputs": [
    {
     "name": "stdout",
     "output_type": "stream",
     "text": [
      "Model: \"sequential_1\"\n",
      "_________________________________________________________________\n",
      "Layer (type)                 Output Shape              Param #   \n",
      "=================================================================\n",
      "conv3d_2 (Conv3D)            (None, 15, 120, 120, 32)  2624      \n",
      "_________________________________________________________________\n",
      "batch_normalization_2 (Batch (None, 15, 120, 120, 32)  128       \n",
      "_________________________________________________________________\n",
      "max_pooling3d_1 (MaxPooling3 (None, 7, 60, 60, 32)     0         \n",
      "_________________________________________________________________\n",
      "conv3d_3 (Conv3D)            (None, 7, 60, 60, 64)     55360     \n",
      "_________________________________________________________________\n",
      "batch_normalization_3 (Batch (None, 7, 60, 60, 64)     256       \n",
      "_________________________________________________________________\n",
      "dropout (Dropout)            (None, 7, 60, 60, 64)     0         \n",
      "_________________________________________________________________\n",
      "max_pooling3d_2 (MaxPooling3 (None, 3, 30, 30, 64)     0         \n",
      "_________________________________________________________________\n",
      "conv3d_4 (Conv3D)            (None, 3, 30, 30, 128)    221312    \n",
      "_________________________________________________________________\n",
      "batch_normalization_4 (Batch (None, 3, 30, 30, 128)    512       \n",
      "_________________________________________________________________\n",
      "dropout_1 (Dropout)          (None, 3, 30, 30, 128)    0         \n",
      "_________________________________________________________________\n",
      "max_pooling3d_3 (MaxPooling3 (None, 1, 15, 15, 128)    0         \n",
      "_________________________________________________________________\n",
      "flatten (Flatten)            (None, 28800)             0         \n",
      "_________________________________________________________________\n",
      "dense (Dense)                (None, 544)               15667744  \n",
      "_________________________________________________________________\n",
      "dropout_2 (Dropout)          (None, 544)               0         \n",
      "_________________________________________________________________\n",
      "dense_1 (Dense)              (None, 5)                 2725      \n",
      "=================================================================\n",
      "Total params: 15,950,661\n",
      "Trainable params: 15,950,213\n",
      "Non-trainable params: 448\n",
      "_________________________________________________________________\n",
      "None\n"
     ]
    }
   ],
   "source": [
    "optimiser = keras.optimizers.Adam(lr=0.001) #write your optimizer\n",
    "model2.compile(optimizer=optimiser, loss='categorical_crossentropy', metrics=['categorical_accuracy'])\n",
    "print (model2.summary())"
   ]
  },
  {
   "cell_type": "code",
   "execution_count": 13,
   "metadata": {},
   "outputs": [],
   "source": [
    "train_generator = generator(train_path, train_doc, batch_size)\n",
    "val_generator = generator(val_path, val_doc, batch_size)"
   ]
  },
  {
   "cell_type": "code",
   "execution_count": 14,
   "metadata": {},
   "outputs": [
    {
     "name": "stdout",
     "output_type": "stream",
     "text": [
      "WARNING:tensorflow:`period` argument is deprecated. Please use `save_freq` to specify the frequency in number of batches seen.\n"
     ]
    }
   ],
   "source": [
    "model_name = 'simple_conv3d(bacthnormalization)' + '_' + str(curr_dt_time).replace(' ','').replace(':','_') + '/'\n",
    "    \n",
    "if not os.path.exists(model_name):\n",
    "    os.mkdir(model_name)\n",
    "        \n",
    "filepath = model_name + 'model-{epoch:05d}-{loss:.5f}-{categorical_accuracy:.5f}-{val_loss:.5f}-{val_categorical_accuracy:.5f}.h5'\n",
    "\n",
    "checkpoint = ModelCheckpoint(filepath, monitor='val_loss', verbose=1, save_best_only=False, save_weights_only=False, mode='auto', period=1)\n",
    "\n",
    "LR = ReduceLROnPlateau(monitor='val_loss',factor=0.1,patience=6)# write the REducelronplateau code here\n",
    "callbacks_list = [checkpoint, LR]"
   ]
  },
  {
   "cell_type": "code",
   "execution_count": 15,
   "metadata": {},
   "outputs": [],
   "source": [
    "if (num_train_sequences%batch_size) == 0:\n",
    "    steps_per_epoch = int(num_train_sequences/batch_size)\n",
    "else:\n",
    "    steps_per_epoch = (num_train_sequences//batch_size) + 1\n",
    "\n",
    "if (num_val_sequences%batch_size) == 0:\n",
    "    validation_steps = int(num_val_sequences/batch_size)\n",
    "else:\n",
    "    validation_steps = (num_val_sequences//batch_size) + 1"
   ]
  },
  {
   "cell_type": "code",
   "execution_count": 16,
   "metadata": {},
   "outputs": [
    {
     "name": "stdout",
     "output_type": "stream",
     "text": [
      "Source path =  /home/datasets/Project_data/train ; batch size = 30\n",
      "Epoch 1/15\n",
      "23/23 [==============================] - ETA: 0s - loss: 71.2535 - categorical_accuracy: 0.3449Source path =  /home/datasets/Project_data/val ; batch size = 30\n",
      "\n",
      "Epoch 00001: saving model to simple_conv3d(bacthnormalization)_2021-05-2508_45_03.212951/model-00001-71.25352-0.34493-29.77142-0.20000.h5\n",
      "23/23 [==============================] - 84s 4s/step - loss: 71.2535 - categorical_accuracy: 0.3449 - val_loss: 29.7714 - val_categorical_accuracy: 0.2000\n",
      "Epoch 2/15\n",
      "23/23 [==============================] - ETA: 0s - loss: 5.7275 - categorical_accuracy: 0.5478\n",
      "Epoch 00002: saving model to simple_conv3d(bacthnormalization)_2021-05-2508_45_03.212951/model-00002-5.72748-0.54783-64.66763-0.20000.h5\n",
      "23/23 [==============================] - 82s 4s/step - loss: 5.7275 - categorical_accuracy: 0.5478 - val_loss: 64.6676 - val_categorical_accuracy: 0.2000\n",
      "Epoch 3/15\n",
      "23/23 [==============================] - ETA: 0s - loss: 1.6971 - categorical_accuracy: 0.7130\n",
      "Epoch 00003: saving model to simple_conv3d(bacthnormalization)_2021-05-2508_45_03.212951/model-00003-1.69705-0.71304-185.30940-0.20833.h5\n",
      "23/23 [==============================] - 82s 4s/step - loss: 1.6971 - categorical_accuracy: 0.7130 - val_loss: 185.3094 - val_categorical_accuracy: 0.2083\n",
      "Epoch 4/15\n",
      "23/23 [==============================] - ETA: 0s - loss: 0.7819 - categorical_accuracy: 0.8087\n",
      "Epoch 00004: saving model to simple_conv3d(bacthnormalization)_2021-05-2508_45_03.212951/model-00004-0.78186-0.80870-289.83353-0.17500.h5\n",
      "23/23 [==============================] - 83s 4s/step - loss: 0.7819 - categorical_accuracy: 0.8087 - val_loss: 289.8335 - val_categorical_accuracy: 0.1750\n",
      "Epoch 5/15\n",
      "23/23 [==============================] - ETA: 0s - loss: 0.6567 - categorical_accuracy: 0.8478\n",
      "Epoch 00005: saving model to simple_conv3d(bacthnormalization)_2021-05-2508_45_03.212951/model-00005-0.65668-0.84783-371.59433-0.16667.h5\n",
      "23/23 [==============================] - 88s 4s/step - loss: 0.6567 - categorical_accuracy: 0.8478 - val_loss: 371.5943 - val_categorical_accuracy: 0.1667\n",
      "Epoch 6/15\n",
      "23/23 [==============================] - ETA: 0s - loss: 0.7874 - categorical_accuracy: 0.8333\n",
      "Epoch 00006: saving model to simple_conv3d(bacthnormalization)_2021-05-2508_45_03.212951/model-00006-0.78735-0.83333-498.58469-0.23333.h5\n",
      "23/23 [==============================] - 85s 4s/step - loss: 0.7874 - categorical_accuracy: 0.8333 - val_loss: 498.5847 - val_categorical_accuracy: 0.2333\n",
      "Epoch 7/15\n",
      "23/23 [==============================] - ETA: 0s - loss: 0.4867 - categorical_accuracy: 0.8754\n",
      "Epoch 00007: saving model to simple_conv3d(bacthnormalization)_2021-05-2508_45_03.212951/model-00007-0.48666-0.87536-626.79016-0.15833.h5\n",
      "23/23 [==============================] - 83s 4s/step - loss: 0.4867 - categorical_accuracy: 0.8754 - val_loss: 626.7902 - val_categorical_accuracy: 0.1583\n",
      "Epoch 8/15\n",
      "23/23 [==============================] - ETA: 0s - loss: 0.1904 - categorical_accuracy: 0.9377\n",
      "Epoch 00008: saving model to simple_conv3d(bacthnormalization)_2021-05-2508_45_03.212951/model-00008-0.19037-0.93768-637.27502-0.22500.h5\n",
      "23/23 [==============================] - 80s 3s/step - loss: 0.1904 - categorical_accuracy: 0.9377 - val_loss: 637.2750 - val_categorical_accuracy: 0.2250\n",
      "Epoch 9/15\n",
      "23/23 [==============================] - ETA: 0s - loss: 0.1640 - categorical_accuracy: 0.9565\n",
      "Epoch 00009: saving model to simple_conv3d(bacthnormalization)_2021-05-2508_45_03.212951/model-00009-0.16397-0.95652-787.06311-0.22500.h5\n",
      "23/23 [==============================] - 89s 4s/step - loss: 0.1640 - categorical_accuracy: 0.9565 - val_loss: 787.0631 - val_categorical_accuracy: 0.2250\n",
      "Epoch 10/15\n",
      "23/23 [==============================] - ETA: 0s - loss: 0.2039 - categorical_accuracy: 0.9449\n",
      "Epoch 00010: saving model to simple_conv3d(bacthnormalization)_2021-05-2508_45_03.212951/model-00010-0.20392-0.94493-976.25348-0.21667.h5\n",
      "23/23 [==============================] - 87s 4s/step - loss: 0.2039 - categorical_accuracy: 0.9449 - val_loss: 976.2535 - val_categorical_accuracy: 0.2167\n",
      "Epoch 11/15\n",
      "23/23 [==============================] - ETA: 0s - loss: 0.1209 - categorical_accuracy: 0.9565\n",
      "Epoch 00011: saving model to simple_conv3d(bacthnormalization)_2021-05-2508_45_03.212951/model-00011-0.12089-0.95652-1009.72791-0.20000.h5\n",
      "23/23 [==============================] - 83s 4s/step - loss: 0.1209 - categorical_accuracy: 0.9565 - val_loss: 1009.7279 - val_categorical_accuracy: 0.2000\n",
      "Epoch 12/15\n",
      "23/23 [==============================] - ETA: 0s - loss: 0.0870 - categorical_accuracy: 0.9623\n",
      "Epoch 00012: saving model to simple_conv3d(bacthnormalization)_2021-05-2508_45_03.212951/model-00012-0.08700-0.96232-867.19214-0.26667.h5\n",
      "23/23 [==============================] - 87s 4s/step - loss: 0.0870 - categorical_accuracy: 0.9623 - val_loss: 867.1921 - val_categorical_accuracy: 0.2667\n",
      "Epoch 13/15\n",
      "23/23 [==============================] - ETA: 0s - loss: 0.0740 - categorical_accuracy: 0.9710\n",
      "Epoch 00013: saving model to simple_conv3d(bacthnormalization)_2021-05-2508_45_03.212951/model-00013-0.07401-0.97101-922.22321-0.23333.h5\n",
      "23/23 [==============================] - 88s 4s/step - loss: 0.0740 - categorical_accuracy: 0.9710 - val_loss: 922.2232 - val_categorical_accuracy: 0.2333\n",
      "Epoch 14/15\n",
      "23/23 [==============================] - ETA: 0s - loss: 0.0554 - categorical_accuracy: 0.9797\n",
      "Epoch 00014: saving model to simple_conv3d(bacthnormalization)_2021-05-2508_45_03.212951/model-00014-0.05544-0.97971-968.09613-0.23333.h5\n",
      "23/23 [==============================] - 85s 4s/step - loss: 0.0554 - categorical_accuracy: 0.9797 - val_loss: 968.0961 - val_categorical_accuracy: 0.2333\n",
      "Epoch 15/15\n",
      "23/23 [==============================] - ETA: 0s - loss: 0.0564 - categorical_accuracy: 0.9812\n",
      "Epoch 00015: saving model to simple_conv3d(bacthnormalization)_2021-05-2508_45_03.212951/model-00015-0.05643-0.98116-1057.27063-0.15833.h5\n",
      "23/23 [==============================] - 83s 4s/step - loss: 0.0564 - categorical_accuracy: 0.9812 - val_loss: 1057.2706 - val_categorical_accuracy: 0.1583\n"
     ]
    }
   ],
   "source": [
    "history=model2.fit(train_generator, steps_per_epoch=steps_per_epoch, epochs=15, verbose=1, \n",
    "                    callbacks=callbacks_list, validation_data=val_generator, \n",
    "                    validation_steps=validation_steps, class_weight=None, workers=1, initial_epoch=0)"
   ]
  },
  {
   "cell_type": "code",
   "execution_count": 19,
   "metadata": {},
   "outputs": [
    {
     "data": {
      "image/png": "[encoded data removed]",
      "text/plain": [
       "<Figure size 1080x288 with 2 Axes>"
      ]
     },
     "metadata": {
      "needs_background": "light"
     },
     "output_type": "display_data"
    }
   ],
   "source": [
    "import matplotlib.pyplot as plt\n",
    "plot(history)"
   ]
  },
  {
   "cell_type": "markdown",
   "metadata": {},
   "source": [
    "## we can see that our model clearly overfitting after batchnormalization"
   ]
  },
  {
   "cell_type": "markdown",
   "metadata": {},
   "source": [
    "### let's reduce hidden units from each layer"
   ]
  },
  {
   "cell_type": "code",
   "execution_count": 22,
   "metadata": {},
   "outputs": [
    {
     "name": "stdout",
     "output_type": "stream",
     "text": [
      "Model: \"sequential_4\"\n",
      "_________________________________________________________________\n",
      "Layer (type)                 Output Shape              Param #   \n",
      "=================================================================\n",
      "conv3d_8 (Conv3D)            (None, 15, 120, 120, 16)  1312      \n",
      "_________________________________________________________________\n",
      "batch_normalization_8 (Batch (None, 15, 120, 120, 16)  64        \n",
      "_________________________________________________________________\n",
      "max_pooling3d_7 (MaxPooling3 (None, 7, 60, 60, 16)     0         \n",
      "_________________________________________________________________\n",
      "conv3d_9 (Conv3D)            (None, 7, 60, 60, 32)     13856     \n",
      "_________________________________________________________________\n",
      "batch_normalization_9 (Batch (None, 7, 60, 60, 32)     128       \n",
      "_________________________________________________________________\n",
      "dropout_6 (Dropout)          (None, 7, 60, 60, 32)     0         \n",
      "_________________________________________________________________\n",
      "max_pooling3d_8 (MaxPooling3 (None, 3, 30, 30, 32)     0         \n",
      "_________________________________________________________________\n",
      "conv3d_10 (Conv3D)           (None, 3, 30, 30, 62)     53630     \n",
      "_________________________________________________________________\n",
      "batch_normalization_10 (Batc (None, 3, 30, 30, 62)     248       \n",
      "_________________________________________________________________\n",
      "dropout_7 (Dropout)          (None, 3, 30, 30, 62)     0         \n",
      "_________________________________________________________________\n",
      "max_pooling3d_9 (MaxPooling3 (None, 1, 15, 15, 62)     0         \n",
      "_________________________________________________________________\n",
      "flatten_2 (Flatten)          (None, 13950)             0         \n",
      "_________________________________________________________________\n",
      "dense_4 (Dense)              (None, 544)               7589344   \n",
      "_________________________________________________________________\n",
      "dropout_8 (Dropout)          (None, 544)               0         \n",
      "_________________________________________________________________\n",
      "dense_5 (Dense)              (None, 5)                 2725      \n",
      "=================================================================\n",
      "Total params: 7,661,307\n",
      "Trainable params: 7,661,087\n",
      "Non-trainable params: 220\n",
      "_________________________________________________________________\n"
     ]
    }
   ],
   "source": [
    "input_shape=(15,120,120,3)\n",
    "model3=Sequential()\n",
    "model3.add(Conv3D(16,(3,3,3),activation='relu',padding='same',input_shape=input_shape))\n",
    "model3.add(BatchNormalization())\n",
    "model3.add(MaxPooling3D((2,2,2)))\n",
    "model3.add(Conv3D(32,(3,3,3),padding='same',activation='relu'))\n",
    "model3.add(BatchNormalization())\n",
    "model3.add(Dropout(0.25))\n",
    "model3.add(MaxPooling3D((2,2,2)))\n",
    "model3.add(Conv3D(62,(3,3,3),padding='same',activation='relu'))\n",
    "model3.add(BatchNormalization())\n",
    "model3.add(Dropout(0.25))\n",
    "model3.add(MaxPooling3D((2,2,2)))\n",
    "model3.add(Flatten())\n",
    "model3.add(Dense(544))\n",
    "model3.add(Dropout(0.25))\n",
    "model3.add(Dense(5,activation='softmax'))\n",
    "model3.summary()"
   ]
  },
  {
   "cell_type": "code",
   "execution_count": 23,
   "metadata": {},
   "outputs": [
    {
     "name": "stdout",
     "output_type": "stream",
     "text": [
      "Model: \"sequential_4\"\n",
      "_________________________________________________________________\n",
      "Layer (type)                 Output Shape              Param #   \n",
      "=================================================================\n",
      "conv3d_8 (Conv3D)            (None, 15, 120, 120, 16)  1312      \n",
      "_________________________________________________________________\n",
      "batch_normalization_8 (Batch (None, 15, 120, 120, 16)  64        \n",
      "_________________________________________________________________\n",
      "max_pooling3d_7 (MaxPooling3 (None, 7, 60, 60, 16)     0         \n",
      "_________________________________________________________________\n",
      "conv3d_9 (Conv3D)            (None, 7, 60, 60, 32)     13856     \n",
      "_________________________________________________________________\n",
      "batch_normalization_9 (Batch (None, 7, 60, 60, 32)     128       \n",
      "_________________________________________________________________\n",
      "dropout_6 (Dropout)          (None, 7, 60, 60, 32)     0         \n",
      "_________________________________________________________________\n",
      "max_pooling3d_8 (MaxPooling3 (None, 3, 30, 30, 32)     0         \n",
      "_________________________________________________________________\n",
      "conv3d_10 (Conv3D)           (None, 3, 30, 30, 62)     53630     \n",
      "_________________________________________________________________\n",
      "batch_normalization_10 (Batc (None, 3, 30, 30, 62)     248       \n",
      "_________________________________________________________________\n",
      "dropout_7 (Dropout)          (None, 3, 30, 30, 62)     0         \n",
      "_________________________________________________________________\n",
      "max_pooling3d_9 (MaxPooling3 (None, 1, 15, 15, 62)     0         \n",
      "_________________________________________________________________\n",
      "flatten_2 (Flatten)          (None, 13950)             0         \n",
      "_________________________________________________________________\n",
      "dense_4 (Dense)              (None, 544)               7589344   \n",
      "_________________________________________________________________\n",
      "dropout_8 (Dropout)          (None, 544)               0         \n",
      "_________________________________________________________________\n",
      "dense_5 (Dense)              (None, 5)                 2725      \n",
      "=================================================================\n",
      "Total params: 7,661,307\n",
      "Trainable params: 7,661,087\n",
      "Non-trainable params: 220\n",
      "_________________________________________________________________\n",
      "None\n"
     ]
    }
   ],
   "source": [
    "optimiser = keras.optimizers.Adam(lr=0.001) #write your optimizer\n",
    "model3.compile(optimizer=optimiser, loss='categorical_crossentropy', metrics=['categorical_accuracy'])\n",
    "print (model3.summary())"
   ]
  },
  {
   "cell_type": "code",
   "execution_count": 24,
   "metadata": {},
   "outputs": [],
   "source": [
    "train_generator = generator(train_path, train_doc, batch_size)\n",
    "val_generator = generator(val_path, val_doc, batch_size)"
   ]
  },
  {
   "cell_type": "code",
   "execution_count": 25,
   "metadata": {},
   "outputs": [
    {
     "name": "stdout",
     "output_type": "stream",
     "text": [
      "WARNING:tensorflow:`period` argument is deprecated. Please use `save_freq` to specify the frequency in number of batches seen.\n"
     ]
    }
   ],
   "source": [
    "model_name = 'simple_conv3d(bacthnormalization and less parmas)' + '_' + str(curr_dt_time).replace(' ','').replace(':','_') + '/'\n",
    "    \n",
    "if not os.path.exists(model_name):\n",
    "    os.mkdir(model_name)\n",
    "        \n",
    "filepath = model_name + 'model-{epoch:05d}-{loss:.5f}-{categorical_accuracy:.5f}-{val_loss:.5f}-{val_categorical_accuracy:.5f}.h5'\n",
    "\n",
    "checkpoint = ModelCheckpoint(filepath, monitor='val_loss', verbose=1, save_best_only=False, save_weights_only=False, mode='auto', period=1)\n",
    "\n",
    "LR = ReduceLROnPlateau(monitor='val_loss',factor=0.1,patience=6)# write the REducelronplateau code here\n",
    "callbacks_list = [checkpoint, LR]"
   ]
  },
  {
   "cell_type": "code",
   "execution_count": 26,
   "metadata": {},
   "outputs": [],
   "source": [
    "if (num_train_sequences%batch_size) == 0:\n",
    "    steps_per_epoch = int(num_train_sequences/batch_size)\n",
    "else:\n",
    "    steps_per_epoch = (num_train_sequences//batch_size) + 1\n",
    "\n",
    "if (num_val_sequences%batch_size) == 0:\n",
    "    validation_steps = int(num_val_sequences/batch_size)\n",
    "else:\n",
    "    validation_steps = (num_val_sequences//batch_size) + 1"
   ]
  },
  {
   "cell_type": "code",
   "execution_count": 27,
   "metadata": {},
   "outputs": [
    {
     "name": "stdout",
     "output_type": "stream",
     "text": [
      "Source path =  /home/datasets/Project_data/train ; batch size = 30\n",
      "Epoch 1/15\n",
      "23/23 [==============================] - ETA: 0s - loss: 50.6891 - categorical_accuracy: 0.3652Source path =  /home/datasets/Project_data/val ; batch size = 30\n",
      "\n",
      "Epoch 00001: saving model to simple_conv3d(bacthnormalization and less parmas)_2021-05-2508_45_03.212951/model-00001-50.68905-0.36522-13.58434-0.22500.h5\n",
      "23/23 [==============================] - 85s 4s/step - loss: 50.6891 - categorical_accuracy: 0.3652 - val_loss: 13.5843 - val_categorical_accuracy: 0.2250\n",
      "Epoch 2/15\n",
      "23/23 [==============================] - ETA: 0s - loss: 2.4935 - categorical_accuracy: 0.6580\n",
      "Epoch 00002: saving model to simple_conv3d(bacthnormalization and less parmas)_2021-05-2508_45_03.212951/model-00002-2.49350-0.65797-8.08317-0.26667.h5\n",
      "23/23 [==============================] - 86s 4s/step - loss: 2.4935 - categorical_accuracy: 0.6580 - val_loss: 8.0832 - val_categorical_accuracy: 0.2667\n",
      "Epoch 3/15\n",
      "23/23 [==============================] - ETA: 0s - loss: 0.8442 - categorical_accuracy: 0.7638\n",
      "Epoch 00003: saving model to simple_conv3d(bacthnormalization and less parmas)_2021-05-2508_45_03.212951/model-00003-0.84423-0.76377-10.20384-0.31667.h5\n",
      "23/23 [==============================] - 83s 4s/step - loss: 0.8442 - categorical_accuracy: 0.7638 - val_loss: 10.2038 - val_categorical_accuracy: 0.3167\n",
      "Epoch 4/15\n",
      "23/23 [==============================] - ETA: 0s - loss: 0.5007 - categorical_accuracy: 0.8391\n",
      "Epoch 00004: saving model to simple_conv3d(bacthnormalization and less parmas)_2021-05-2508_45_03.212951/model-00004-0.50071-0.83913-16.25653-0.28333.h5\n",
      "23/23 [==============================] - 83s 4s/step - loss: 0.5007 - categorical_accuracy: 0.8391 - val_loss: 16.2565 - val_categorical_accuracy: 0.2833\n",
      "Epoch 5/15\n",
      "23/23 [==============================] - ETA: 0s - loss: 0.2557 - categorical_accuracy: 0.9101\n",
      "Epoch 00005: saving model to simple_conv3d(bacthnormalization and less parmas)_2021-05-2508_45_03.212951/model-00005-0.25568-0.91014-23.07906-0.30000.h5\n",
      "23/23 [==============================] - 84s 4s/step - loss: 0.2557 - categorical_accuracy: 0.9101 - val_loss: 23.0791 - val_categorical_accuracy: 0.3000\n",
      "Epoch 6/15\n",
      "23/23 [==============================] - ETA: 0s - loss: 0.2088 - categorical_accuracy: 0.9319\n",
      "Epoch 00006: saving model to simple_conv3d(bacthnormalization and less parmas)_2021-05-2508_45_03.212951/model-00006-0.20875-0.93188-31.27165-0.31667.h5\n",
      "23/23 [==============================] - 84s 4s/step - loss: 0.2088 - categorical_accuracy: 0.9319 - val_loss: 31.2716 - val_categorical_accuracy: 0.3167\n",
      "Epoch 7/15\n",
      "23/23 [==============================] - ETA: 0s - loss: 0.0914 - categorical_accuracy: 0.9681\n",
      "Epoch 00007: saving model to simple_conv3d(bacthnormalization and less parmas)_2021-05-2508_45_03.212951/model-00007-0.09140-0.96812-45.99983-0.25833.h5\n",
      "23/23 [==============================] - 89s 4s/step - loss: 0.0914 - categorical_accuracy: 0.9681 - val_loss: 45.9998 - val_categorical_accuracy: 0.2583\n",
      "Epoch 8/15\n",
      "23/23 [==============================] - ETA: 0s - loss: 0.1082 - categorical_accuracy: 0.9580\n",
      "Epoch 00008: saving model to simple_conv3d(bacthnormalization and less parmas)_2021-05-2508_45_03.212951/model-00008-0.10818-0.95797-51.87627-0.27500.h5\n",
      "23/23 [==============================] - 89s 4s/step - loss: 0.1082 - categorical_accuracy: 0.9580 - val_loss: 51.8763 - val_categorical_accuracy: 0.2750\n",
      "Epoch 9/15\n",
      "23/23 [==============================] - ETA: 0s - loss: 0.0786 - categorical_accuracy: 0.9667\n",
      "Epoch 00009: saving model to simple_conv3d(bacthnormalization and less parmas)_2021-05-2508_45_03.212951/model-00009-0.07865-0.96667-71.65273-0.27500.h5\n",
      "23/23 [==============================] - 84s 4s/step - loss: 0.0786 - categorical_accuracy: 0.9667 - val_loss: 71.6527 - val_categorical_accuracy: 0.2750\n",
      "Epoch 10/15\n",
      "23/23 [==============================] - ETA: 0s - loss: 0.0404 - categorical_accuracy: 0.9841\n",
      "Epoch 00010: saving model to simple_conv3d(bacthnormalization and less parmas)_2021-05-2508_45_03.212951/model-00010-0.04041-0.98406-74.92162-0.27500.h5\n",
      "23/23 [==============================] - 86s 4s/step - loss: 0.0404 - categorical_accuracy: 0.9841 - val_loss: 74.9216 - val_categorical_accuracy: 0.2750\n",
      "Epoch 11/15\n",
      "23/23 [==============================] - ETA: 0s - loss: 0.0573 - categorical_accuracy: 0.9841\n",
      "Epoch 00011: saving model to simple_conv3d(bacthnormalization and less parmas)_2021-05-2508_45_03.212951/model-00011-0.05735-0.98406-74.96510-0.25833.h5\n",
      "23/23 [==============================] - 84s 4s/step - loss: 0.0573 - categorical_accuracy: 0.9841 - val_loss: 74.9651 - val_categorical_accuracy: 0.2583\n",
      "Epoch 12/15\n",
      "23/23 [==============================] - ETA: 0s - loss: 0.0337 - categorical_accuracy: 0.9899\n",
      "Epoch 00012: saving model to simple_conv3d(bacthnormalization and less parmas)_2021-05-2508_45_03.212951/model-00012-0.03374-0.98986-88.69202-0.25000.h5\n",
      "23/23 [==============================] - 88s 4s/step - loss: 0.0337 - categorical_accuracy: 0.9899 - val_loss: 88.6920 - val_categorical_accuracy: 0.2500\n",
      "Epoch 13/15\n",
      "23/23 [==============================] - ETA: 0s - loss: 0.0253 - categorical_accuracy: 0.9957\n",
      "Epoch 00013: saving model to simple_conv3d(bacthnormalization and less parmas)_2021-05-2508_45_03.212951/model-00013-0.02535-0.99565-94.25050-0.26667.h5\n",
      "23/23 [==============================] - 92s 4s/step - loss: 0.0253 - categorical_accuracy: 0.9957 - val_loss: 94.2505 - val_categorical_accuracy: 0.2667\n",
      "Epoch 14/15\n",
      "23/23 [==============================] - ETA: 0s - loss: 0.0305 - categorical_accuracy: 0.9884\n",
      "Epoch 00014: saving model to simple_conv3d(bacthnormalization and less parmas)_2021-05-2508_45_03.212951/model-00014-0.03046-0.98841-101.86512-0.30833.h5\n",
      "23/23 [==============================] - 89s 4s/step - loss: 0.0305 - categorical_accuracy: 0.9884 - val_loss: 101.8651 - val_categorical_accuracy: 0.3083\n",
      "Epoch 15/15\n",
      "23/23 [==============================] - ETA: 0s - loss: 0.0170 - categorical_accuracy: 1.0000\n",
      "Epoch 00015: saving model to simple_conv3d(bacthnormalization and less parmas)_2021-05-2508_45_03.212951/model-00015-0.01701-1.00000-109.70428-0.20000.h5\n",
      "23/23 [==============================] - 83s 4s/step - loss: 0.0170 - categorical_accuracy: 1.0000 - val_loss: 109.7043 - val_categorical_accuracy: 0.2000\n"
     ]
    }
   ],
   "source": [
    "history=model3.fit(train_generator, steps_per_epoch=steps_per_epoch, epochs=15, verbose=1, \n",
    "                    callbacks=callbacks_list, validation_data=val_generator, \n",
    "                    validation_steps=validation_steps, class_weight=None, workers=1, initial_epoch=0)"
   ]
  },
  {
   "cell_type": "code",
   "execution_count": 28,
   "metadata": {},
   "outputs": [
    {
     "data": {
      "image/png": "[encoded data removed]",
      "text/plain": [
       "<Figure size 1080x288 with 2 Axes>"
      ]
     },
     "metadata": {
      "needs_background": "light"
     },
     "output_type": "display_data"
    }
   ],
   "source": [
    "plot(history)"
   ]
  },
  {
   "cell_type": "markdown",
   "metadata": {},
   "source": [
    "### we can clearly see that reducing parameters does not improvving model performance amd it is overfittting"
   ]
  },
  {
   "cell_type": "markdown",
   "metadata": {},
   "source": [
    "#### let's try GRU with Conv2D"
   ]
  },
  {
   "cell_type": "code",
   "execution_count": 39,
   "metadata": {},
   "outputs": [
    {
     "name": "stdout",
     "output_type": "stream",
     "text": [
      "Model: \"sequential_3\"\n",
      "_________________________________________________________________\n",
      "Layer (type)                 Output Shape              Param #   \n",
      "=================================================================\n",
      "time_distributed_9 (TimeDist (None, 15, 120, 120, 16)  448       \n",
      "_________________________________________________________________\n",
      "time_distributed_10 (TimeDis (None, 15, 60, 60, 16)    0         \n",
      "_________________________________________________________________\n",
      "time_distributed_11 (TimeDis (None, 15, 60, 60, 32)    4640      \n",
      "_________________________________________________________________\n",
      "time_distributed_12 (TimeDis (None, 15, 30, 30, 32)    0         \n",
      "_________________________________________________________________\n",
      "time_distributed_13 (TimeDis (None, 15, 30, 30, 64)    18496     \n",
      "_________________________________________________________________\n",
      "time_distributed_14 (TimeDis (None, 15, 15, 15, 64)    0         \n",
      "_________________________________________________________________\n",
      "time_distributed_15 (TimeDis (None, 15, 15, 15, 128)   73856     \n",
      "_________________________________________________________________\n",
      "time_distributed_16 (TimeDis (None, 15, 7, 7, 128)     0         \n",
      "_________________________________________________________________\n",
      "time_distributed_17 (TimeDis (None, 15, 6272)          0         \n",
      "_________________________________________________________________\n",
      "gru_1 (GRU)                  (None, 128)               2458368   \n",
      "_________________________________________________________________\n",
      "dense_2 (Dense)              (None, 512)               66048     \n",
      "_________________________________________________________________\n",
      "dense_3 (Dense)              (None, 5)                 2565      \n",
      "=================================================================\n",
      "Total params: 2,624,421\n",
      "Trainable params: 2,624,421\n",
      "Non-trainable params: 0\n",
      "_________________________________________________________________\n"
     ]
    }
   ],
   "source": [
    "input_shape=(15,120,120,3)\n",
    "model4=Sequential()\n",
    "model4.add(TimeDistributed(Conv2D(16,(3,3),padding='same',activation='relu'),input_shape=input_shape))\n",
    "model4.add(TimeDistributed(MaxPooling2D(2,2)))\n",
    "model4.add(TimeDistributed(Conv2D(32,(3,3),padding='same',activation='relu')))\n",
    "model4.add(TimeDistributed(MaxPooling2D((2,2))))\n",
    "model4.add(TimeDistributed(Conv2D(64,(3,3),padding='same',activation='relu')))\n",
    "model4.add(TimeDistributed(MaxPooling2D(2,2)))\n",
    "model4.add(TimeDistributed(Conv2D(128,(3,3),padding='same',activation='relu')))\n",
    "model4.add(TimeDistributed(MaxPooling2D(2,2)))\n",
    "model4.add(TimeDistributed(Flatten()))\n",
    "model4.add(GRU(128))\n",
    "model4.add(Dense(512,activation='relu'))\n",
    "model4.add(Dense(5,activation='softmax'))\n",
    "model4.summary()\n"
   ]
  },
  {
   "cell_type": "code",
   "execution_count": 40,
   "metadata": {},
   "outputs": [
    {
     "name": "stdout",
     "output_type": "stream",
     "text": [
      "Model: \"sequential_3\"\n",
      "_________________________________________________________________\n",
      "Layer (type)                 Output Shape              Param #   \n",
      "=================================================================\n",
      "time_distributed_9 (TimeDist (None, 15, 120, 120, 16)  448       \n",
      "_________________________________________________________________\n",
      "time_distributed_10 (TimeDis (None, 15, 60, 60, 16)    0         \n",
      "_________________________________________________________________\n",
      "time_distributed_11 (TimeDis (None, 15, 60, 60, 32)    4640      \n",
      "_________________________________________________________________\n",
      "time_distributed_12 (TimeDis (None, 15, 30, 30, 32)    0         \n",
      "_________________________________________________________________\n",
      "time_distributed_13 (TimeDis (None, 15, 30, 30, 64)    18496     \n",
      "_________________________________________________________________\n",
      "time_distributed_14 (TimeDis (None, 15, 15, 15, 64)    0         \n",
      "_________________________________________________________________\n",
      "time_distributed_15 (TimeDis (None, 15, 15, 15, 128)   73856     \n",
      "_________________________________________________________________\n",
      "time_distributed_16 (TimeDis (None, 15, 7, 7, 128)     0         \n",
      "_________________________________________________________________\n",
      "time_distributed_17 (TimeDis (None, 15, 6272)          0         \n",
      "_________________________________________________________________\n",
      "gru_1 (GRU)                  (None, 128)               2458368   \n",
      "_________________________________________________________________\n",
      "dense_2 (Dense)              (None, 512)               66048     \n",
      "_________________________________________________________________\n",
      "dense_3 (Dense)              (None, 5)                 2565      \n",
      "=================================================================\n",
      "Total params: 2,624,421\n",
      "Trainable params: 2,624,421\n",
      "Non-trainable params: 0\n",
      "_________________________________________________________________\n",
      "None\n"
     ]
    }
   ],
   "source": [
    "optimiser = keras.optimizers.Adam(lr=0.001) #write your optimizer\n",
    "model4.compile(optimizer=optimiser, loss='categorical_crossentropy', metrics=['categorical_accuracy'])\n",
    "print (model4.summary())"
   ]
  },
  {
   "cell_type": "code",
   "execution_count": 41,
   "metadata": {},
   "outputs": [
    {
     "name": "stdout",
     "output_type": "stream",
     "text": [
      "WARNING:tensorflow:`period` argument is deprecated. Please use `save_freq` to specify the frequency in number of batches seen.\n"
     ]
    }
   ],
   "source": [
    "model_name = 'conv2d_Gru' + '_' + str(curr_dt_time).replace(' ','').replace(':','_') + '/'\n",
    "    \n",
    "if not os.path.exists(model_name):\n",
    "    os.mkdir(model_name)\n",
    "        \n",
    "filepath = model_name + 'model-{epoch:05d}-{loss:.5f}-{categorical_accuracy:.5f}-{val_loss:.5f}-{val_categorical_accuracy:.5f}.h5'\n",
    "\n",
    "checkpoint = ModelCheckpoint(filepath, monitor='val_loss', verbose=1, save_best_only=False, save_weights_only=False, mode='auto', period=1)\n",
    "ES=EarlyStopping(monitor='categorical_accuracy',patience=4)\n",
    "LR = ReduceLROnPlateau(monitor='val_loss',factor=0.1,patience=6)# write the REducelronplateau code here\n",
    "callbacks_list = [checkpoint, LR,ES]"
   ]
  },
  {
   "cell_type": "code",
   "execution_count": 42,
   "metadata": {},
   "outputs": [],
   "source": [
    "train_generator = generator(train_path, train_doc, batch_size)\n",
    "val_generator = generator(val_path, val_doc, batch_size)"
   ]
  },
  {
   "cell_type": "code",
   "execution_count": 43,
   "metadata": {},
   "outputs": [],
   "source": [
    "if (num_train_sequences%batch_size) == 0:\n",
    "    steps_per_epoch = int(num_train_sequences/batch_size)\n",
    "else:\n",
    "    steps_per_epoch = (num_train_sequences//batch_size) + 1\n",
    "\n",
    "if (num_val_sequences%batch_size) == 0:\n",
    "    validation_steps = int(num_val_sequences/batch_size)\n",
    "else:\n",
    "    validation_steps = (num_val_sequences//batch_size) + 1"
   ]
  },
  {
   "cell_type": "code",
   "execution_count": 44,
   "metadata": {},
   "outputs": [
    {
     "name": "stdout",
     "output_type": "stream",
     "text": [
      "Source path =  /home/datasets/Project_data/train ; batch size = 30\n",
      "Epoch 1/20\n",
      "23/23 [==============================] - ETA: 0s - loss: 1.6170 - categorical_accuracy: 0.2652Source path =  /home/datasets/Project_data/val ; batch size = 30\n",
      "\n",
      "Epoch 00001: saving model to conv2d_Gru_2021-05-2510_08_49.299132/model-00001-1.61697-0.26522-1.56914-0.24167.h5\n",
      "23/23 [==============================] - 76s 3s/step - loss: 1.6170 - categorical_accuracy: 0.2652 - val_loss: 1.5691 - val_categorical_accuracy: 0.2417\n",
      "Epoch 2/20\n",
      "23/23 [==============================] - ETA: 0s - loss: 1.4682 - categorical_accuracy: 0.3333\n",
      "Epoch 00002: saving model to conv2d_Gru_2021-05-2510_08_49.299132/model-00002-1.46824-0.33333-1.24612-0.52500.h5\n",
      "23/23 [==============================] - 77s 3s/step - loss: 1.4682 - categorical_accuracy: 0.3333 - val_loss: 1.2461 - val_categorical_accuracy: 0.5250\n",
      "Epoch 3/20\n",
      "23/23 [==============================] - ETA: 0s - loss: 1.2105 - categorical_accuracy: 0.5319\n",
      "Epoch 00003: saving model to conv2d_Gru_2021-05-2510_08_49.299132/model-00003-1.21050-0.53188-1.13418-0.58333.h5\n",
      "23/23 [==============================] - 77s 3s/step - loss: 1.2105 - categorical_accuracy: 0.5319 - val_loss: 1.1342 - val_categorical_accuracy: 0.5833\n",
      "Epoch 4/20\n",
      "23/23 [==============================] - ETA: 0s - loss: 0.9240 - categorical_accuracy: 0.6449\n",
      "Epoch 00004: saving model to conv2d_Gru_2021-05-2510_08_49.299132/model-00004-0.92402-0.64493-0.87866-0.70000.h5\n",
      "23/23 [==============================] - 79s 3s/step - loss: 0.9240 - categorical_accuracy: 0.6449 - val_loss: 0.8787 - val_categorical_accuracy: 0.7000\n",
      "Epoch 5/20\n",
      "23/23 [==============================] - ETA: 0s - loss: 0.6651 - categorical_accuracy: 0.7464\n",
      "Epoch 00005: saving model to conv2d_Gru_2021-05-2510_08_49.299132/model-00005-0.66508-0.74638-0.86807-0.72500.h5\n",
      "23/23 [==============================] - 78s 3s/step - loss: 0.6651 - categorical_accuracy: 0.7464 - val_loss: 0.8681 - val_categorical_accuracy: 0.7250\n",
      "Epoch 6/20\n",
      "23/23 [==============================] - ETA: 0s - loss: 0.4597 - categorical_accuracy: 0.8159\n",
      "Epoch 00006: saving model to conv2d_Gru_2021-05-2510_08_49.299132/model-00006-0.45969-0.81594-1.01555-0.70000.h5\n",
      "23/23 [==============================] - 79s 3s/step - loss: 0.4597 - categorical_accuracy: 0.8159 - val_loss: 1.0155 - val_categorical_accuracy: 0.7000\n",
      "Epoch 7/20\n",
      "23/23 [==============================] - ETA: 0s - loss: 0.4094 - categorical_accuracy: 0.8478\n",
      "Epoch 00007: saving model to conv2d_Gru_2021-05-2510_08_49.299132/model-00007-0.40938-0.84783-0.64792-0.75833.h5\n",
      "23/23 [==============================] - 81s 4s/step - loss: 0.4094 - categorical_accuracy: 0.8478 - val_loss: 0.6479 - val_categorical_accuracy: 0.7583\n",
      "Epoch 8/20\n",
      "23/23 [==============================] - ETA: 0s - loss: 0.1524 - categorical_accuracy: 0.9565\n",
      "Epoch 00008: saving model to conv2d_Gru_2021-05-2510_08_49.299132/model-00008-0.15241-0.95652-0.39831-0.89167.h5\n",
      "23/23 [==============================] - 78s 3s/step - loss: 0.1524 - categorical_accuracy: 0.9565 - val_loss: 0.3983 - val_categorical_accuracy: 0.8917\n",
      "Epoch 9/20\n",
      "23/23 [==============================] - ETA: 0s - loss: 0.1376 - categorical_accuracy: 0.9435\n",
      "Epoch 00009: saving model to conv2d_Gru_2021-05-2510_08_49.299132/model-00009-0.13759-0.94348-0.42550-0.85000.h5\n",
      "23/23 [==============================] - 82s 4s/step - loss: 0.1376 - categorical_accuracy: 0.9435 - val_loss: 0.4255 - val_categorical_accuracy: 0.8500\n",
      "Epoch 10/20\n",
      "23/23 [==============================] - ETA: 0s - loss: 0.1734 - categorical_accuracy: 0.9391\n",
      "Epoch 00010: saving model to conv2d_Gru_2021-05-2510_08_49.299132/model-00010-0.17342-0.93913-0.61655-0.77500.h5\n",
      "23/23 [==============================] - 80s 3s/step - loss: 0.1734 - categorical_accuracy: 0.9391 - val_loss: 0.6166 - val_categorical_accuracy: 0.7750\n",
      "Epoch 11/20\n",
      "23/23 [==============================] - ETA: 0s - loss: 0.0763 - categorical_accuracy: 0.9768\n",
      "Epoch 00011: saving model to conv2d_Gru_2021-05-2510_08_49.299132/model-00011-0.07634-0.97681-0.84173-0.71667.h5\n",
      "23/23 [==============================] - 80s 3s/step - loss: 0.0763 - categorical_accuracy: 0.9768 - val_loss: 0.8417 - val_categorical_accuracy: 0.7167\n",
      "Epoch 12/20\n",
      "23/23 [==============================] - ETA: 0s - loss: 0.0307 - categorical_accuracy: 0.9913\n",
      "Epoch 00012: saving model to conv2d_Gru_2021-05-2510_08_49.299132/model-00012-0.03070-0.99130-0.74116-0.81667.h5\n",
      "23/23 [==============================] - 82s 4s/step - loss: 0.0307 - categorical_accuracy: 0.9913 - val_loss: 0.7412 - val_categorical_accuracy: 0.8167\n",
      "Epoch 13/20\n",
      "23/23 [==============================] - ETA: 0s - loss: 0.0405 - categorical_accuracy: 0.9841\n",
      "Epoch 00013: saving model to conv2d_Gru_2021-05-2510_08_49.299132/model-00013-0.04054-0.98406-0.79332-0.73333.h5\n",
      "23/23 [==============================] - 95s 4s/step - loss: 0.0405 - categorical_accuracy: 0.9841 - val_loss: 0.7933 - val_categorical_accuracy: 0.7333\n",
      "Epoch 14/20\n",
      "23/23 [==============================] - ETA: 0s - loss: 0.0115 - categorical_accuracy: 0.9986\n",
      "Epoch 00014: saving model to conv2d_Gru_2021-05-2510_08_49.299132/model-00014-0.01148-0.99855-0.75981-0.80833.h5\n",
      "23/23 [==============================] - 82s 4s/step - loss: 0.0115 - categorical_accuracy: 0.9986 - val_loss: 0.7598 - val_categorical_accuracy: 0.8083\n",
      "Epoch 15/20\n",
      "23/23 [==============================] - ETA: 0s - loss: 0.0052 - categorical_accuracy: 1.0000\n",
      "Epoch 00015: saving model to conv2d_Gru_2021-05-2510_08_49.299132/model-00015-0.00523-1.00000-0.67848-0.75000.h5\n",
      "23/23 [==============================] - 79s 3s/step - loss: 0.0052 - categorical_accuracy: 1.0000 - val_loss: 0.6785 - val_categorical_accuracy: 0.7500\n",
      "Epoch 16/20\n",
      "23/23 [==============================] - ETA: 0s - loss: 0.0035 - categorical_accuracy: 1.0000\n",
      "Epoch 00016: saving model to conv2d_Gru_2021-05-2510_08_49.299132/model-00016-0.00345-1.00000-0.75859-0.78333.h5\n",
      "23/23 [==============================] - 83s 4s/step - loss: 0.0035 - categorical_accuracy: 1.0000 - val_loss: 0.7586 - val_categorical_accuracy: 0.7833\n",
      "Epoch 17/20\n",
      "23/23 [==============================] - ETA: 0s - loss: 0.0024 - categorical_accuracy: 1.0000\n",
      "Epoch 00017: saving model to conv2d_Gru_2021-05-2510_08_49.299132/model-00017-0.00237-1.00000-0.66610-0.79167.h5\n",
      "23/23 [==============================] - 79s 3s/step - loss: 0.0024 - categorical_accuracy: 1.0000 - val_loss: 0.6661 - val_categorical_accuracy: 0.7917\n",
      "Epoch 18/20\n",
      "23/23 [==============================] - ETA: 0s - loss: 0.0020 - categorical_accuracy: 1.0000\n",
      "Epoch 00018: saving model to conv2d_Gru_2021-05-2510_08_49.299132/model-00018-0.00203-1.00000-0.59793-0.81667.h5\n",
      "23/23 [==============================] - 80s 3s/step - loss: 0.0020 - categorical_accuracy: 1.0000 - val_loss: 0.5979 - val_categorical_accuracy: 0.8167\n",
      "Epoch 19/20\n",
      "23/23 [==============================] - ETA: 0s - loss: 0.0018 - categorical_accuracy: 1.0000\n",
      "Epoch 00019: saving model to conv2d_Gru_2021-05-2510_08_49.299132/model-00019-0.00183-1.00000-0.49942-0.85833.h5\n",
      "23/23 [==============================] - 80s 3s/step - loss: 0.0018 - categorical_accuracy: 1.0000 - val_loss: 0.4994 - val_categorical_accuracy: 0.8583\n"
     ]
    }
   ],
   "source": [
    "history=model4.fit(train_generator, steps_per_epoch=steps_per_epoch, epochs=20, verbose=1, \n",
    "                    callbacks=callbacks_list, validation_data=val_generator, \n",
    "                    validation_steps=validation_steps, class_weight=None, workers=1, initial_epoch=0)\n"
   ]
  },
  {
   "cell_type": "markdown",
   "metadata": {},
   "source": [
    "## clearly conv2d and gru does not seem to be performing well\n",
    "### lets add regularization and recurrent dropout with more layers"
   ]
  },
  {
   "cell_type": "code",
   "execution_count": 29,
   "metadata": {},
   "outputs": [
    {
     "name": "stdout",
     "output_type": "stream",
     "text": [
      "WARNING:tensorflow:Layer gru_1 will not use cuDNN kernel since it doesn't meet the cuDNN kernel criteria. It will use generic GPU kernel as fallback when running on GPU\n",
      "Model: \"sequential_1\"\n",
      "_________________________________________________________________\n",
      "Layer (type)                 Output Shape              Param #   \n",
      "=================================================================\n",
      "time_distributed_11 (TimeDis (None, 15, 120, 120, 16)  448       \n",
      "_________________________________________________________________\n",
      "time_distributed_12 (TimeDis (None, 15, 60, 60, 16)    0         \n",
      "_________________________________________________________________\n",
      "time_distributed_13 (TimeDis (None, 15, 60, 60, 32)    4640      \n",
      "_________________________________________________________________\n",
      "time_distributed_14 (TimeDis (None, 15, 30, 30, 32)    0         \n",
      "_________________________________________________________________\n",
      "time_distributed_15 (TimeDis (None, 15, 30, 30, 64)    18496     \n",
      "_________________________________________________________________\n",
      "time_distributed_16 (TimeDis (None, 15, 15, 15, 64)    0         \n",
      "_________________________________________________________________\n",
      "time_distributed_17 (TimeDis (None, 15, 15, 15, 128)   73856     \n",
      "_________________________________________________________________\n",
      "time_distributed_18 (TimeDis (None, 15, 7, 7, 128)     0         \n",
      "_________________________________________________________________\n",
      "time_distributed_19 (TimeDis (None, 15, 7, 7, 256)     295168    \n",
      "_________________________________________________________________\n",
      "time_distributed_20 (TimeDis (None, 15, 3, 3, 256)     0         \n",
      "_________________________________________________________________\n",
      "time_distributed_21 (TimeDis (None, 15, 3, 3, 512)     1180160   \n",
      "_________________________________________________________________\n",
      "time_distributed_22 (TimeDis (None, 15, 1, 1, 512)     0         \n",
      "_________________________________________________________________\n",
      "time_distributed_23 (TimeDis (None, 15, 512)           0         \n",
      "_________________________________________________________________\n",
      "gru_1 (GRU)                  (None, 128)               246528    \n",
      "_________________________________________________________________\n",
      "dense_2 (Dense)              (None, 544)               70176     \n",
      "_________________________________________________________________\n",
      "dense_3 (Dense)              (None, 5)                 2725      \n",
      "=================================================================\n",
      "Total params: 1,892,197\n",
      "Trainable params: 1,892,197\n",
      "Non-trainable params: 0\n",
      "_________________________________________________________________\n"
     ]
    }
   ],
   "source": [
    "input_shape=(15,120,120,3)\n",
    "model4=Sequential()\n",
    "model4.add(TimeDistributed(Conv2D(16,(3,3),padding='same',activation='relu'),input_shape=input_shape))\n",
    "model4.add(TimeDistributed(MaxPooling2D(2,2)))\n",
    "model4.add(TimeDistributed(Conv2D(32,(3,3),padding='same',activation='relu')))\n",
    "model4.add(TimeDistributed(MaxPooling2D((2,2))))\n",
    "model4.add(TimeDistributed(Conv2D(64,(3,3),padding='same',activation='relu')))\n",
    "model4.add(TimeDistributed(MaxPooling2D(2,2)))\n",
    "model4.add(TimeDistributed(Conv2D(128,(3,3),padding='same',activation='relu')))\n",
    "model4.add(TimeDistributed(MaxPooling2D(2,2)))\n",
    "model4.add(TimeDistributed(Conv2D(256,(3,3),padding='same',activation='relu')))\n",
    "model4.add(TimeDistributed(MaxPooling2D(2,2)))\n",
    "model4.add(TimeDistributed(Conv2D(512,(3,3),padding='same',activation='relu',)))\n",
    "model4.add(TimeDistributed(MaxPooling2D(2,2)))\n",
    "model4.add(TimeDistributed(Flatten()))\n",
    "model4.add(GRU(128,dropout=0.2,recurrent_dropout=0.2))\n",
    "model4.add(Dense(544,activation='relu',))\n",
    "model4.add(Dense(5,activation='softmax'))\n",
    "model4.summary()"
   ]
  },
  {
   "cell_type": "code",
   "execution_count": 34,
   "metadata": {},
   "outputs": [
    {
     "name": "stdout",
     "output_type": "stream",
     "text": [
      "Model: \"sequential_1\"\n",
      "_________________________________________________________________\n",
      "Layer (type)                 Output Shape              Param #   \n",
      "=================================================================\n",
      "time_distributed_11 (TimeDis (None, 15, 120, 120, 16)  448       \n",
      "_________________________________________________________________\n",
      "time_distributed_12 (TimeDis (None, 15, 60, 60, 16)    0         \n",
      "_________________________________________________________________\n",
      "time_distributed_13 (TimeDis (None, 15, 60, 60, 32)    4640      \n",
      "_________________________________________________________________\n",
      "time_distributed_14 (TimeDis (None, 15, 30, 30, 32)    0         \n",
      "_________________________________________________________________\n",
      "time_distributed_15 (TimeDis (None, 15, 30, 30, 64)    18496     \n",
      "_________________________________________________________________\n",
      "time_distributed_16 (TimeDis (None, 15, 15, 15, 64)    0         \n",
      "_________________________________________________________________\n",
      "time_distributed_17 (TimeDis (None, 15, 15, 15, 128)   73856     \n",
      "_________________________________________________________________\n",
      "time_distributed_18 (TimeDis (None, 15, 7, 7, 128)     0         \n",
      "_________________________________________________________________\n",
      "time_distributed_19 (TimeDis (None, 15, 7, 7, 256)     295168    \n",
      "_________________________________________________________________\n",
      "time_distributed_20 (TimeDis (None, 15, 3, 3, 256)     0         \n",
      "_________________________________________________________________\n",
      "time_distributed_21 (TimeDis (None, 15, 3, 3, 512)     1180160   \n",
      "_________________________________________________________________\n",
      "time_distributed_22 (TimeDis (None, 15, 1, 1, 512)     0         \n",
      "_________________________________________________________________\n",
      "time_distributed_23 (TimeDis (None, 15, 512)           0         \n",
      "_________________________________________________________________\n",
      "gru_1 (GRU)                  (None, 128)               246528    \n",
      "_________________________________________________________________\n",
      "dense_2 (Dense)              (None, 544)               70176     \n",
      "_________________________________________________________________\n",
      "dense_3 (Dense)              (None, 5)                 2725      \n",
      "=================================================================\n",
      "Total params: 1,892,197\n",
      "Trainable params: 1,892,197\n",
      "Non-trainable params: 0\n",
      "_________________________________________________________________\n",
      "None\n"
     ]
    }
   ],
   "source": [
    "optimiser = keras.optimizers.Adam(lr=0.001) #write your optimizer\n",
    "model4.compile(optimizer=optimiser, loss='categorical_crossentropy', metrics=['categorical_accuracy'])\n",
    "print (model4.summary())"
   ]
  },
  {
   "cell_type": "code",
   "execution_count": 35,
   "metadata": {},
   "outputs": [
    {
     "name": "stdout",
     "output_type": "stream",
     "text": [
      "WARNING:tensorflow:`period` argument is deprecated. Please use `save_freq` to specify the frequency in number of batches seen.\n"
     ]
    }
   ],
   "source": [
    "model_name = 'conv2d_Gru(regu_dropout_new)' + '_' + str(curr_dt_time).replace(' ','').replace(':','_') + '/'\n",
    "    \n",
    "if not os.path.exists(model_name):\n",
    "    os.mkdir(model_name)\n",
    "        \n",
    "filepath = model_name + 'model-{epoch:05d}-{loss:.5f}-{categorical_accuracy:.5f}-{val_loss:.5f}-{val_categorical_accuracy:.5f}.h5'\n",
    "\n",
    "checkpoint = ModelCheckpoint(filepath, monitor='val_loss', verbose=1, save_best_only=True, save_weights_only=False, mode='auto', period=1)\n",
    "ES=EarlyStopping(monitor='categorical_accuracy',patience=7)\n",
    "LR = ReduceLROnPlateau(monitor='val_loss',factor=0.1,patience=6)# write the REducelronplateau code here\n",
    "callbacks_list = [checkpoint, LR,ES]"
   ]
  },
  {
   "cell_type": "code",
   "execution_count": 36,
   "metadata": {},
   "outputs": [],
   "source": [
    "train_generator = generator(train_path, train_doc, batch_size)\n",
    "val_generator = generator(val_path, val_doc, batch_size)"
   ]
  },
  {
   "cell_type": "code",
   "execution_count": 37,
   "metadata": {},
   "outputs": [],
   "source": [
    "if (num_train_sequences%batch_size) == 0:\n",
    "    steps_per_epoch = int(num_train_sequences/batch_size)\n",
    "else:\n",
    "    steps_per_epoch = (num_train_sequences//batch_size) + 1\n",
    "\n",
    "if (num_val_sequences%batch_size) == 0:\n",
    "    validation_steps = int(num_val_sequences/batch_size)\n",
    "else:\n",
    "    validation_steps = (num_val_sequences//batch_size) + 1"
   ]
  },
  {
   "cell_type": "code",
   "execution_count": 24,
   "metadata": {},
   "outputs": [
    {
     "name": "stdout",
     "output_type": "stream",
     "text": [
      "Source path =  /home/datasets/Project_data/train ; batch size = 30\n",
      "Epoch 1/30\n",
      "23/23 [==============================] - ETA: 0s - loss: 1.6165 - categorical_accuracy: 0.2246Source path =  /home/datasets/Project_data/val ; batch size = 30\n",
      "\n",
      "Epoch 00001: val_loss improved from inf to 1.60851, saving model to conv2d_Gru(regu_dropout_new)_2021-05-2805_13_36.263269/model-00001-1.61646-0.22464-1.60851-0.21667.h5\n",
      "23/23 [==============================] - 82s 4s/step - loss: 1.6165 - categorical_accuracy: 0.2246 - val_loss: 1.6085 - val_categorical_accuracy: 0.2167\n",
      "Epoch 2/30\n",
      "23/23 [==============================] - ETA: 0s - loss: 1.5970 - categorical_accuracy: 0.2232\n",
      "Epoch 00002: val_loss improved from 1.60851 to 1.58836, saving model to conv2d_Gru(regu_dropout_new)_2021-05-2805_13_36.263269/model-00002-1.59700-0.22319-1.58836-0.36667.h5\n",
      "23/23 [==============================] - 80s 3s/step - loss: 1.5970 - categorical_accuracy: 0.2232 - val_loss: 1.5884 - val_categorical_accuracy: 0.3667\n",
      "Epoch 3/30\n",
      "23/23 [==============================] - ETA: 0s - loss: 1.5363 - categorical_accuracy: 0.2783\n",
      "Epoch 00003: val_loss improved from 1.58836 to 1.41741, saving model to conv2d_Gru(regu_dropout_new)_2021-05-2805_13_36.263269/model-00003-1.53631-0.27826-1.41741-0.35000.h5\n",
      "23/23 [==============================] - 80s 3s/step - loss: 1.5363 - categorical_accuracy: 0.2783 - val_loss: 1.4174 - val_categorical_accuracy: 0.3500\n",
      "Epoch 4/30\n",
      "23/23 [==============================] - ETA: 0s - loss: 1.4813 - categorical_accuracy: 0.3304\n",
      "Epoch 00004: val_loss improved from 1.41741 to 1.39417, saving model to conv2d_Gru(regu_dropout_new)_2021-05-2805_13_36.263269/model-00004-1.48128-0.33043-1.39417-0.50000.h5\n",
      "23/23 [==============================] - 79s 3s/step - loss: 1.4813 - categorical_accuracy: 0.3304 - val_loss: 1.3942 - val_categorical_accuracy: 0.5000\n",
      "Epoch 5/30\n",
      "23/23 [==============================] - ETA: 0s - loss: 1.3035 - categorical_accuracy: 0.4116\n",
      "Epoch 00005: val_loss improved from 1.39417 to 1.29987, saving model to conv2d_Gru(regu_dropout_new)_2021-05-2805_13_36.263269/model-00005-1.30354-0.41159-1.29987-0.40000.h5\n",
      "23/23 [==============================] - 80s 3s/step - loss: 1.3035 - categorical_accuracy: 0.4116 - val_loss: 1.2999 - val_categorical_accuracy: 0.4000\n",
      "Epoch 6/30\n",
      "23/23 [==============================] - ETA: 0s - loss: 1.2028 - categorical_accuracy: 0.4594\n",
      "Epoch 00006: val_loss improved from 1.29987 to 1.06456, saving model to conv2d_Gru(regu_dropout_new)_2021-05-2805_13_36.263269/model-00006-1.20280-0.45942-1.06456-0.53333.h5\n",
      "23/23 [==============================] - 77s 3s/step - loss: 1.2028 - categorical_accuracy: 0.4594 - val_loss: 1.0646 - val_categorical_accuracy: 0.5333\n",
      "Epoch 7/30\n",
      "23/23 [==============================] - ETA: 0s - loss: 1.0373 - categorical_accuracy: 0.5754\n",
      "Epoch 00007: val_loss did not improve from 1.06456\n",
      "23/23 [==============================] - 78s 3s/step - loss: 1.0373 - categorical_accuracy: 0.5754 - val_loss: 1.0841 - val_categorical_accuracy: 0.6250\n",
      "Epoch 8/30\n",
      "23/23 [==============================] - ETA: 0s - loss: 0.8545 - categorical_accuracy: 0.6609\n",
      "Epoch 00008: val_loss improved from 1.06456 to 0.95786, saving model to conv2d_Gru(regu_dropout_new)_2021-05-2805_13_36.263269/model-00008-0.85454-0.66087-0.95786-0.58333.h5\n",
      "23/23 [==============================] - 77s 3s/step - loss: 0.8545 - categorical_accuracy: 0.6609 - val_loss: 0.9579 - val_categorical_accuracy: 0.5833\n",
      "Epoch 9/30\n",
      "23/23 [==============================] - ETA: 0s - loss: 0.7725 - categorical_accuracy: 0.6986\n",
      "Epoch 00009: val_loss improved from 0.95786 to 0.87850, saving model to conv2d_Gru(regu_dropout_new)_2021-05-2805_13_36.263269/model-00009-0.77255-0.69855-0.87850-0.60833.h5\n",
      "23/23 [==============================] - 80s 3s/step - loss: 0.7725 - categorical_accuracy: 0.6986 - val_loss: 0.8785 - val_categorical_accuracy: 0.6083\n",
      "Epoch 10/30\n",
      "23/23 [==============================] - ETA: 0s - loss: 0.5631 - categorical_accuracy: 0.7928\n",
      "Epoch 00010: val_loss improved from 0.87850 to 0.84028, saving model to conv2d_Gru(regu_dropout_new)_2021-05-2805_13_36.263269/model-00010-0.56310-0.79275-0.84028-0.72500.h5\n",
      "23/23 [==============================] - 77s 3s/step - loss: 0.5631 - categorical_accuracy: 0.7928 - val_loss: 0.8403 - val_categorical_accuracy: 0.7250\n",
      "Epoch 11/30\n",
      "23/23 [==============================] - ETA: 0s - loss: 0.4312 - categorical_accuracy: 0.8420\n",
      "Epoch 00011: val_loss improved from 0.84028 to 0.79504, saving model to conv2d_Gru(regu_dropout_new)_2021-05-2805_13_36.263269/model-00011-0.43117-0.84203-0.79504-0.67500.h5\n",
      "23/23 [==============================] - 76s 3s/step - loss: 0.4312 - categorical_accuracy: 0.8420 - val_loss: 0.7950 - val_categorical_accuracy: 0.6750\n",
      "Epoch 12/30\n",
      "23/23 [==============================] - ETA: 0s - loss: 0.2968 - categorical_accuracy: 0.8841\n",
      "Epoch 00012: val_loss did not improve from 0.79504\n",
      "23/23 [==============================] - 73s 3s/step - loss: 0.2968 - categorical_accuracy: 0.8841 - val_loss: 0.8299 - val_categorical_accuracy: 0.6750\n",
      "Epoch 13/30\n",
      "23/23 [==============================] - ETA: 0s - loss: 0.3602 - categorical_accuracy: 0.8551\n",
      "Epoch 00013: val_loss did not improve from 0.79504\n",
      "23/23 [==============================] - 77s 3s/step - loss: 0.3602 - categorical_accuracy: 0.8551 - val_loss: 2.1051 - val_categorical_accuracy: 0.4167\n",
      "Epoch 14/30\n",
      "23/23 [==============================] - ETA: 0s - loss: 0.3763 - categorical_accuracy: 0.8594\n",
      "Epoch 00014: val_loss did not improve from 0.79504\n",
      "23/23 [==============================] - 78s 3s/step - loss: 0.3763 - categorical_accuracy: 0.8594 - val_loss: 0.9094 - val_categorical_accuracy: 0.7417\n",
      "Epoch 15/30\n",
      "23/23 [==============================] - ETA: 0s - loss: 0.1851 - categorical_accuracy: 0.9348\n",
      "Epoch 00015: val_loss improved from 0.79504 to 0.53275, saving model to conv2d_Gru(regu_dropout_new)_2021-05-2805_13_36.263269/model-00015-0.18513-0.93478-0.53275-0.79167.h5\n",
      "23/23 [==============================] - 81s 4s/step - loss: 0.1851 - categorical_accuracy: 0.9348 - val_loss: 0.5327 - val_categorical_accuracy: 0.7917\n",
      "Epoch 16/30\n",
      "23/23 [==============================] - ETA: 0s - loss: 0.1663 - categorical_accuracy: 0.9420\n",
      "Epoch 00016: val_loss did not improve from 0.53275\n",
      "23/23 [==============================] - 82s 4s/step - loss: 0.1663 - categorical_accuracy: 0.9420 - val_loss: 0.7953 - val_categorical_accuracy: 0.8333\n",
      "Epoch 17/30\n",
      "23/23 [==============================] - ETA: 0s - loss: 0.0775 - categorical_accuracy: 0.9739\n",
      "Epoch 00017: val_loss did not improve from 0.53275\n",
      "23/23 [==============================] - 77s 3s/step - loss: 0.0775 - categorical_accuracy: 0.9739 - val_loss: 1.0565 - val_categorical_accuracy: 0.7417\n",
      "Epoch 18/30\n",
      "23/23 [==============================] - ETA: 0s - loss: 0.0295 - categorical_accuracy: 0.9913\n",
      "Epoch 00018: val_loss did not improve from 0.53275\n",
      "23/23 [==============================] - 80s 3s/step - loss: 0.0295 - categorical_accuracy: 0.9913 - val_loss: 0.7511 - val_categorical_accuracy: 0.8250\n",
      "Epoch 19/30\n",
      "23/23 [==============================] - ETA: 0s - loss: 0.0330 - categorical_accuracy: 0.9870\n",
      "Epoch 00019: val_loss did not improve from 0.53275\n",
      "23/23 [==============================] - 81s 4s/step - loss: 0.0330 - categorical_accuracy: 0.9870 - val_loss: 0.7247 - val_categorical_accuracy: 0.8667\n",
      "Epoch 20/30\n",
      "23/23 [==============================] - ETA: 0s - loss: 0.0160 - categorical_accuracy: 0.9942\n",
      "Epoch 00020: val_loss did not improve from 0.53275\n",
      "23/23 [==============================] - 81s 4s/step - loss: 0.0160 - categorical_accuracy: 0.9942 - val_loss: 0.5705 - val_categorical_accuracy: 0.8583\n",
      "Epoch 21/30\n",
      "23/23 [==============================] - ETA: 0s - loss: 0.0232 - categorical_accuracy: 0.9971\n",
      "Epoch 00021: val_loss did not improve from 0.53275\n",
      "23/23 [==============================] - 80s 3s/step - loss: 0.0232 - categorical_accuracy: 0.9971 - val_loss: 0.7743 - val_categorical_accuracy: 0.7667\n",
      "Epoch 22/30\n",
      "23/23 [==============================] - ETA: 0s - loss: 0.0047 - categorical_accuracy: 0.9986\n",
      "Epoch 00022: val_loss improved from 0.53275 to 0.37910, saving model to conv2d_Gru(regu_dropout_new)_2021-05-2805_13_36.263269/model-00022-0.00473-0.99855-0.37910-0.90000.h5\n",
      "23/23 [==============================] - 79s 3s/step - loss: 0.0047 - categorical_accuracy: 0.9986 - val_loss: 0.3791 - val_categorical_accuracy: 0.9000\n",
      "Epoch 23/30\n",
      "23/23 [==============================] - ETA: 0s - loss: 0.0020 - categorical_accuracy: 1.0000\n",
      "Epoch 00023: val_loss did not improve from 0.37910\n",
      "23/23 [==============================] - 77s 3s/step - loss: 0.0020 - categorical_accuracy: 1.0000 - val_loss: 0.7074 - val_categorical_accuracy: 0.8167\n",
      "Epoch 24/30\n",
      "23/23 [==============================] - ETA: 0s - loss: 0.0013 - categorical_accuracy: 1.0000\n",
      "Epoch 00024: val_loss did not improve from 0.37910\n",
      "23/23 [==============================] - 80s 3s/step - loss: 0.0013 - categorical_accuracy: 1.0000 - val_loss: 0.7636 - val_categorical_accuracy: 0.8000\n",
      "Epoch 25/30\n",
      "23/23 [==============================] - ETA: 0s - loss: 0.0016 - categorical_accuracy: 1.0000\n",
      "Epoch 00025: val_loss did not improve from 0.37910\n",
      "23/23 [==============================] - 81s 4s/step - loss: 0.0016 - categorical_accuracy: 1.0000 - val_loss: 0.6703 - val_categorical_accuracy: 0.8167\n",
      "Epoch 26/30\n",
      "23/23 [==============================] - ETA: 0s - loss: 0.0011 - categorical_accuracy: 1.0000\n",
      "Epoch 00026: val_loss did not improve from 0.37910\n",
      "23/23 [==============================] - 80s 3s/step - loss: 0.0011 - categorical_accuracy: 1.0000 - val_loss: 0.6188 - val_categorical_accuracy: 0.8250\n",
      "Epoch 27/30\n",
      "23/23 [==============================] - ETA: 0s - loss: 0.0014 - categorical_accuracy: 1.0000\n",
      "Epoch 00027: val_loss did not improve from 0.37910\n",
      "23/23 [==============================] - 80s 3s/step - loss: 0.0014 - categorical_accuracy: 1.0000 - val_loss: 0.5068 - val_categorical_accuracy: 0.8917\n",
      "Epoch 28/30\n",
      "23/23 [==============================] - ETA: 0s - loss: 0.0014 - categorical_accuracy: 1.0000\n",
      "Epoch 00028: val_loss did not improve from 0.37910\n",
      "23/23 [==============================] - 79s 3s/step - loss: 0.0014 - categorical_accuracy: 1.0000 - val_loss: 0.5976 - val_categorical_accuracy: 0.8333\n",
      "Epoch 29/30\n",
      "23/23 [==============================] - ETA: 0s - loss: 0.0013 - categorical_accuracy: 1.0000\n",
      "Epoch 00029: val_loss did not improve from 0.37910\n",
      "23/23 [==============================] - 77s 3s/step - loss: 0.0013 - categorical_accuracy: 1.0000 - val_loss: 0.6276 - val_categorical_accuracy: 0.8500\n",
      "Epoch 30/30\n",
      "23/23 [==============================] - ETA: 0s - loss: 0.0012 - categorical_accuracy: 1.0000\n",
      "Epoch 00030: val_loss did not improve from 0.37910\n",
      "23/23 [==============================] - 79s 3s/step - loss: 0.0012 - categorical_accuracy: 1.0000 - val_loss: 0.5679 - val_categorical_accuracy: 0.8250\n"
     ]
    }
   ],
   "source": [
    "history=model4.fit(train_generator, steps_per_epoch=steps_per_epoch, epochs=30, verbose=1, \n",
    "                    callbacks=callbacks_list, validation_data=val_generator, \n",
    "                    validation_steps=validation_steps, class_weight=None, workers=1, initial_epoch=0)\n"
   ]
  },
  {
   "cell_type": "code",
   "execution_count": 38,
   "metadata": {},
   "outputs": [
    {
     "name": "stdout",
     "output_type": "stream",
     "text": [
      "Source path =  /home/datasets/Project_data/train ; batch size = 30\n",
      "Epoch 1/40\n",
      "23/23 [==============================] - ETA: 0s - loss: 1.6114 - categorical_accuracy: 0.2072Source path =  /home/datasets/Project_data/val ; batch size = 30\n",
      "\n",
      "Epoch 00001: val_loss improved from inf to 1.60218, saving model to conv2d_Gru(regu_dropout_new)_2021-05-2808_27_32.945661/model-00001-1.61137-0.20725-1.60218-0.35833.h5\n",
      "23/23 [==============================] - 77s 3s/step - loss: 1.6114 - categorical_accuracy: 0.2072 - val_loss: 1.6022 - val_categorical_accuracy: 0.3583\n",
      "Epoch 2/40\n",
      "23/23 [==============================] - ETA: 0s - loss: 1.6098 - categorical_accuracy: 0.2101\n",
      "Epoch 00002: val_loss did not improve from 1.60218\n",
      "23/23 [==============================] - 79s 3s/step - loss: 1.6098 - categorical_accuracy: 0.2101 - val_loss: 1.6093 - val_categorical_accuracy: 0.1917\n",
      "Epoch 3/40\n",
      "23/23 [==============================] - ETA: 0s - loss: 1.6097 - categorical_accuracy: 0.2116\n",
      "Epoch 00003: val_loss did not improve from 1.60218\n",
      "23/23 [==============================] - 79s 3s/step - loss: 1.6097 - categorical_accuracy: 0.2116 - val_loss: 1.6042 - val_categorical_accuracy: 0.2583\n",
      "Epoch 4/40\n",
      "23/23 [==============================] - ETA: 0s - loss: 1.6034 - categorical_accuracy: 0.2174\n",
      "Epoch 00004: val_loss improved from 1.60218 to 1.56001, saving model to conv2d_Gru(regu_dropout_new)_2021-05-2808_27_32.945661/model-00004-1.60342-0.21739-1.56001-0.30833.h5\n",
      "23/23 [==============================] - 80s 3s/step - loss: 1.6034 - categorical_accuracy: 0.2174 - val_loss: 1.5600 - val_categorical_accuracy: 0.3083\n",
      "Epoch 5/40\n",
      "23/23 [==============================] - ETA: 0s - loss: 1.5147 - categorical_accuracy: 0.3391\n",
      "Epoch 00005: val_loss improved from 1.56001 to 1.29008, saving model to conv2d_Gru(regu_dropout_new)_2021-05-2808_27_32.945661/model-00005-1.51467-0.33913-1.29008-0.45000.h5\n",
      "23/23 [==============================] - 79s 3s/step - loss: 1.5147 - categorical_accuracy: 0.3391 - val_loss: 1.2901 - val_categorical_accuracy: 0.4500\n",
      "Epoch 6/40\n",
      "23/23 [==============================] - ETA: 0s - loss: 1.4066 - categorical_accuracy: 0.3261\n",
      "Epoch 00006: val_loss did not improve from 1.29008\n",
      "23/23 [==============================] - 80s 3s/step - loss: 1.4066 - categorical_accuracy: 0.3261 - val_loss: 1.2913 - val_categorical_accuracy: 0.4250\n",
      "Epoch 7/40\n",
      "23/23 [==============================] - ETA: 0s - loss: 1.2942 - categorical_accuracy: 0.4087\n",
      "Epoch 00007: val_loss improved from 1.29008 to 1.25551, saving model to conv2d_Gru(regu_dropout_new)_2021-05-2808_27_32.945661/model-00007-1.29422-0.40870-1.25551-0.43333.h5\n",
      "23/23 [==============================] - 80s 3s/step - loss: 1.2942 - categorical_accuracy: 0.4087 - val_loss: 1.2555 - val_categorical_accuracy: 0.4333\n",
      "Epoch 8/40\n",
      "23/23 [==============================] - ETA: 0s - loss: 1.2292 - categorical_accuracy: 0.3971\n",
      "Epoch 00008: val_loss improved from 1.25551 to 1.19207, saving model to conv2d_Gru(regu_dropout_new)_2021-05-2808_27_32.945661/model-00008-1.22923-0.39710-1.19207-0.46667.h5\n",
      "23/23 [==============================] - 76s 3s/step - loss: 1.2292 - categorical_accuracy: 0.3971 - val_loss: 1.1921 - val_categorical_accuracy: 0.4667\n",
      "Epoch 9/40\n",
      "23/23 [==============================] - ETA: 0s - loss: 1.1566 - categorical_accuracy: 0.4551\n",
      "Epoch 00009: val_loss did not improve from 1.19207\n",
      "23/23 [==============================] - 81s 4s/step - loss: 1.1566 - categorical_accuracy: 0.4551 - val_loss: 1.3431 - val_categorical_accuracy: 0.3500\n",
      "Epoch 10/40\n",
      "23/23 [==============================] - ETA: 0s - loss: 1.0337 - categorical_accuracy: 0.5609\n",
      "Epoch 00010: val_loss improved from 1.19207 to 1.11814, saving model to conv2d_Gru(regu_dropout_new)_2021-05-2808_27_32.945661/model-00010-1.03374-0.56087-1.11814-0.46667.h5\n",
      "23/23 [==============================] - 79s 3s/step - loss: 1.0337 - categorical_accuracy: 0.5609 - val_loss: 1.1181 - val_categorical_accuracy: 0.4667\n",
      "Epoch 11/40\n",
      "23/23 [==============================] - ETA: 0s - loss: 0.9443 - categorical_accuracy: 0.6000\n",
      "Epoch 00011: val_loss did not improve from 1.11814\n",
      "23/23 [==============================] - 79s 3s/step - loss: 0.9443 - categorical_accuracy: 0.6000 - val_loss: 1.2019 - val_categorical_accuracy: 0.5333\n",
      "Epoch 12/40\n",
      "23/23 [==============================] - ETA: 0s - loss: 0.8261 - categorical_accuracy: 0.6826\n",
      "Epoch 00012: val_loss improved from 1.11814 to 0.91324, saving model to conv2d_Gru(regu_dropout_new)_2021-05-2808_27_32.945661/model-00012-0.82611-0.68261-0.91324-0.66667.h5\n",
      "23/23 [==============================] - 81s 4s/step - loss: 0.8261 - categorical_accuracy: 0.6826 - val_loss: 0.9132 - val_categorical_accuracy: 0.6667\n",
      "Epoch 13/40\n",
      "23/23 [==============================] - ETA: 0s - loss: 0.6695 - categorical_accuracy: 0.7420\n",
      "Epoch 00013: val_loss did not improve from 0.91324\n",
      "23/23 [==============================] - 80s 3s/step - loss: 0.6695 - categorical_accuracy: 0.7420 - val_loss: 0.9737 - val_categorical_accuracy: 0.5833\n",
      "Epoch 14/40\n",
      "23/23 [==============================] - ETA: 0s - loss: 0.5717 - categorical_accuracy: 0.7783\n",
      "Epoch 00014: val_loss improved from 0.91324 to 0.81247, saving model to conv2d_Gru(regu_dropout_new)_2021-05-2808_27_32.945661/model-00014-0.57168-0.77826-0.81247-0.70833.h5\n",
      "23/23 [==============================] - 82s 4s/step - loss: 0.5717 - categorical_accuracy: 0.7783 - val_loss: 0.8125 - val_categorical_accuracy: 0.7083\n",
      "Epoch 15/40\n",
      "23/23 [==============================] - ETA: 0s - loss: 0.5222 - categorical_accuracy: 0.8101\n",
      "Epoch 00015: val_loss did not improve from 0.81247\n",
      "23/23 [==============================] - 79s 3s/step - loss: 0.5222 - categorical_accuracy: 0.8101 - val_loss: 0.8480 - val_categorical_accuracy: 0.7583\n",
      "Epoch 16/40\n",
      "23/23 [==============================] - ETA: 0s - loss: 0.4453 - categorical_accuracy: 0.8275\n",
      "Epoch 00016: val_loss did not improve from 0.81247\n",
      "23/23 [==============================] - 81s 4s/step - loss: 0.4453 - categorical_accuracy: 0.8275 - val_loss: 0.9737 - val_categorical_accuracy: 0.7000\n",
      "Epoch 17/40\n",
      "23/23 [==============================] - ETA: 0s - loss: 0.2675 - categorical_accuracy: 0.8971\n",
      "Epoch 00017: val_loss improved from 0.81247 to 0.63103, saving model to conv2d_Gru(regu_dropout_new)_2021-05-2808_27_32.945661/model-00017-0.26752-0.89710-0.63103-0.80000.h5\n",
      "23/23 [==============================] - 78s 3s/step - loss: 0.2675 - categorical_accuracy: 0.8971 - val_loss: 0.6310 - val_categorical_accuracy: 0.8000\n",
      "Epoch 18/40\n",
      "23/23 [==============================] - ETA: 0s - loss: 0.2058 - categorical_accuracy: 0.9319\n",
      "Epoch 00018: val_loss did not improve from 0.63103\n",
      "23/23 [==============================] - 80s 3s/step - loss: 0.2058 - categorical_accuracy: 0.9319 - val_loss: 1.2801 - val_categorical_accuracy: 0.6917\n",
      "Epoch 19/40\n",
      "23/23 [==============================] - ETA: 0s - loss: 0.1393 - categorical_accuracy: 0.9580\n",
      "Epoch 00019: val_loss did not improve from 0.63103\n",
      "23/23 [==============================] - 80s 3s/step - loss: 0.1393 - categorical_accuracy: 0.9580 - val_loss: 0.7914 - val_categorical_accuracy: 0.7333\n",
      "Epoch 20/40\n",
      "23/23 [==============================] - ETA: 0s - loss: 0.1566 - categorical_accuracy: 0.9377\n",
      "Epoch 00020: val_loss did not improve from 0.63103\n",
      "23/23 [==============================] - 80s 3s/step - loss: 0.1566 - categorical_accuracy: 0.9377 - val_loss: 1.1149 - val_categorical_accuracy: 0.6917\n",
      "Epoch 21/40\n",
      "23/23 [==============================] - ETA: 0s - loss: 0.1011 - categorical_accuracy: 0.9681\n",
      "Epoch 00021: val_loss did not improve from 0.63103\n",
      "23/23 [==============================] - 78s 3s/step - loss: 0.1011 - categorical_accuracy: 0.9681 - val_loss: 1.2188 - val_categorical_accuracy: 0.7250\n",
      "Epoch 22/40\n",
      "23/23 [==============================] - ETA: 0s - loss: 0.0814 - categorical_accuracy: 0.9725\n",
      "Epoch 00022: val_loss did not improve from 0.63103\n",
      "23/23 [==============================] - 80s 3s/step - loss: 0.0814 - categorical_accuracy: 0.9725 - val_loss: 0.6630 - val_categorical_accuracy: 0.8000\n",
      "Epoch 23/40\n",
      "23/23 [==============================] - ETA: 0s - loss: 0.0799 - categorical_accuracy: 0.9754\n",
      "Epoch 00023: val_loss did not improve from 0.63103\n",
      "23/23 [==============================] - 81s 4s/step - loss: 0.0799 - categorical_accuracy: 0.9754 - val_loss: 1.0762 - val_categorical_accuracy: 0.7833\n",
      "Epoch 24/40\n",
      "23/23 [==============================] - ETA: 0s - loss: 0.0293 - categorical_accuracy: 0.9928\n",
      "Epoch 00024: val_loss did not improve from 0.63103\n",
      "23/23 [==============================] - 79s 3s/step - loss: 0.0293 - categorical_accuracy: 0.9928 - val_loss: 0.8859 - val_categorical_accuracy: 0.8000\n",
      "Epoch 25/40\n",
      "23/23 [==============================] - ETA: 0s - loss: 0.0150 - categorical_accuracy: 0.9986\n",
      "Epoch 00025: val_loss did not improve from 0.63103\n",
      "23/23 [==============================] - 76s 3s/step - loss: 0.0150 - categorical_accuracy: 0.9986 - val_loss: 0.9724 - val_categorical_accuracy: 0.7917\n",
      "Epoch 26/40\n",
      "23/23 [==============================] - ETA: 0s - loss: 0.0143 - categorical_accuracy: 0.9957\n",
      "Epoch 00026: val_loss did not improve from 0.63103\n",
      "23/23 [==============================] - 80s 3s/step - loss: 0.0143 - categorical_accuracy: 0.9957 - val_loss: 1.3211 - val_categorical_accuracy: 0.7583\n",
      "Epoch 27/40\n",
      "23/23 [==============================] - ETA: 0s - loss: 0.0079 - categorical_accuracy: 1.0000\n",
      "Epoch 00027: val_loss did not improve from 0.63103\n",
      "23/23 [==============================] - 76s 3s/step - loss: 0.0079 - categorical_accuracy: 1.0000 - val_loss: 0.7514 - val_categorical_accuracy: 0.8250\n",
      "Epoch 28/40\n",
      "23/23 [==============================] - ETA: 0s - loss: 0.0089 - categorical_accuracy: 1.0000\n",
      "Epoch 00028: val_loss improved from 0.63103 to 0.44383, saving model to conv2d_Gru(regu_dropout_new)_2021-05-2808_27_32.945661/model-00028-0.00886-1.00000-0.44383-0.81667.h5\n",
      "23/23 [==============================] - 77s 3s/step - loss: 0.0089 - categorical_accuracy: 1.0000 - val_loss: 0.4438 - val_categorical_accuracy: 0.8167\n",
      "Epoch 29/40\n",
      "23/23 [==============================] - ETA: 0s - loss: 0.0048 - categorical_accuracy: 1.0000\n",
      "Epoch 00029: val_loss did not improve from 0.44383\n",
      "23/23 [==============================] - 81s 4s/step - loss: 0.0048 - categorical_accuracy: 1.0000 - val_loss: 1.0141 - val_categorical_accuracy: 0.7917\n",
      "Epoch 30/40\n",
      "23/23 [==============================] - ETA: 0s - loss: 0.0044 - categorical_accuracy: 1.0000\n",
      "Epoch 00030: val_loss did not improve from 0.44383\n",
      "23/23 [==============================] - 81s 4s/step - loss: 0.0044 - categorical_accuracy: 1.0000 - val_loss: 0.9262 - val_categorical_accuracy: 0.8167\n",
      "Epoch 31/40\n",
      "23/23 [==============================] - ETA: 0s - loss: 0.0036 - categorical_accuracy: 1.0000\n",
      "Epoch 00031: val_loss did not improve from 0.44383\n",
      "23/23 [==============================] - 77s 3s/step - loss: 0.0036 - categorical_accuracy: 1.0000 - val_loss: 1.0186 - val_categorical_accuracy: 0.7917\n",
      "Epoch 32/40\n",
      "23/23 [==============================] - ETA: 0s - loss: 0.0049 - categorical_accuracy: 1.0000\n",
      "Epoch 00032: val_loss did not improve from 0.44383\n",
      "23/23 [==============================] - 77s 3s/step - loss: 0.0049 - categorical_accuracy: 1.0000 - val_loss: 0.8023 - val_categorical_accuracy: 0.8083\n",
      "Epoch 33/40\n",
      "23/23 [==============================] - ETA: 0s - loss: 0.0034 - categorical_accuracy: 1.0000\n",
      "Epoch 00033: val_loss did not improve from 0.44383\n",
      "23/23 [==============================] - 79s 3s/step - loss: 0.0034 - categorical_accuracy: 1.0000 - val_loss: 0.9872 - val_categorical_accuracy: 0.8167\n",
      "Epoch 34/40\n",
      "23/23 [==============================] - ETA: 0s - loss: 0.0039 - categorical_accuracy: 1.0000\n",
      "Epoch 00034: val_loss did not improve from 0.44383\n",
      "23/23 [==============================] - 76s 3s/step - loss: 0.0039 - categorical_accuracy: 1.0000 - val_loss: 0.9075 - val_categorical_accuracy: 0.7833\n"
     ]
    }
   ],
   "source": [
    "history=model4.fit(train_generator, steps_per_epoch=steps_per_epoch, epochs=40, verbose=1, \n",
    "                    callbacks=callbacks_list, validation_data=val_generator, \n",
    "                    validation_steps=validation_steps, class_weight=None, workers=1, initial_epoch=0)\n"
   ]
  },
  {
   "cell_type": "code",
   "execution_count": 11,
   "metadata": {},
   "outputs": [
    {
     "name": "stdout",
     "output_type": "stream",
     "text": [
      "WARNING:tensorflow:Layer gru will not use cuDNN kernel since it doesn't meet the cuDNN kernel criteria. It will use generic GPU kernel as fallback when running on GPU\n",
      "Model: \"sequential\"\n",
      "_________________________________________________________________\n",
      "Layer (type)                 Output Shape              Param #   \n",
      "=================================================================\n",
      "time_distributed (TimeDistri (None, 15, 120, 120, 32)  896       \n",
      "_________________________________________________________________\n",
      "time_distributed_1 (TimeDist (None, 15, 60, 60, 32)    0         \n",
      "_________________________________________________________________\n",
      "time_distributed_2 (TimeDist (None, 15, 60, 60, 64)    18496     \n",
      "_________________________________________________________________\n",
      "time_distributed_3 (TimeDist (None, 15, 30, 30, 64)    0         \n",
      "_________________________________________________________________\n",
      "time_distributed_4 (TimeDist (None, 15, 30, 30, 128)   73856     \n",
      "_________________________________________________________________\n",
      "time_distributed_5 (TimeDist (None, 15, 15, 15, 128)   0         \n",
      "_________________________________________________________________\n",
      "time_distributed_6 (TimeDist (None, 15, 15, 15, 256)   295168    \n",
      "_________________________________________________________________\n",
      "time_distributed_7 (TimeDist (None, 15, 7, 7, 256)     0         \n",
      "_________________________________________________________________\n",
      "time_distributed_8 (TimeDist (None, 15, 7, 7, 512)     1180160   \n",
      "_________________________________________________________________\n",
      "time_distributed_9 (TimeDist (None, 15, 3, 3, 512)     0         \n",
      "_________________________________________________________________\n",
      "time_distributed_10 (TimeDis (None, 15, 4608)          0         \n",
      "_________________________________________________________________\n",
      "gru (GRU)                    (None, 64)                897408    \n",
      "_________________________________________________________________\n",
      "dense (Dense)                (None, 524)               34060     \n",
      "_________________________________________________________________\n",
      "dense_1 (Dense)              (None, 5)                 2625      \n",
      "=================================================================\n",
      "Total params: 2,502,669\n",
      "Trainable params: 2,502,669\n",
      "Non-trainable params: 0\n",
      "_________________________________________________________________\n"
     ]
    }
   ],
   "source": [
    "input_shape=(15,120,120,3)\n",
    "model4=Sequential()\n",
    "model4.add(TimeDistributed(Conv2D(32,(3,3),padding='same',activation='relu',kernel_regularizer=regularizers.l2(0.001)),input_shape=input_shape))\n",
    "model4.add(TimeDistributed(MaxPooling2D(2,2)))\n",
    "model4.add(TimeDistributed(Conv2D(64,(3,3),padding='same',activation='relu',kernel_regularizer=regularizers.l2(0.001))))\n",
    "model4.add(TimeDistributed(MaxPooling2D((2,2))))\n",
    "model4.add(TimeDistributed(Conv2D(128,(3,3),padding='same',activation='relu',kernel_regularizer=regularizers.l2(0.001))))\n",
    "model4.add(TimeDistributed(MaxPooling2D(2,2)))\n",
    "model4.add(TimeDistributed(Conv2D(256,(3,3),padding='same',activation='relu',kernel_regularizer=regularizers.l2(0.001))))\n",
    "model4.add(TimeDistributed(MaxPooling2D(2,2)))\n",
    "model4.add(TimeDistributed(Conv2D(512,(3,3),padding='same',activation='relu',kernel_regularizer=regularizers.l2(0.001))))\n",
    "model4.add(TimeDistributed(MaxPooling2D(2,2)))\n",
    "model4.add(TimeDistributed(Flatten()))\n",
    "model4.add(GRU(64,dropout=0.2,recurrent_dropout=0.2))\n",
    "model4.add(Dense(524,activation='relu',kernel_regularizer=regularizers.l2(0.001)))\n",
    "model4.add(Dense(5,activation='softmax'))\n",
    "model4.summary()"
   ]
  },
  {
   "cell_type": "code",
   "execution_count": 15,
   "metadata": {},
   "outputs": [
    {
     "name": "stdout",
     "output_type": "stream",
     "text": [
      "WARNING:tensorflow:`period` argument is deprecated. Please use `save_freq` to specify the frequency in number of batches seen.\n"
     ]
    }
   ],
   "source": [
    "model_name = 'conv2d_Gru(regu_More_layers)' + '_' + str(curr_dt_time).replace(' ','').replace(':','_') + '/'\n",
    "    \n",
    "if not os.path.exists(model_name):\n",
    "    os.mkdir(model_name)\n",
    "        \n",
    "filepath = model_name + 'model-{epoch:05d}-{loss:.5f}-{categorical_accuracy:.5f}-{val_loss:.5f}-{val_categorical_accuracy:.5f}.h5'\n",
    "\n",
    "checkpoint = ModelCheckpoint(filepath, monitor='val_loss', verbose=1, save_best_only=True, save_weights_only=False, mode='auto', period=1)\n",
    "ES=EarlyStopping(monitor='val_categorical_accuracy',patience=7)\n",
    "LR = ReduceLROnPlateau(monitor='val_loss',factor=0.1,patience=6)# write the REducelronplateau code here\n",
    "callbacks_list = [checkpoint, LR,ES]"
   ]
  },
  {
   "cell_type": "code",
   "execution_count": 16,
   "metadata": {},
   "outputs": [],
   "source": [
    "train_generator = generator(train_path, train_doc, batch_size)\n",
    "val_generator = generator(val_path, val_doc, batch_size)"
   ]
  },
  {
   "cell_type": "code",
   "execution_count": 17,
   "metadata": {},
   "outputs": [],
   "source": [
    "if (num_train_sequences%batch_size) == 0:\n",
    "    steps_per_epoch = int(num_train_sequences/batch_size)\n",
    "else:\n",
    "    steps_per_epoch = (num_train_sequences//batch_size) + 1\n",
    "\n",
    "if (num_val_sequences%batch_size) == 0:\n",
    "    validation_steps = int(num_val_sequences/batch_size)\n",
    "else:\n",
    "    validation_steps = (num_val_sequences//batch_size) + 1"
   ]
  },
  {
   "cell_type": "code",
   "execution_count": 18,
   "metadata": {},
   "outputs": [
    {
     "name": "stdout",
     "output_type": "stream",
     "text": [
      "Model: \"sequential\"\n",
      "_________________________________________________________________\n",
      "Layer (type)                 Output Shape              Param #   \n",
      "=================================================================\n",
      "time_distributed (TimeDistri (None, 15, 120, 120, 32)  896       \n",
      "_________________________________________________________________\n",
      "time_distributed_1 (TimeDist (None, 15, 60, 60, 32)    0         \n",
      "_________________________________________________________________\n",
      "time_distributed_2 (TimeDist (None, 15, 60, 60, 64)    18496     \n",
      "_________________________________________________________________\n",
      "time_distributed_3 (TimeDist (None, 15, 30, 30, 64)    0         \n",
      "_________________________________________________________________\n",
      "time_distributed_4 (TimeDist (None, 15, 30, 30, 128)   73856     \n",
      "_________________________________________________________________\n",
      "time_distributed_5 (TimeDist (None, 15, 15, 15, 128)   0         \n",
      "_________________________________________________________________\n",
      "time_distributed_6 (TimeDist (None, 15, 15, 15, 256)   295168    \n",
      "_________________________________________________________________\n",
      "time_distributed_7 (TimeDist (None, 15, 7, 7, 256)     0         \n",
      "_________________________________________________________________\n",
      "time_distributed_8 (TimeDist (None, 15, 7, 7, 512)     1180160   \n",
      "_________________________________________________________________\n",
      "time_distributed_9 (TimeDist (None, 15, 3, 3, 512)     0         \n",
      "_________________________________________________________________\n",
      "time_distributed_10 (TimeDis (None, 15, 4608)          0         \n",
      "_________________________________________________________________\n",
      "gru (GRU)                    (None, 64)                897408    \n",
      "_________________________________________________________________\n",
      "dense (Dense)                (None, 524)               34060     \n",
      "_________________________________________________________________\n",
      "dense_1 (Dense)              (None, 5)                 2625      \n",
      "=================================================================\n",
      "Total params: 2,502,669\n",
      "Trainable params: 2,502,669\n",
      "Non-trainable params: 0\n",
      "_________________________________________________________________\n",
      "None\n"
     ]
    }
   ],
   "source": [
    "optimiser = keras.optimizers.Adam(lr=0.002) #write your optimizer\n",
    "model4.compile(optimizer=optimiser, loss='categorical_crossentropy', metrics=['categorical_accuracy'])\n",
    "print (model4.summary())"
   ]
  },
  {
   "cell_type": "code",
   "execution_count": null,
   "metadata": {},
   "outputs": [
    {
     "name": "stdout",
     "output_type": "stream",
     "text": [
      "Source path =  /home/datasets/Project_data/train ; batch size = 30\n",
      "Epoch 1/40\n",
      "23/23 [==============================] - ETA: 0s - loss: 1.9765 - categorical_accuracy: 0.2043Source path =  /home/datasets/Project_data/val ; batch size = 30\n",
      "\n",
      "Epoch 00001: val_loss improved from inf to 1.76863, saving model to conv2d_Gru(regu_More_layers)_2021-05-2808_00_26.676747/model-00001-1.97654-0.20435-1.76863-0.24167.h5\n",
      "23/23 [==============================] - 77s 3s/step - loss: 1.9765 - categorical_accuracy: 0.2043 - val_loss: 1.7686 - val_categorical_accuracy: 0.2417\n",
      "Epoch 2/40\n",
      "23/23 [==============================] - ETA: 0s - loss: 1.7268 - categorical_accuracy: 0.2058\n",
      "Epoch 00002: val_loss improved from 1.76863 to 1.68476, saving model to conv2d_Gru(regu_More_layers)_2021-05-2808_00_26.676747/model-00002-1.72680-0.20580-1.68476-0.19167.h5\n",
      "23/23 [==============================] - 79s 3s/step - loss: 1.7268 - categorical_accuracy: 0.2058 - val_loss: 1.6848 - val_categorical_accuracy: 0.1917\n",
      "Epoch 3/40\n",
      "23/23 [==============================] - ETA: 0s - loss: 1.6685 - categorical_accuracy: 0.2116\n",
      "Epoch 00003: val_loss improved from 1.68476 to 1.64989, saving model to conv2d_Gru(regu_More_layers)_2021-05-2808_00_26.676747/model-00003-1.66851-0.21159-1.64989-0.25833.h5\n",
      "23/23 [==============================] - 78s 3s/step - loss: 1.6685 - categorical_accuracy: 0.2116 - val_loss: 1.6499 - val_categorical_accuracy: 0.2583\n",
      "Epoch 4/40\n",
      "23/23 [==============================] - ETA: 0s - loss: 1.6463 - categorical_accuracy: 0.1913\n",
      "Epoch 00004: val_loss improved from 1.64989 to 1.63805, saving model to conv2d_Gru(regu_More_layers)_2021-05-2808_00_26.676747/model-00004-1.64634-0.19130-1.63805-0.18333.h5\n",
      "23/23 [==============================] - 80s 3s/step - loss: 1.6463 - categorical_accuracy: 0.1913 - val_loss: 1.6380 - val_categorical_accuracy: 0.1833\n",
      "Epoch 5/40\n",
      "10/23 [============>.................] - ETA: 32s - loss: 1.6364 - categorical_accuracy: 0.1800"
     ]
    }
   ],
   "source": [
    "history=model4.fit(train_generator, steps_per_epoch=steps_per_epoch, epochs=40, verbose=1, \n",
    "                    callbacks=callbacks_list, validation_data=val_generator, \n",
    "                    validation_steps=validation_steps, class_weight=None, workers=1, initial_epoch=0)\n"
   ]
  },
  {
   "cell_type": "markdown",
   "metadata": {},
   "source": [
    "#### conv2d +LSTM"
   ]
  },
  {
   "cell_type": "code",
   "execution_count": 25,
   "metadata": {},
   "outputs": [
    {
     "name": "stdout",
     "output_type": "stream",
     "text": [
      "Model: \"sequential_4\"\n",
      "_________________________________________________________________\n",
      "Layer (type)                 Output Shape              Param #   \n",
      "=================================================================\n",
      "time_distributed_52 (TimeDis (None, 15, 120, 120, 16)  448       \n",
      "_________________________________________________________________\n",
      "time_distributed_53 (TimeDis (None, 15, 60, 60, 16)    0         \n",
      "_________________________________________________________________\n",
      "time_distributed_54 (TimeDis (None, 15, 60, 60, 32)    4640      \n",
      "_________________________________________________________________\n",
      "time_distributed_55 (TimeDis (None, 15, 30, 30, 32)    0         \n",
      "_________________________________________________________________\n",
      "time_distributed_56 (TimeDis (None, 15, 30, 30, 64)    18496     \n",
      "_________________________________________________________________\n",
      "time_distributed_57 (TimeDis (None, 15, 15, 15, 64)    0         \n",
      "_________________________________________________________________\n",
      "time_distributed_58 (TimeDis (None, 15, 15, 15, 128)   73856     \n",
      "_________________________________________________________________\n",
      "time_distributed_59 (TimeDis (None, 15, 7, 7, 128)     0         \n",
      "_________________________________________________________________\n",
      "time_distributed_60 (TimeDis (None, 15, 7, 7, 256)     295168    \n",
      "_________________________________________________________________\n",
      "time_distributed_61 (TimeDis (None, 15, 3, 3, 256)     0         \n",
      "_________________________________________________________________\n",
      "time_distributed_62 (TimeDis (None, 15, 3, 3, 512)     1180160   \n",
      "_________________________________________________________________\n",
      "time_distributed_63 (TimeDis (None, 15, 1, 1, 512)     0         \n",
      "_________________________________________________________________\n",
      "time_distributed_64 (TimeDis (None, 15, 512)           0         \n",
      "_________________________________________________________________\n",
      "lstm (LSTM)                  (None, 64)                147712    \n",
      "_________________________________________________________________\n",
      "dense_8 (Dense)              (None, 524)               34060     \n",
      "_________________________________________________________________\n",
      "dense_9 (Dense)              (None, 5)                 2625      \n",
      "=================================================================\n",
      "Total params: 1,757,165\n",
      "Trainable params: 1,757,165\n",
      "Non-trainable params: 0\n",
      "_________________________________________________________________\n"
     ]
    }
   ],
   "source": [
    "input_shape=(15,120,120,3)\n",
    "model5=Sequential()\n",
    "model5.add(TimeDistributed(Conv2D(16,(3,3),padding='same',activation='relu'),input_shape=input_shape))\n",
    "model5.add(TimeDistributed(MaxPooling2D(2,2)))\n",
    "model5.add(TimeDistributed(Conv2D(32,(3,3),padding='same',activation='relu')))\n",
    "model5.add(TimeDistributed(MaxPooling2D((2,2))))\n",
    "model5.add(TimeDistributed(Conv2D(64,(3,3),padding='same',activation='relu')))\n",
    "model5.add(TimeDistributed(MaxPooling2D(2,2)))\n",
    "model5.add(TimeDistributed(Conv2D(128,(3,3),padding='same',activation='relu')))\n",
    "model5.add(TimeDistributed(MaxPooling2D(2,2)))\n",
    "model5.add(TimeDistributed(Conv2D(256,(3,3),padding='same',activation='relu')))\n",
    "model5.add(TimeDistributed(MaxPooling2D(2,2)))\n",
    "model5.add(TimeDistributed(Conv2D(512,(3,3),padding='same',activation='relu')))\n",
    "model5.add(TimeDistributed(MaxPooling2D(2,2)))\n",
    "model5.add(TimeDistributed(Flatten()))\n",
    "model5.add(LSTM(64))\n",
    "model5.add(Dense(524,activation='relu'))\n",
    "model5.add(Dense(5,activation='softmax'))\n",
    "model5.summary()"
   ]
  },
  {
   "cell_type": "code",
   "execution_count": 26,
   "metadata": {},
   "outputs": [
    {
     "name": "stdout",
     "output_type": "stream",
     "text": [
      "Model: \"sequential_4\"\n",
      "_________________________________________________________________\n",
      "Layer (type)                 Output Shape              Param #   \n",
      "=================================================================\n",
      "time_distributed_52 (TimeDis (None, 15, 120, 120, 16)  448       \n",
      "_________________________________________________________________\n",
      "time_distributed_53 (TimeDis (None, 15, 60, 60, 16)    0         \n",
      "_________________________________________________________________\n",
      "time_distributed_54 (TimeDis (None, 15, 60, 60, 32)    4640      \n",
      "_________________________________________________________________\n",
      "time_distributed_55 (TimeDis (None, 15, 30, 30, 32)    0         \n",
      "_________________________________________________________________\n",
      "time_distributed_56 (TimeDis (None, 15, 30, 30, 64)    18496     \n",
      "_________________________________________________________________\n",
      "time_distributed_57 (TimeDis (None, 15, 15, 15, 64)    0         \n",
      "_________________________________________________________________\n",
      "time_distributed_58 (TimeDis (None, 15, 15, 15, 128)   73856     \n",
      "_________________________________________________________________\n",
      "time_distributed_59 (TimeDis (None, 15, 7, 7, 128)     0         \n",
      "_________________________________________________________________\n",
      "time_distributed_60 (TimeDis (None, 15, 7, 7, 256)     295168    \n",
      "_________________________________________________________________\n",
      "time_distributed_61 (TimeDis (None, 15, 3, 3, 256)     0         \n",
      "_________________________________________________________________\n",
      "time_distributed_62 (TimeDis (None, 15, 3, 3, 512)     1180160   \n",
      "_________________________________________________________________\n",
      "time_distributed_63 (TimeDis (None, 15, 1, 1, 512)     0         \n",
      "_________________________________________________________________\n",
      "time_distributed_64 (TimeDis (None, 15, 512)           0         \n",
      "_________________________________________________________________\n",
      "lstm (LSTM)                  (None, 64)                147712    \n",
      "_________________________________________________________________\n",
      "dense_8 (Dense)              (None, 524)               34060     \n",
      "_________________________________________________________________\n",
      "dense_9 (Dense)              (None, 5)                 2625      \n",
      "=================================================================\n",
      "Total params: 1,757,165\n",
      "Trainable params: 1,757,165\n",
      "Non-trainable params: 0\n",
      "_________________________________________________________________\n",
      "None\n"
     ]
    }
   ],
   "source": [
    "optimiser = keras.optimizers.Adam(lr=0.001) #write your optimizer\n",
    "model5.compile(optimizer=optimiser, loss='categorical_crossentropy', metrics=['categorical_accuracy'])\n",
    "print (model5.summary())"
   ]
  },
  {
   "cell_type": "code",
   "execution_count": 27,
   "metadata": {},
   "outputs": [
    {
     "name": "stdout",
     "output_type": "stream",
     "text": [
      "WARNING:tensorflow:`period` argument is deprecated. Please use `save_freq` to specify the frequency in number of batches seen.\n"
     ]
    }
   ],
   "source": [
    "model_name = 'conv2d_Gru(conv2d+lstm)' + '_' + str(curr_dt_time).replace(' ','').replace(':','_') + '/'\n",
    "    \n",
    "if not os.path.exists(model_name):\n",
    "    os.mkdir(model_name)\n",
    "        \n",
    "filepath = model_name + 'model-{epoch:05d}-{loss:.5f}-{categorical_accuracy:.5f}-{val_loss:.5f}-{val_categorical_accuracy:.5f}.h5'\n",
    "\n",
    "checkpoint = ModelCheckpoint(filepath, monitor='val_loss', verbose=1, save_best_only=True, save_weights_only=False, mode='auto', period=1)\n",
    "#ES=EarlyStopping(monitor='categorical_accuracy',patience=4)\n",
    "LR = ReduceLROnPlateau(monitor='val_loss',factor=0.1,patience=6)# write the REducelronplateau code here\n",
    "callbacks_list = [checkpoint, LR]"
   ]
  },
  {
   "cell_type": "code",
   "execution_count": 28,
   "metadata": {},
   "outputs": [],
   "source": [
    "train_generator = generator(train_path, train_doc, batch_size)\n",
    "val_generator = generator(val_path, val_doc, batch_size)"
   ]
  },
  {
   "cell_type": "code",
   "execution_count": 29,
   "metadata": {},
   "outputs": [],
   "source": [
    "if (num_train_sequences%batch_size) == 0:\n",
    "    steps_per_epoch = int(num_train_sequences/batch_size)\n",
    "else:\n",
    "    steps_per_epoch = (num_train_sequences//batch_size) + 1\n",
    "\n",
    "if (num_val_sequences%batch_size) == 0:\n",
    "    validation_steps = int(num_val_sequences/batch_size)\n",
    "else:\n",
    "    validation_steps = (num_val_sequences//batch_size) + 1"
   ]
  },
  {
   "cell_type": "code",
   "execution_count": 30,
   "metadata": {},
   "outputs": [
    {
     "name": "stdout",
     "output_type": "stream",
     "text": [
      "Source path =  /home/datasets/Project_data/train ; batch size = 30\n",
      "Epoch 1/25\n",
      "23/23 [==============================] - ETA: 0s - loss: 1.6132 - categorical_accuracy: 0.1913Source path =  /home/datasets/Project_data/val ; batch size = 30\n",
      "\n",
      "Epoch 00001: val_loss improved from inf to 1.60794, saving model to conv2d_Gru(conv2d+lstm)_2021-05-2805_13_36.263269/model-00001-1.61322-0.19130-1.60794-0.18333.h5\n",
      "23/23 [==============================] - 81s 4s/step - loss: 1.6132 - categorical_accuracy: 0.1913 - val_loss: 1.6079 - val_categorical_accuracy: 0.1833\n",
      "Epoch 2/25\n",
      "23/23 [==============================] - ETA: 0s - loss: 1.6062 - categorical_accuracy: 0.2217\n",
      "Epoch 00002: val_loss improved from 1.60794 to 1.57841, saving model to conv2d_Gru(conv2d+lstm)_2021-05-2805_13_36.263269/model-00002-1.60619-0.22174-1.57841-0.25000.h5\n",
      "23/23 [==============================] - 80s 3s/step - loss: 1.6062 - categorical_accuracy: 0.2217 - val_loss: 1.5784 - val_categorical_accuracy: 0.2500\n",
      "Epoch 3/25\n",
      "23/23 [==============================] - ETA: 0s - loss: 1.5146 - categorical_accuracy: 0.3145\n",
      "Epoch 00003: val_loss improved from 1.57841 to 1.44260, saving model to conv2d_Gru(conv2d+lstm)_2021-05-2805_13_36.263269/model-00003-1.51465-0.31449-1.44260-0.33333.h5\n",
      "23/23 [==============================] - 81s 4s/step - loss: 1.5146 - categorical_accuracy: 0.3145 - val_loss: 1.4426 - val_categorical_accuracy: 0.3333\n",
      "Epoch 4/25\n",
      "23/23 [==============================] - ETA: 0s - loss: 1.3958 - categorical_accuracy: 0.3754\n",
      "Epoch 00004: val_loss improved from 1.44260 to 1.39170, saving model to conv2d_Gru(conv2d+lstm)_2021-05-2805_13_36.263269/model-00004-1.39582-0.37536-1.39170-0.39167.h5\n",
      "23/23 [==============================] - 79s 3s/step - loss: 1.3958 - categorical_accuracy: 0.3754 - val_loss: 1.3917 - val_categorical_accuracy: 0.3917\n",
      "Epoch 5/25\n",
      "23/23 [==============================] - ETA: 0s - loss: 1.2491 - categorical_accuracy: 0.4188\n",
      "Epoch 00005: val_loss improved from 1.39170 to 1.19445, saving model to conv2d_Gru(conv2d+lstm)_2021-05-2805_13_36.263269/model-00005-1.24912-0.41884-1.19445-0.58333.h5\n",
      "23/23 [==============================] - 79s 3s/step - loss: 1.2491 - categorical_accuracy: 0.4188 - val_loss: 1.1945 - val_categorical_accuracy: 0.5833\n",
      "Epoch 6/25\n",
      "23/23 [==============================] - ETA: 0s - loss: 1.2776 - categorical_accuracy: 0.4203\n",
      "Epoch 00006: val_loss improved from 1.19445 to 1.19349, saving model to conv2d_Gru(conv2d+lstm)_2021-05-2805_13_36.263269/model-00006-1.27765-0.42029-1.19349-0.53333.h5\n",
      "23/23 [==============================] - 81s 4s/step - loss: 1.2776 - categorical_accuracy: 0.4203 - val_loss: 1.1935 - val_categorical_accuracy: 0.5333\n",
      "Epoch 7/25\n",
      "23/23 [==============================] - ETA: 0s - loss: 1.0063 - categorical_accuracy: 0.5913\n",
      "Epoch 00007: val_loss improved from 1.19349 to 0.94716, saving model to conv2d_Gru(conv2d+lstm)_2021-05-2805_13_36.263269/model-00007-1.00627-0.59130-0.94716-0.68333.h5\n",
      "23/23 [==============================] - 80s 3s/step - loss: 1.0063 - categorical_accuracy: 0.5913 - val_loss: 0.9472 - val_categorical_accuracy: 0.6833\n",
      "Epoch 8/25\n",
      "23/23 [==============================] - ETA: 0s - loss: 0.8405 - categorical_accuracy: 0.6725\n",
      "Epoch 00008: val_loss did not improve from 0.94716\n",
      "23/23 [==============================] - 81s 4s/step - loss: 0.8405 - categorical_accuracy: 0.6725 - val_loss: 1.2114 - val_categorical_accuracy: 0.5667\n",
      "Epoch 9/25\n",
      "23/23 [==============================] - ETA: 0s - loss: 0.7039 - categorical_accuracy: 0.7116\n",
      "Epoch 00009: val_loss improved from 0.94716 to 0.81340, saving model to conv2d_Gru(conv2d+lstm)_2021-05-2805_13_36.263269/model-00009-0.70390-0.71159-0.81340-0.66667.h5\n",
      "23/23 [==============================] - 83s 4s/step - loss: 0.7039 - categorical_accuracy: 0.7116 - val_loss: 0.8134 - val_categorical_accuracy: 0.6667\n",
      "Epoch 10/25\n",
      "23/23 [==============================] - ETA: 0s - loss: 0.7654 - categorical_accuracy: 0.7014\n",
      "Epoch 00010: val_loss did not improve from 0.81340\n",
      "23/23 [==============================] - 83s 4s/step - loss: 0.7654 - categorical_accuracy: 0.7014 - val_loss: 1.0713 - val_categorical_accuracy: 0.6167\n",
      "Epoch 11/25\n",
      "23/23 [==============================] - ETA: 0s - loss: 0.4269 - categorical_accuracy: 0.8551\n",
      "Epoch 00011: val_loss improved from 0.81340 to 0.74063, saving model to conv2d_Gru(conv2d+lstm)_2021-05-2805_13_36.263269/model-00011-0.42687-0.85507-0.74063-0.75833.h5\n",
      "23/23 [==============================] - 79s 3s/step - loss: 0.4269 - categorical_accuracy: 0.8551 - val_loss: 0.7406 - val_categorical_accuracy: 0.7583\n",
      "Epoch 12/25\n",
      "23/23 [==============================] - ETA: 0s - loss: 0.2902 - categorical_accuracy: 0.8986\n",
      "Epoch 00012: val_loss improved from 0.74063 to 0.72866, saving model to conv2d_Gru(conv2d+lstm)_2021-05-2805_13_36.263269/model-00012-0.29019-0.89855-0.72866-0.78333.h5\n",
      "23/23 [==============================] - 82s 4s/step - loss: 0.2902 - categorical_accuracy: 0.8986 - val_loss: 0.7287 - val_categorical_accuracy: 0.7833\n",
      "Epoch 13/25\n",
      "23/23 [==============================] - ETA: 0s - loss: 0.2920 - categorical_accuracy: 0.9029\n",
      "Epoch 00013: val_loss did not improve from 0.72866\n",
      "23/23 [==============================] - 82s 4s/step - loss: 0.2920 - categorical_accuracy: 0.9029 - val_loss: 0.9495 - val_categorical_accuracy: 0.6750\n",
      "Epoch 14/25\n",
      "23/23 [==============================] - ETA: 0s - loss: 0.2723 - categorical_accuracy: 0.9000\n",
      "Epoch 00014: val_loss did not improve from 0.72866\n",
      "23/23 [==============================] - 82s 4s/step - loss: 0.2723 - categorical_accuracy: 0.9000 - val_loss: 1.0124 - val_categorical_accuracy: 0.7167\n",
      "Epoch 15/25\n",
      "23/23 [==============================] - ETA: 0s - loss: 0.2157 - categorical_accuracy: 0.9362\n",
      "Epoch 00015: val_loss did not improve from 0.72866\n",
      "23/23 [==============================] - 80s 3s/step - loss: 0.2157 - categorical_accuracy: 0.9362 - val_loss: 1.1344 - val_categorical_accuracy: 0.6667\n",
      "Epoch 16/25\n",
      "23/23 [==============================] - ETA: 0s - loss: 0.1603 - categorical_accuracy: 0.9478\n",
      "Epoch 00016: val_loss did not improve from 0.72866\n",
      "23/23 [==============================] - 80s 3s/step - loss: 0.1603 - categorical_accuracy: 0.9478 - val_loss: 1.0776 - val_categorical_accuracy: 0.7083\n",
      "Epoch 17/25\n",
      "23/23 [==============================] - ETA: 0s - loss: 0.0911 - categorical_accuracy: 0.9754\n",
      "Epoch 00017: val_loss did not improve from 0.72866\n",
      "23/23 [==============================] - 80s 3s/step - loss: 0.0911 - categorical_accuracy: 0.9754 - val_loss: 1.2255 - val_categorical_accuracy: 0.6917\n",
      "Epoch 18/25\n",
      "23/23 [==============================] - ETA: 0s - loss: 0.1502 - categorical_accuracy: 0.9507\n",
      "Epoch 00018: val_loss did not improve from 0.72866\n",
      "23/23 [==============================] - 82s 4s/step - loss: 0.1502 - categorical_accuracy: 0.9507 - val_loss: 1.2852 - val_categorical_accuracy: 0.6917\n",
      "Epoch 19/25\n",
      "23/23 [==============================] - ETA: 0s - loss: 0.0945 - categorical_accuracy: 0.9667\n",
      "Epoch 00019: val_loss did not improve from 0.72866\n",
      "23/23 [==============================] - 83s 4s/step - loss: 0.0945 - categorical_accuracy: 0.9667 - val_loss: 0.8444 - val_categorical_accuracy: 0.7750\n",
      "Epoch 20/25\n",
      "23/23 [==============================] - ETA: 0s - loss: 0.0242 - categorical_accuracy: 0.9942\n",
      "Epoch 00020: val_loss did not improve from 0.72866\n",
      "23/23 [==============================] - 81s 4s/step - loss: 0.0242 - categorical_accuracy: 0.9942 - val_loss: 0.8810 - val_categorical_accuracy: 0.7750\n",
      "Epoch 21/25\n",
      "23/23 [==============================] - ETA: 0s - loss: 0.0248 - categorical_accuracy: 0.9913\n",
      "Epoch 00021: val_loss did not improve from 0.72866\n",
      "23/23 [==============================] - 82s 4s/step - loss: 0.0248 - categorical_accuracy: 0.9913 - val_loss: 1.2438 - val_categorical_accuracy: 0.6500\n",
      "Epoch 22/25\n",
      "23/23 [==============================] - ETA: 0s - loss: 0.0161 - categorical_accuracy: 0.9971\n",
      "Epoch 00022: val_loss did not improve from 0.72866\n",
      "23/23 [==============================] - 80s 3s/step - loss: 0.0161 - categorical_accuracy: 0.9971 - val_loss: 1.0566 - val_categorical_accuracy: 0.7000\n",
      "Epoch 23/25\n",
      "23/23 [==============================] - ETA: 0s - loss: 0.0134 - categorical_accuracy: 0.9971\n",
      "Epoch 00023: val_loss did not improve from 0.72866\n",
      "23/23 [==============================] - 81s 4s/step - loss: 0.0134 - categorical_accuracy: 0.9971 - val_loss: 1.1859 - val_categorical_accuracy: 0.7083\n",
      "Epoch 24/25\n",
      "23/23 [==============================] - ETA: 0s - loss: 0.0079 - categorical_accuracy: 1.0000\n",
      "Epoch 00024: val_loss did not improve from 0.72866\n",
      "23/23 [==============================] - 81s 4s/step - loss: 0.0079 - categorical_accuracy: 1.0000 - val_loss: 0.8578 - val_categorical_accuracy: 0.8250\n",
      "Epoch 25/25\n",
      "23/23 [==============================] - ETA: 0s - loss: 0.0117 - categorical_accuracy: 1.0000\n",
      "Epoch 00025: val_loss did not improve from 0.72866\n",
      "23/23 [==============================] - 82s 4s/step - loss: 0.0117 - categorical_accuracy: 1.0000 - val_loss: 0.9934 - val_categorical_accuracy: 0.7583\n"
     ]
    }
   ],
   "source": [
    "history=model5.fit(train_generator, steps_per_epoch=steps_per_epoch, epochs=25, verbose=1, \n",
    "                    callbacks=callbacks_list, validation_data=val_generator, \n",
    "                    validation_steps=validation_steps, class_weight=None, workers=1, initial_epoch=0)\n"
   ]
  },
  {
   "cell_type": "markdown",
   "metadata": {},
   "source": []
  },
  {
   "cell_type": "code",
   "execution_count": 25,
   "metadata": {},
   "outputs": [
    {
     "data": {
      "image/png": "[encoded data removed]",
      "text/plain": [
       "<Figure size 1080x288 with 2 Axes>"
      ]
     },
     "metadata": {
      "needs_background": "light"
     },
     "output_type": "display_data"
    }
   ],
   "source": [
    "plot(history)"
   ]
  },
  {
   "cell_type": "markdown",
   "metadata": {},
   "source": [
    "## lets add dropouts and regularisation"
   ]
  },
  {
   "cell_type": "code",
   "execution_count": 48,
   "metadata": {},
   "outputs": [
    {
     "name": "stdout",
     "output_type": "stream",
     "text": [
      "WARNING:tensorflow:Layer lstm_7 will not use cuDNN kernel since it doesn't meet the cuDNN kernel criteria. It will use generic GPU kernel as fallback when running on GPU\n",
      "Model: \"sequential_9\"\n",
      "_________________________________________________________________\n",
      "Layer (type)                 Output Shape              Param #   \n",
      "=================================================================\n",
      "time_distributed_96 (TimeDis (None, 15, 120, 120, 16)  448       \n",
      "_________________________________________________________________\n",
      "time_distributed_97 (TimeDis (None, 15, 60, 60, 16)    0         \n",
      "_________________________________________________________________\n",
      "time_distributed_98 (TimeDis (None, 15, 60, 60, 32)    4640      \n",
      "_________________________________________________________________\n",
      "time_distributed_99 (TimeDis (None, 15, 30, 30, 32)    0         \n",
      "_________________________________________________________________\n",
      "time_distributed_100 (TimeDi (None, 15, 30, 30, 64)    18496     \n",
      "_________________________________________________________________\n",
      "time_distributed_101 (TimeDi (None, 15, 15, 15, 64)    0         \n",
      "_________________________________________________________________\n",
      "time_distributed_102 (TimeDi (None, 15, 14400)         0         \n",
      "_________________________________________________________________\n",
      "lstm_7 (LSTM)                (None, 64)                3703040   \n",
      "_________________________________________________________________\n",
      "dense_13 (Dense)             (None, 524)               34060     \n",
      "_________________________________________________________________\n",
      "dense_14 (Dense)             (None, 5)                 2625      \n",
      "=================================================================\n",
      "Total params: 3,763,309\n",
      "Trainable params: 3,763,309\n",
      "Non-trainable params: 0\n",
      "_________________________________________________________________\n"
     ]
    }
   ],
   "source": [
    "input_shape=(15,120,120,3)\n",
    "model5=Sequential()\n",
    "model5.add(TimeDistributed(Conv2D(16,(3,3),padding='same',activation='relu',kernel_regularizer=regularizers.l1(0.001)),input_shape=input_shape))\n",
    "model5.add(TimeDistributed(MaxPooling2D(2,2)))\n",
    "model5.add(TimeDistributed(Conv2D(32,(3,3),padding='same',activation='relu',kernel_regularizer=regularizers.l1(0.001))))\n",
    "model5.add(TimeDistributed(MaxPooling2D((2,2))))\n",
    "\n",
    "model5.add(TimeDistributed(Conv2D(64,(3,3),padding='same',activation='relu',kernel_regularizer=regularizers.l1(0.001))))\n",
    "model5.add(TimeDistributed(MaxPooling2D(2,2)))\n",
    "\n",
    "#model5.add(TimeDistributed(Conv2D(128,(3,3),padding='same',activation='relu',kernel_regularizer=regularizers.l2(0.001))))\n",
    "#model5.add(TimeDistributed(MaxPooling2D(2,2)))\n",
    "\n",
    "model5.add(TimeDistributed(Flatten()))\n",
    "model5.add(LSTM(64,dropout=0.2,recurrent_dropout=0.2))\n",
    "model5.add(Dense(524,activation='relu',kernel_regularizer=regularizers.l1(0.001)))\n",
    "model5.add(Dense(5,activation='softmax'))\n",
    "model5.summary()"
   ]
  },
  {
   "cell_type": "code",
   "execution_count": 49,
   "metadata": {},
   "outputs": [
    {
     "name": "stdout",
     "output_type": "stream",
     "text": [
      "Model: \"sequential_9\"\n",
      "_________________________________________________________________\n",
      "Layer (type)                 Output Shape              Param #   \n",
      "=================================================================\n",
      "time_distributed_96 (TimeDis (None, 15, 120, 120, 16)  448       \n",
      "_________________________________________________________________\n",
      "time_distributed_97 (TimeDis (None, 15, 60, 60, 16)    0         \n",
      "_________________________________________________________________\n",
      "time_distributed_98 (TimeDis (None, 15, 60, 60, 32)    4640      \n",
      "_________________________________________________________________\n",
      "time_distributed_99 (TimeDis (None, 15, 30, 30, 32)    0         \n",
      "_________________________________________________________________\n",
      "time_distributed_100 (TimeDi (None, 15, 30, 30, 64)    18496     \n",
      "_________________________________________________________________\n",
      "time_distributed_101 (TimeDi (None, 15, 15, 15, 64)    0         \n",
      "_________________________________________________________________\n",
      "time_distributed_102 (TimeDi (None, 15, 14400)         0         \n",
      "_________________________________________________________________\n",
      "lstm_7 (LSTM)                (None, 64)                3703040   \n",
      "_________________________________________________________________\n",
      "dense_13 (Dense)             (None, 524)               34060     \n",
      "_________________________________________________________________\n",
      "dense_14 (Dense)             (None, 5)                 2625      \n",
      "=================================================================\n",
      "Total params: 3,763,309\n",
      "Trainable params: 3,763,309\n",
      "Non-trainable params: 0\n",
      "_________________________________________________________________\n",
      "None\n"
     ]
    }
   ],
   "source": [
    "optimiser = keras.optimizers.Adam(lr=0.001) #write your optimizer\n",
    "model5.compile(optimizer=optimiser, loss='categorical_crossentropy', metrics=['categorical_accuracy'])\n",
    "print (model5.summary())"
   ]
  },
  {
   "cell_type": "code",
   "execution_count": 50,
   "metadata": {},
   "outputs": [
    {
     "name": "stdout",
     "output_type": "stream",
     "text": [
      "WARNING:tensorflow:`period` argument is deprecated. Please use `save_freq` to specify the frequency in number of batches seen.\n"
     ]
    }
   ],
   "source": [
    "model_name = 'conv2d_Gru(conv2d+lstm(dropout_regu2))' + '_' + str(curr_dt_time).replace(' ','').replace(':','_') + '/'\n",
    "    \n",
    "if not os.path.exists(model_name):\n",
    "    os.mkdir(model_name)\n",
    "        \n",
    "filepath = model_name + 'model-{epoch:05d}-{loss:.5f}-{categorical_accuracy:.5f}-{val_loss:.5f}-{val_categorical_accuracy:.5f}.h5'\n",
    "\n",
    "checkpoint = ModelCheckpoint(filepath, monitor='val_loss', verbose=1, save_best_only=True, save_weights_only=False, mode='auto', period=1)\n",
    "#ES=EarlyStopping(monitor='categorical_accuracy',patience=4)\n",
    "LR = ReduceLROnPlateau(monitor='val_loss',factor=0.1,patience=6)# write the REducelronplateau code here\n",
    "callbacks_list = [checkpoint, LR]"
   ]
  },
  {
   "cell_type": "code",
   "execution_count": 51,
   "metadata": {},
   "outputs": [],
   "source": [
    "train_generator = generator(train_path, train_doc, batch_size)\n",
    "val_generator = generator(val_path, val_doc, batch_size)"
   ]
  },
  {
   "cell_type": "code",
   "execution_count": 53,
   "metadata": {},
   "outputs": [],
   "source": [
    "if (num_train_sequences%batch_size) == 0:\n",
    "    steps_per_epoch = int(num_train_sequences/batch_size)\n",
    "else:\n",
    "    steps_per_epoch = (num_train_sequences//batch_size) + 1\n",
    "\n",
    "if (num_val_sequences%batch_size) == 0:\n",
    "    validation_steps = int(num_val_sequences/batch_size)\n",
    "else:\n",
    "    validation_steps = (num_val_sequences//batch_size) + 1"
   ]
  },
  {
   "cell_type": "code",
   "execution_count": 54,
   "metadata": {},
   "outputs": [
    {
     "name": "stdout",
     "output_type": "stream",
     "text": [
      "Source path =  /home/datasets/Project_data/train ; batch size = 30\n",
      "Epoch 1/25\n",
      "23/23 [==============================] - ETA: 0s - loss: 3.9153 - categorical_accuracy: 0.2870Source path =  /home/datasets/Project_data/val ; batch size = 30\n",
      "\n",
      "Epoch 00001: val_loss improved from inf to 3.45444, saving model to conv2d_Gru(conv2d+lstm(dropout_regu2))_2021-05-2607_38_02.538695/model-00001-3.91528-0.28696-3.45444-0.35000.h5\n",
      "23/23 [==============================] - 83s 4s/step - loss: 3.9153 - categorical_accuracy: 0.2870 - val_loss: 3.4544 - val_categorical_accuracy: 0.3500\n",
      "Epoch 2/25\n",
      "23/23 [==============================] - ETA: 0s - loss: 3.0094 - categorical_accuracy: 0.4435\n",
      "Epoch 00002: val_loss improved from 3.45444 to 2.62563, saving model to conv2d_Gru(conv2d+lstm(dropout_regu2))_2021-05-2607_38_02.538695/model-00002-3.00943-0.44348-2.62563-0.47500.h5\n",
      "23/23 [==============================] - 78s 3s/step - loss: 3.0094 - categorical_accuracy: 0.4435 - val_loss: 2.6256 - val_categorical_accuracy: 0.4750\n",
      "Epoch 3/25\n",
      "23/23 [==============================] - ETA: 0s - loss: 2.3152 - categorical_accuracy: 0.6145\n",
      "Epoch 00003: val_loss improved from 2.62563 to 2.37659, saving model to conv2d_Gru(conv2d+lstm(dropout_regu2))_2021-05-2607_38_02.538695/model-00003-2.31518-0.61449-2.37659-0.54167.h5\n",
      "23/23 [==============================] - 83s 4s/step - loss: 2.3152 - categorical_accuracy: 0.6145 - val_loss: 2.3766 - val_categorical_accuracy: 0.5417\n",
      "Epoch 4/25\n",
      "23/23 [==============================] - ETA: 0s - loss: 1.8902 - categorical_accuracy: 0.6739\n",
      "Epoch 00004: val_loss improved from 2.37659 to 1.94102, saving model to conv2d_Gru(conv2d+lstm(dropout_regu2))_2021-05-2607_38_02.538695/model-00004-1.89016-0.67391-1.94102-0.71667.h5\n",
      "23/23 [==============================] - 79s 3s/step - loss: 1.8902 - categorical_accuracy: 0.6739 - val_loss: 1.9410 - val_categorical_accuracy: 0.7167\n",
      "Epoch 5/25\n",
      "23/23 [==============================] - ETA: 0s - loss: 1.5046 - categorical_accuracy: 0.7841\n",
      "Epoch 00005: val_loss did not improve from 1.94102\n",
      "23/23 [==============================] - 78s 3s/step - loss: 1.5046 - categorical_accuracy: 0.7841 - val_loss: 2.1934 - val_categorical_accuracy: 0.5167\n",
      "Epoch 6/25\n",
      "23/23 [==============================] - ETA: 0s - loss: 1.2693 - categorical_accuracy: 0.8522\n",
      "Epoch 00006: val_loss improved from 1.94102 to 1.72787, saving model to conv2d_Gru(conv2d+lstm(dropout_regu2))_2021-05-2607_38_02.538695/model-00006-1.26931-0.85217-1.72787-0.65833.h5\n",
      "23/23 [==============================] - 82s 4s/step - loss: 1.2693 - categorical_accuracy: 0.8522 - val_loss: 1.7279 - val_categorical_accuracy: 0.6583\n",
      "Epoch 7/25\n",
      "23/23 [==============================] - ETA: 0s - loss: 1.1564 - categorical_accuracy: 0.8522\n",
      "Epoch 00007: val_loss did not improve from 1.72787\n",
      "23/23 [==============================] - 78s 3s/step - loss: 1.1564 - categorical_accuracy: 0.8522 - val_loss: 1.7335 - val_categorical_accuracy: 0.6333\n",
      "Epoch 8/25\n",
      "23/23 [==============================] - ETA: 0s - loss: 0.9611 - categorical_accuracy: 0.9159\n",
      "Epoch 00008: val_loss improved from 1.72787 to 1.52191, saving model to conv2d_Gru(conv2d+lstm(dropout_regu2))_2021-05-2607_38_02.538695/model-00008-0.96109-0.91594-1.52191-0.68333.h5\n",
      "23/23 [==============================] - 79s 3s/step - loss: 0.9611 - categorical_accuracy: 0.9159 - val_loss: 1.5219 - val_categorical_accuracy: 0.6833\n",
      "Epoch 9/25\n",
      "23/23 [==============================] - ETA: 0s - loss: 0.8096 - categorical_accuracy: 0.9435\n",
      "Epoch 00009: val_loss improved from 1.52191 to 1.36638, saving model to conv2d_Gru(conv2d+lstm(dropout_regu2))_2021-05-2607_38_02.538695/model-00009-0.80963-0.94348-1.36638-0.71667.h5\n",
      "23/23 [==============================] - 85s 4s/step - loss: 0.8096 - categorical_accuracy: 0.9435 - val_loss: 1.3664 - val_categorical_accuracy: 0.7167\n",
      "Epoch 10/25\n",
      "23/23 [==============================] - ETA: 0s - loss: 0.7183 - categorical_accuracy: 0.9623\n",
      "Epoch 00010: val_loss improved from 1.36638 to 1.27647, saving model to conv2d_Gru(conv2d+lstm(dropout_regu2))_2021-05-2607_38_02.538695/model-00010-0.71834-0.96232-1.27647-0.78333.h5\n",
      "23/23 [==============================] - 81s 4s/step - loss: 0.7183 - categorical_accuracy: 0.9623 - val_loss: 1.2765 - val_categorical_accuracy: 0.7833\n",
      "Epoch 11/25\n",
      "23/23 [==============================] - ETA: 0s - loss: 0.6658 - categorical_accuracy: 0.9710\n",
      "Epoch 00011: val_loss improved from 1.27647 to 1.27045, saving model to conv2d_Gru(conv2d+lstm(dropout_regu2))_2021-05-2607_38_02.538695/model-00011-0.66580-0.97101-1.27045-0.72500.h5\n",
      "23/23 [==============================] - 78s 3s/step - loss: 0.6658 - categorical_accuracy: 0.9710 - val_loss: 1.2705 - val_categorical_accuracy: 0.7250\n",
      "Epoch 12/25\n",
      "23/23 [==============================] - ETA: 0s - loss: 0.6835 - categorical_accuracy: 0.9623\n",
      "Epoch 00012: val_loss improved from 1.27045 to 1.22493, saving model to conv2d_Gru(conv2d+lstm(dropout_regu2))_2021-05-2607_38_02.538695/model-00012-0.68354-0.96232-1.22493-0.76667.h5\n",
      "23/23 [==============================] - 80s 3s/step - loss: 0.6835 - categorical_accuracy: 0.9623 - val_loss: 1.2249 - val_categorical_accuracy: 0.7667\n",
      "Epoch 13/25\n",
      "23/23 [==============================] - ETA: 0s - loss: 0.6033 - categorical_accuracy: 0.9739\n",
      "Epoch 00013: val_loss did not improve from 1.22493\n",
      "23/23 [==============================] - 80s 3s/step - loss: 0.6033 - categorical_accuracy: 0.9739 - val_loss: 1.4082 - val_categorical_accuracy: 0.7250\n",
      "Epoch 14/25\n",
      "23/23 [==============================] - ETA: 0s - loss: 0.5160 - categorical_accuracy: 0.9928\n",
      "Epoch 00014: val_loss did not improve from 1.22493\n",
      "23/23 [==============================] - 80s 3s/step - loss: 0.5160 - categorical_accuracy: 0.9928 - val_loss: 1.3933 - val_categorical_accuracy: 0.6667\n",
      "Epoch 15/25\n",
      "23/23 [==============================] - ETA: 0s - loss: 0.4976 - categorical_accuracy: 0.9884\n",
      "Epoch 00015: val_loss did not improve from 1.22493\n",
      "23/23 [==============================] - 77s 3s/step - loss: 0.4976 - categorical_accuracy: 0.9884 - val_loss: 1.4122 - val_categorical_accuracy: 0.7000\n",
      "Epoch 16/25\n",
      "23/23 [==============================] - ETA: 0s - loss: 0.4511 - categorical_accuracy: 0.9971\n",
      "Epoch 00016: val_loss did not improve from 1.22493\n",
      "23/23 [==============================] - 80s 3s/step - loss: 0.4511 - categorical_accuracy: 0.9971 - val_loss: 1.2687 - val_categorical_accuracy: 0.7500\n",
      "Epoch 17/25\n",
      "23/23 [==============================] - ETA: 0s - loss: 0.4140 - categorical_accuracy: 1.0000\n",
      "Epoch 00017: val_loss did not improve from 1.22493\n",
      "23/23 [==============================] - 81s 4s/step - loss: 0.4140 - categorical_accuracy: 1.0000 - val_loss: 1.5675 - val_categorical_accuracy: 0.6750\n",
      "Epoch 18/25\n",
      "23/23 [==============================] - ETA: 0s - loss: 0.3861 - categorical_accuracy: 1.0000\n",
      "Epoch 00018: val_loss did not improve from 1.22493\n",
      "23/23 [==============================] - 78s 3s/step - loss: 0.3861 - categorical_accuracy: 1.0000 - val_loss: 1.5144 - val_categorical_accuracy: 0.6417\n",
      "Epoch 19/25\n",
      "23/23 [==============================] - ETA: 0s - loss: 0.3719 - categorical_accuracy: 1.0000\n",
      "Epoch 00019: val_loss did not improve from 1.22493\n",
      "23/23 [==============================] - 80s 3s/step - loss: 0.3719 - categorical_accuracy: 1.0000 - val_loss: 1.3468 - val_categorical_accuracy: 0.7250\n",
      "Epoch 20/25\n",
      "23/23 [==============================] - ETA: 0s - loss: 0.3684 - categorical_accuracy: 1.0000\n",
      "Epoch 00020: val_loss did not improve from 1.22493\n",
      "23/23 [==============================] - 79s 3s/step - loss: 0.3684 - categorical_accuracy: 1.0000 - val_loss: 1.2908 - val_categorical_accuracy: 0.7250\n",
      "Epoch 21/25\n",
      "23/23 [==============================] - ETA: 0s - loss: 0.3666 - categorical_accuracy: 1.0000\n",
      "Epoch 00021: val_loss did not improve from 1.22493\n",
      "23/23 [==============================] - 80s 3s/step - loss: 0.3666 - categorical_accuracy: 1.0000 - val_loss: 1.3812 - val_categorical_accuracy: 0.7083\n",
      "Epoch 22/25\n",
      "23/23 [==============================] - ETA: 0s - loss: 0.3635 - categorical_accuracy: 1.0000\n",
      "Epoch 00022: val_loss did not improve from 1.22493\n",
      "23/23 [==============================] - 78s 3s/step - loss: 0.3635 - categorical_accuracy: 1.0000 - val_loss: 1.4258 - val_categorical_accuracy: 0.6917\n",
      "Epoch 23/25\n",
      " 3/23 [==>...........................] - ETA: 38s - loss: 0.3621 - categorical_accuracy: 1.0000"
     ]
    },
    {
     "ename": "KeyboardInterrupt",
     "evalue": "",
     "output_type": "error",
     "traceback": [
      "\u001b[0;31m---------------------------------------------------------------------------\u001b[0m",
      "\u001b[0;31mKeyboardInterrupt\u001b[0m                         Traceback (most recent call last)",
      "\u001b[0;32m<ipython-input-54-506970be261c>\u001b[0m in \u001b[0;36m<module>\u001b[0;34m\u001b[0m\n\u001b[1;32m      1\u001b[0m history=model5.fit(train_generator, steps_per_epoch=steps_per_epoch, epochs=25, verbose=1, \n\u001b[1;32m      2\u001b[0m                     \u001b[0mcallbacks\u001b[0m\u001b[0;34m=\u001b[0m\u001b[0mcallbacks_list\u001b[0m\u001b[0;34m,\u001b[0m \u001b[0mvalidation_data\u001b[0m\u001b[0;34m=\u001b[0m\u001b[0mval_generator\u001b[0m\u001b[0;34m,\u001b[0m\u001b[0;34m\u001b[0m\u001b[0;34m\u001b[0m\u001b[0m\n\u001b[0;32m----> 3\u001b[0;31m                     validation_steps=validation_steps, class_weight=None, workers=1, initial_epoch=0)\n\u001b[0m",
      "\u001b[0;32m/usr/local/lib/python3.6/dist-packages/tensorflow/python/keras/engine/training.py\u001b[0m in \u001b[0;36m_method_wrapper\u001b[0;34m(self, *args, **kwargs)\u001b[0m\n\u001b[1;32m    106\u001b[0m   \u001b[0;32mdef\u001b[0m \u001b[0m_method_wrapper\u001b[0m\u001b[0;34m(\u001b[0m\u001b[0mself\u001b[0m\u001b[0;34m,\u001b[0m \u001b[0;34m*\u001b[0m\u001b[0margs\u001b[0m\u001b[0;34m,\u001b[0m \u001b[0;34m**\u001b[0m\u001b[0mkwargs\u001b[0m\u001b[0;34m)\u001b[0m\u001b[0;34m:\u001b[0m\u001b[0;34m\u001b[0m\u001b[0;34m\u001b[0m\u001b[0m\n\u001b[1;32m    107\u001b[0m     \u001b[0;32mif\u001b[0m \u001b[0;32mnot\u001b[0m \u001b[0mself\u001b[0m\u001b[0;34m.\u001b[0m\u001b[0m_in_multi_worker_mode\u001b[0m\u001b[0;34m(\u001b[0m\u001b[0;34m)\u001b[0m\u001b[0;34m:\u001b[0m  \u001b[0;31m# pylint: disable=protected-access\u001b[0m\u001b[0;34m\u001b[0m\u001b[0;34m\u001b[0m\u001b[0m\n\u001b[0;32m--> 108\u001b[0;31m       \u001b[0;32mreturn\u001b[0m \u001b[0mmethod\u001b[0m\u001b[0;34m(\u001b[0m\u001b[0mself\u001b[0m\u001b[0;34m,\u001b[0m \u001b[0;34m*\u001b[0m\u001b[0margs\u001b[0m\u001b[0;34m,\u001b[0m \u001b[0;34m**\u001b[0m\u001b[0mkwargs\u001b[0m\u001b[0;34m)\u001b[0m\u001b[0;34m\u001b[0m\u001b[0;34m\u001b[0m\u001b[0m\n\u001b[0m\u001b[1;32m    109\u001b[0m \u001b[0;34m\u001b[0m\u001b[0m\n\u001b[1;32m    110\u001b[0m     \u001b[0;31m# Running inside `run_distribute_coordinator` already.\u001b[0m\u001b[0;34m\u001b[0m\u001b[0;34m\u001b[0m\u001b[0;34m\u001b[0m\u001b[0m\n",
      "\u001b[0;32m/usr/local/lib/python3.6/dist-packages/tensorflow/python/keras/engine/training.py\u001b[0m in \u001b[0;36mfit\u001b[0;34m(self, x, y, batch_size, epochs, verbose, callbacks, validation_split, validation_data, shuffle, class_weight, sample_weight, initial_epoch, steps_per_epoch, validation_steps, validation_batch_size, validation_freq, max_queue_size, workers, use_multiprocessing)\u001b[0m\n\u001b[1;32m   1096\u001b[0m                 batch_size=batch_size):\n\u001b[1;32m   1097\u001b[0m               \u001b[0mcallbacks\u001b[0m\u001b[0;34m.\u001b[0m\u001b[0mon_train_batch_begin\u001b[0m\u001b[0;34m(\u001b[0m\u001b[0mstep\u001b[0m\u001b[0;34m)\u001b[0m\u001b[0;34m\u001b[0m\u001b[0;34m\u001b[0m\u001b[0m\n\u001b[0;32m-> 1098\u001b[0;31m               \u001b[0mtmp_logs\u001b[0m \u001b[0;34m=\u001b[0m \u001b[0mtrain_function\u001b[0m\u001b[0;34m(\u001b[0m\u001b[0miterator\u001b[0m\u001b[0;34m)\u001b[0m\u001b[0;34m\u001b[0m\u001b[0;34m\u001b[0m\u001b[0m\n\u001b[0m\u001b[1;32m   1099\u001b[0m               \u001b[0;32mif\u001b[0m \u001b[0mdata_handler\u001b[0m\u001b[0;34m.\u001b[0m\u001b[0mshould_sync\u001b[0m\u001b[0;34m:\u001b[0m\u001b[0;34m\u001b[0m\u001b[0;34m\u001b[0m\u001b[0m\n\u001b[1;32m   1100\u001b[0m                 \u001b[0mcontext\u001b[0m\u001b[0;34m.\u001b[0m\u001b[0masync_wait\u001b[0m\u001b[0;34m(\u001b[0m\u001b[0;34m)\u001b[0m\u001b[0;34m\u001b[0m\u001b[0;34m\u001b[0m\u001b[0m\n",
      "\u001b[0;32m/usr/local/lib/python3.6/dist-packages/tensorflow/python/eager/def_function.py\u001b[0m in \u001b[0;36m__call__\u001b[0;34m(self, *args, **kwds)\u001b[0m\n\u001b[1;32m    778\u001b[0m       \u001b[0;32melse\u001b[0m\u001b[0;34m:\u001b[0m\u001b[0;34m\u001b[0m\u001b[0;34m\u001b[0m\u001b[0m\n\u001b[1;32m    779\u001b[0m         \u001b[0mcompiler\u001b[0m \u001b[0;34m=\u001b[0m \u001b[0;34m\"nonXla\"\u001b[0m\u001b[0;34m\u001b[0m\u001b[0;34m\u001b[0m\u001b[0m\n\u001b[0;32m--> 780\u001b[0;31m         \u001b[0mresult\u001b[0m \u001b[0;34m=\u001b[0m \u001b[0mself\u001b[0m\u001b[0;34m.\u001b[0m\u001b[0m_call\u001b[0m\u001b[0;34m(\u001b[0m\u001b[0;34m*\u001b[0m\u001b[0margs\u001b[0m\u001b[0;34m,\u001b[0m \u001b[0;34m**\u001b[0m\u001b[0mkwds\u001b[0m\u001b[0;34m)\u001b[0m\u001b[0;34m\u001b[0m\u001b[0;34m\u001b[0m\u001b[0m\n\u001b[0m\u001b[1;32m    781\u001b[0m \u001b[0;34m\u001b[0m\u001b[0m\n\u001b[1;32m    782\u001b[0m       \u001b[0mnew_tracing_count\u001b[0m \u001b[0;34m=\u001b[0m \u001b[0mself\u001b[0m\u001b[0;34m.\u001b[0m\u001b[0m_get_tracing_count\u001b[0m\u001b[0;34m(\u001b[0m\u001b[0;34m)\u001b[0m\u001b[0;34m\u001b[0m\u001b[0;34m\u001b[0m\u001b[0m\n",
      "\u001b[0;32m/usr/local/lib/python3.6/dist-packages/tensorflow/python/eager/def_function.py\u001b[0m in \u001b[0;36m_call\u001b[0;34m(self, *args, **kwds)\u001b[0m\n\u001b[1;32m    805\u001b[0m       \u001b[0;31m# In this case we have created variables on the first call, so we run the\u001b[0m\u001b[0;34m\u001b[0m\u001b[0;34m\u001b[0m\u001b[0;34m\u001b[0m\u001b[0m\n\u001b[1;32m    806\u001b[0m       \u001b[0;31m# defunned version which is guaranteed to never create variables.\u001b[0m\u001b[0;34m\u001b[0m\u001b[0;34m\u001b[0m\u001b[0;34m\u001b[0m\u001b[0m\n\u001b[0;32m--> 807\u001b[0;31m       \u001b[0;32mreturn\u001b[0m \u001b[0mself\u001b[0m\u001b[0;34m.\u001b[0m\u001b[0m_stateless_fn\u001b[0m\u001b[0;34m(\u001b[0m\u001b[0;34m*\u001b[0m\u001b[0margs\u001b[0m\u001b[0;34m,\u001b[0m \u001b[0;34m**\u001b[0m\u001b[0mkwds\u001b[0m\u001b[0;34m)\u001b[0m  \u001b[0;31m# pylint: disable=not-callable\u001b[0m\u001b[0;34m\u001b[0m\u001b[0;34m\u001b[0m\u001b[0m\n\u001b[0m\u001b[1;32m    808\u001b[0m     \u001b[0;32melif\u001b[0m \u001b[0mself\u001b[0m\u001b[0;34m.\u001b[0m\u001b[0m_stateful_fn\u001b[0m \u001b[0;32mis\u001b[0m \u001b[0;32mnot\u001b[0m \u001b[0;32mNone\u001b[0m\u001b[0;34m:\u001b[0m\u001b[0;34m\u001b[0m\u001b[0;34m\u001b[0m\u001b[0m\n\u001b[1;32m    809\u001b[0m       \u001b[0;31m# Release the lock early so that multiple threads can perform the call\u001b[0m\u001b[0;34m\u001b[0m\u001b[0;34m\u001b[0m\u001b[0;34m\u001b[0m\u001b[0m\n",
      "\u001b[0;32m/usr/local/lib/python3.6/dist-packages/tensorflow/python/eager/function.py\u001b[0m in \u001b[0;36m__call__\u001b[0;34m(self, *args, **kwargs)\u001b[0m\n\u001b[1;32m   2827\u001b[0m     \u001b[0;32mwith\u001b[0m \u001b[0mself\u001b[0m\u001b[0;34m.\u001b[0m\u001b[0m_lock\u001b[0m\u001b[0;34m:\u001b[0m\u001b[0;34m\u001b[0m\u001b[0;34m\u001b[0m\u001b[0m\n\u001b[1;32m   2828\u001b[0m       \u001b[0mgraph_function\u001b[0m\u001b[0;34m,\u001b[0m \u001b[0margs\u001b[0m\u001b[0;34m,\u001b[0m \u001b[0mkwargs\u001b[0m \u001b[0;34m=\u001b[0m \u001b[0mself\u001b[0m\u001b[0;34m.\u001b[0m\u001b[0m_maybe_define_function\u001b[0m\u001b[0;34m(\u001b[0m\u001b[0margs\u001b[0m\u001b[0;34m,\u001b[0m \u001b[0mkwargs\u001b[0m\u001b[0;34m)\u001b[0m\u001b[0;34m\u001b[0m\u001b[0;34m\u001b[0m\u001b[0m\n\u001b[0;32m-> 2829\u001b[0;31m     \u001b[0;32mreturn\u001b[0m \u001b[0mgraph_function\u001b[0m\u001b[0;34m.\u001b[0m\u001b[0m_filtered_call\u001b[0m\u001b[0;34m(\u001b[0m\u001b[0margs\u001b[0m\u001b[0;34m,\u001b[0m \u001b[0mkwargs\u001b[0m\u001b[0;34m)\u001b[0m  \u001b[0;31m# pylint: disable=protected-access\u001b[0m\u001b[0;34m\u001b[0m\u001b[0;34m\u001b[0m\u001b[0m\n\u001b[0m\u001b[1;32m   2830\u001b[0m \u001b[0;34m\u001b[0m\u001b[0m\n\u001b[1;32m   2831\u001b[0m   \u001b[0;34m@\u001b[0m\u001b[0mproperty\u001b[0m\u001b[0;34m\u001b[0m\u001b[0;34m\u001b[0m\u001b[0m\n",
      "\u001b[0;32m/usr/local/lib/python3.6/dist-packages/tensorflow/python/eager/function.py\u001b[0m in \u001b[0;36m_filtered_call\u001b[0;34m(self, args, kwargs, cancellation_manager)\u001b[0m\n\u001b[1;32m   1846\u001b[0m                            resource_variable_ops.BaseResourceVariable))],\n\u001b[1;32m   1847\u001b[0m         \u001b[0mcaptured_inputs\u001b[0m\u001b[0;34m=\u001b[0m\u001b[0mself\u001b[0m\u001b[0;34m.\u001b[0m\u001b[0mcaptured_inputs\u001b[0m\u001b[0;34m,\u001b[0m\u001b[0;34m\u001b[0m\u001b[0;34m\u001b[0m\u001b[0m\n\u001b[0;32m-> 1848\u001b[0;31m         cancellation_manager=cancellation_manager)\n\u001b[0m\u001b[1;32m   1849\u001b[0m \u001b[0;34m\u001b[0m\u001b[0m\n\u001b[1;32m   1850\u001b[0m   \u001b[0;32mdef\u001b[0m \u001b[0m_call_flat\u001b[0m\u001b[0;34m(\u001b[0m\u001b[0mself\u001b[0m\u001b[0;34m,\u001b[0m \u001b[0margs\u001b[0m\u001b[0;34m,\u001b[0m \u001b[0mcaptured_inputs\u001b[0m\u001b[0;34m,\u001b[0m \u001b[0mcancellation_manager\u001b[0m\u001b[0;34m=\u001b[0m\u001b[0;32mNone\u001b[0m\u001b[0;34m)\u001b[0m\u001b[0;34m:\u001b[0m\u001b[0;34m\u001b[0m\u001b[0;34m\u001b[0m\u001b[0m\n",
      "\u001b[0;32m/usr/local/lib/python3.6/dist-packages/tensorflow/python/eager/function.py\u001b[0m in \u001b[0;36m_call_flat\u001b[0;34m(self, args, captured_inputs, cancellation_manager)\u001b[0m\n\u001b[1;32m   1922\u001b[0m       \u001b[0;31m# No tape is watching; skip to running the function.\u001b[0m\u001b[0;34m\u001b[0m\u001b[0;34m\u001b[0m\u001b[0;34m\u001b[0m\u001b[0m\n\u001b[1;32m   1923\u001b[0m       return self._build_call_outputs(self._inference_function.call(\n\u001b[0;32m-> 1924\u001b[0;31m           ctx, args, cancellation_manager=cancellation_manager))\n\u001b[0m\u001b[1;32m   1925\u001b[0m     forward_backward = self._select_forward_and_backward_functions(\n\u001b[1;32m   1926\u001b[0m         \u001b[0margs\u001b[0m\u001b[0;34m,\u001b[0m\u001b[0;34m\u001b[0m\u001b[0;34m\u001b[0m\u001b[0m\n",
      "\u001b[0;32m/usr/local/lib/python3.6/dist-packages/tensorflow/python/eager/function.py\u001b[0m in \u001b[0;36mcall\u001b[0;34m(self, ctx, args, cancellation_manager)\u001b[0m\n\u001b[1;32m    548\u001b[0m               \u001b[0minputs\u001b[0m\u001b[0;34m=\u001b[0m\u001b[0margs\u001b[0m\u001b[0;34m,\u001b[0m\u001b[0;34m\u001b[0m\u001b[0;34m\u001b[0m\u001b[0m\n\u001b[1;32m    549\u001b[0m               \u001b[0mattrs\u001b[0m\u001b[0;34m=\u001b[0m\u001b[0mattrs\u001b[0m\u001b[0;34m,\u001b[0m\u001b[0;34m\u001b[0m\u001b[0;34m\u001b[0m\u001b[0m\n\u001b[0;32m--> 550\u001b[0;31m               ctx=ctx)\n\u001b[0m\u001b[1;32m    551\u001b[0m         \u001b[0;32melse\u001b[0m\u001b[0;34m:\u001b[0m\u001b[0;34m\u001b[0m\u001b[0;34m\u001b[0m\u001b[0m\n\u001b[1;32m    552\u001b[0m           outputs = execute.execute_with_cancellation(\n",
      "\u001b[0;32m/usr/local/lib/python3.6/dist-packages/tensorflow/python/eager/execute.py\u001b[0m in \u001b[0;36mquick_execute\u001b[0;34m(op_name, num_outputs, inputs, attrs, ctx, name)\u001b[0m\n\u001b[1;32m     58\u001b[0m     \u001b[0mctx\u001b[0m\u001b[0;34m.\u001b[0m\u001b[0mensure_initialized\u001b[0m\u001b[0;34m(\u001b[0m\u001b[0;34m)\u001b[0m\u001b[0;34m\u001b[0m\u001b[0;34m\u001b[0m\u001b[0m\n\u001b[1;32m     59\u001b[0m     tensors = pywrap_tfe.TFE_Py_Execute(ctx._handle, device_name, op_name,\n\u001b[0;32m---> 60\u001b[0;31m                                         inputs, attrs, num_outputs)\n\u001b[0m\u001b[1;32m     61\u001b[0m   \u001b[0;32mexcept\u001b[0m \u001b[0mcore\u001b[0m\u001b[0;34m.\u001b[0m\u001b[0m_NotOkStatusException\u001b[0m \u001b[0;32mas\u001b[0m \u001b[0me\u001b[0m\u001b[0;34m:\u001b[0m\u001b[0;34m\u001b[0m\u001b[0;34m\u001b[0m\u001b[0m\n\u001b[1;32m     62\u001b[0m     \u001b[0;32mif\u001b[0m \u001b[0mname\u001b[0m \u001b[0;32mis\u001b[0m \u001b[0;32mnot\u001b[0m \u001b[0;32mNone\u001b[0m\u001b[0;34m:\u001b[0m\u001b[0;34m\u001b[0m\u001b[0;34m\u001b[0m\u001b[0m\n",
      "\u001b[0;31mKeyboardInterrupt\u001b[0m: "
     ]
    }
   ],
   "source": [
    "history=model5.fit(train_generator, steps_per_epoch=steps_per_epoch, epochs=25, verbose=1, \n",
    "                    callbacks=callbacks_list, validation_data=val_generator, \n",
    "                    validation_steps=validation_steps, class_weight=None, workers=1, initial_epoch=0)\n"
   ]
  },
  {
   "cell_type": "code",
   "execution_count": null,
   "metadata": {},
   "outputs": [],
   "source": [
    "fro"
   ]
  }
 ],
 "metadata": {
  "kernelspec": {
   "display_name": "Python 3",
   "language": "python",
   "name": "python3"
  },
  "language_info": {
   "codemirror_mode": {
    "name": "ipython",
    "version": 3
   },
   "file_extension": ".py",
   "mimetype": "text/x-python",
   "name": "python",
   "nbconvert_exporter": "python",
   "pygments_lexer": "ipython3",
   "version": "3.6.9"
  }
 },
 "nbformat": 4,
 "nbformat_minor": 4
}
